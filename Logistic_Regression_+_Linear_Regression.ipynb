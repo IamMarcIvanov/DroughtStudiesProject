{
  "nbformat": 4,
  "nbformat_minor": 0,
  "metadata": {
    "colab": {
      "name": "Logistic Regression + Linear Regression.ipynb",
      "provenance": []
    },
    "kernelspec": {
      "name": "python3",
      "display_name": "Python 3"
    },
    "language_info": {
      "name": "python"
    }
  },
  "cells": [
    {
      "cell_type": "code",
      "metadata": {
        "id": "DiFi9H0CmTEg"
      },
      "source": [
        "import numpy as np\n",
        "import pandas as pd\n",
        "import matplotlib.pyplot as plt\n",
        "import statsmodels.api as sm\n",
        "from sklearn.preprocessing import StandardScaler\n",
        "from sklearn.metrics import r2_score\n",
        "from sklearn.linear_model import LinearRegression\n",
        "from sklearn.linear_model import LogisticRegression\n",
        "from sklearn.metrics import r2_score, mean_absolute_error, mean_squared_error\n",
        "from sklearn.model_selection import train_test_split\n",
        "from sklearn.preprocessing import PolynomialFeatures\n",
        "from sklearn.pipeline import make_pipeline\n",
        "from sklearn.metrics import (confusion_matrix, \n",
        "                           accuracy_score)"
      ],
      "execution_count": 201,
      "outputs": []
    },
    {
      "cell_type": "code",
      "metadata": {
        "colab": {
          "base_uri": "https://localhost:8080/"
        },
        "id": "UmfKyJwOmiGp",
        "outputId": "d45ac401-8484-461b-a7ba-afae4c750a91"
      },
      "source": [
        "from google.colab import drive\n",
        "drive.mount('/content/datasets')"
      ],
      "execution_count": 49,
      "outputs": [
        {
          "output_type": "stream",
          "text": [
            "Drive already mounted at /content/datasets; to attempt to forcibly remount, call drive.mount(\"/content/datasets\", force_remount=True).\n"
          ],
          "name": "stdout"
        }
      ]
    },
    {
      "cell_type": "code",
      "metadata": {
        "id": "iw5M5yhomqJn"
      },
      "source": [
        "x_path = r'/content/datasets/MyDrive/Datasets/INM-CM4-8 Data for Model Creation/Predictors/All Combined/INMCM4-8_historical_predictors_Point_1.csv'\n",
        "y_path = r'/content/datasets/MyDrive/Datasets/IMD Rainfall 0.25x0.25/NC Files/csv files/rain_Point_1.csv'\n",
        "X = pd.read_csv(x_path)\n",
        "y = pd.read_csv(y_path)"
      ],
      "execution_count": 202,
      "outputs": []
    },
    {
      "cell_type": "code",
      "metadata": {
        "id": "WyJbAheXrIm7"
      },
      "source": [
        "# y1 will hold the rainfall data for logistic regression\n",
        "y1 = pd.read_csv(y_path)"
      ],
      "execution_count": 203,
      "outputs": []
    },
    {
      "cell_type": "code",
      "metadata": {
        "id": "yQhLv3Xkm-NZ"
      },
      "source": [
        "X.drop(columns=['lon', 'lat', 'Unnamed: 0'], inplace=True)\n",
        "y.drop(columns=['LONGITUDE', 'LATITUDE'], inplace=True)\n",
        "y1.drop(columns=['LONGITUDE', 'LATITUDE'], inplace=True)"
      ],
      "execution_count": 204,
      "outputs": []
    },
    {
      "cell_type": "code",
      "metadata": {
        "id": "SLDui6VknOFn"
      },
      "source": [
        "X.drop_duplicates(keep='first', inplace=True)"
      ],
      "execution_count": 205,
      "outputs": []
    },
    {
      "cell_type": "code",
      "metadata": {
        "id": "ieSaQ8cqnD83"
      },
      "source": [
        "X.drop([i for i in range(365)], inplace=True)"
      ],
      "execution_count": 206,
      "outputs": []
    },
    {
      "cell_type": "code",
      "metadata": {
        "id": "MrNTwCyTn3PJ"
      },
      "source": [
        "y.drop([i for i in range(23376, len(y))], inplace=True)\n",
        "y1.drop([i for i in range(23376, len(y1))], inplace=True)"
      ],
      "execution_count": 207,
      "outputs": []
    },
    {
      "cell_type": "code",
      "metadata": {
        "id": "SCfSfNidnqg2"
      },
      "source": [
        "y.drop(y[y['TIME'].map(lambda s: s.split()[0][-5:]) == '02-29'].index, inplace = True)\n",
        "y1.drop(y1[y1['TIME'].map(lambda s: s.split()[0][-5:]) == '02-29'].index, inplace = True)"
      ],
      "execution_count": 208,
      "outputs": []
    },
    {
      "cell_type": "code",
      "metadata": {
        "id": "3S2NO6zqntIW"
      },
      "source": [
        "X.reset_index(inplace=True, drop=True)\n",
        "y.reset_index(inplace=True, drop=True)\n",
        "y1.reset_index(inplace=True, drop=True)"
      ],
      "execution_count": 209,
      "outputs": []
    },
    {
      "cell_type": "code",
      "metadata": {
        "id": "-DumpMWuoPmz"
      },
      "source": [
        "X_dtCol = pd.to_datetime(X['time'], format='%Y-%m-%d %H:%M:%S')\n",
        "X['time'] = X_dtCol"
      ],
      "execution_count": 210,
      "outputs": []
    },
    {
      "cell_type": "code",
      "metadata": {
        "id": "JM3x6VhMoUen"
      },
      "source": [
        "X['day'] = X['time'].dt.day\n",
        "X['month'] = X['time'].dt.month\n",
        "X['year'] = X['time'].dt.year\n",
        "X.drop(columns=['time'], inplace=True)"
      ],
      "execution_count": 211,
      "outputs": []
    },
    {
      "cell_type": "code",
      "metadata": {
        "colab": {
          "base_uri": "https://localhost:8080/",
          "height": 415
        },
        "id": "9aab7xy2Ddvv",
        "outputId": "f9418d69-8aba-44ef-e08d-7ed510deed80"
      },
      "source": [
        "X"
      ],
      "execution_count": 212,
      "outputs": [
        {
          "output_type": "execute_result",
          "data": {
            "text/html": [
              "<div>\n",
              "<style scoped>\n",
              "    .dataframe tbody tr th:only-of-type {\n",
              "        vertical-align: middle;\n",
              "    }\n",
              "\n",
              "    .dataframe tbody tr th {\n",
              "        vertical-align: top;\n",
              "    }\n",
              "\n",
              "    .dataframe thead th {\n",
              "        text-align: right;\n",
              "    }\n",
              "</style>\n",
              "<table border=\"1\" class=\"dataframe\">\n",
              "  <thead>\n",
              "    <tr style=\"text-align: right;\">\n",
              "      <th></th>\n",
              "      <th>huss</th>\n",
              "      <th>psl</th>\n",
              "      <th>tas</th>\n",
              "      <th>uas</th>\n",
              "      <th>vas</th>\n",
              "      <th>day</th>\n",
              "      <th>month</th>\n",
              "      <th>year</th>\n",
              "    </tr>\n",
              "  </thead>\n",
              "  <tbody>\n",
              "    <tr>\n",
              "      <th>0</th>\n",
              "      <td>0.013537</td>\n",
              "      <td>100983.783203</td>\n",
              "      <td>296.580307</td>\n",
              "      <td>0.859241</td>\n",
              "      <td>1.870992</td>\n",
              "      <td>1</td>\n",
              "      <td>1</td>\n",
              "      <td>1951</td>\n",
              "    </tr>\n",
              "    <tr>\n",
              "      <th>1</th>\n",
              "      <td>0.014403</td>\n",
              "      <td>101124.931641</td>\n",
              "      <td>296.423634</td>\n",
              "      <td>-2.060680</td>\n",
              "      <td>0.271272</td>\n",
              "      <td>2</td>\n",
              "      <td>1</td>\n",
              "      <td>1951</td>\n",
              "    </tr>\n",
              "    <tr>\n",
              "      <th>2</th>\n",
              "      <td>0.013132</td>\n",
              "      <td>101207.281738</td>\n",
              "      <td>296.367565</td>\n",
              "      <td>-3.853243</td>\n",
              "      <td>-1.015532</td>\n",
              "      <td>3</td>\n",
              "      <td>1</td>\n",
              "      <td>1951</td>\n",
              "    </tr>\n",
              "    <tr>\n",
              "      <th>3</th>\n",
              "      <td>0.013079</td>\n",
              "      <td>101189.250000</td>\n",
              "      <td>296.674225</td>\n",
              "      <td>-4.138630</td>\n",
              "      <td>-2.001815</td>\n",
              "      <td>4</td>\n",
              "      <td>1</td>\n",
              "      <td>1951</td>\n",
              "    </tr>\n",
              "    <tr>\n",
              "      <th>4</th>\n",
              "      <td>0.013681</td>\n",
              "      <td>101275.931152</td>\n",
              "      <td>296.668119</td>\n",
              "      <td>-4.534705</td>\n",
              "      <td>-0.849224</td>\n",
              "      <td>5</td>\n",
              "      <td>1</td>\n",
              "      <td>1951</td>\n",
              "    </tr>\n",
              "    <tr>\n",
              "      <th>...</th>\n",
              "      <td>...</td>\n",
              "      <td>...</td>\n",
              "      <td>...</td>\n",
              "      <td>...</td>\n",
              "      <td>...</td>\n",
              "      <td>...</td>\n",
              "      <td>...</td>\n",
              "      <td>...</td>\n",
              "    </tr>\n",
              "    <tr>\n",
              "      <th>23355</th>\n",
              "      <td>0.011010</td>\n",
              "      <td>100859.258789</td>\n",
              "      <td>295.867292</td>\n",
              "      <td>-0.294562</td>\n",
              "      <td>-2.943822</td>\n",
              "      <td>27</td>\n",
              "      <td>12</td>\n",
              "      <td>2014</td>\n",
              "    </tr>\n",
              "    <tr>\n",
              "      <th>23356</th>\n",
              "      <td>0.012659</td>\n",
              "      <td>101134.398926</td>\n",
              "      <td>296.608992</td>\n",
              "      <td>-2.815778</td>\n",
              "      <td>-0.698825</td>\n",
              "      <td>28</td>\n",
              "      <td>12</td>\n",
              "      <td>2014</td>\n",
              "    </tr>\n",
              "    <tr>\n",
              "      <th>23357</th>\n",
              "      <td>0.014906</td>\n",
              "      <td>101122.427734</td>\n",
              "      <td>297.672783</td>\n",
              "      <td>-3.172361</td>\n",
              "      <td>-0.537482</td>\n",
              "      <td>29</td>\n",
              "      <td>12</td>\n",
              "      <td>2014</td>\n",
              "    </tr>\n",
              "    <tr>\n",
              "      <th>23358</th>\n",
              "      <td>0.016869</td>\n",
              "      <td>101040.858398</td>\n",
              "      <td>297.839441</td>\n",
              "      <td>-3.657494</td>\n",
              "      <td>-0.288831</td>\n",
              "      <td>30</td>\n",
              "      <td>12</td>\n",
              "      <td>2014</td>\n",
              "    </tr>\n",
              "    <tr>\n",
              "      <th>23359</th>\n",
              "      <td>0.017320</td>\n",
              "      <td>101036.821289</td>\n",
              "      <td>297.850990</td>\n",
              "      <td>-4.298790</td>\n",
              "      <td>0.712237</td>\n",
              "      <td>31</td>\n",
              "      <td>12</td>\n",
              "      <td>2014</td>\n",
              "    </tr>\n",
              "  </tbody>\n",
              "</table>\n",
              "<p>23360 rows × 8 columns</p>\n",
              "</div>"
            ],
            "text/plain": [
              "           huss            psl         tas  ...  day  month  year\n",
              "0      0.013537  100983.783203  296.580307  ...    1      1  1951\n",
              "1      0.014403  101124.931641  296.423634  ...    2      1  1951\n",
              "2      0.013132  101207.281738  296.367565  ...    3      1  1951\n",
              "3      0.013079  101189.250000  296.674225  ...    4      1  1951\n",
              "4      0.013681  101275.931152  296.668119  ...    5      1  1951\n",
              "...         ...            ...         ...  ...  ...    ...   ...\n",
              "23355  0.011010  100859.258789  295.867292  ...   27     12  2014\n",
              "23356  0.012659  101134.398926  296.608992  ...   28     12  2014\n",
              "23357  0.014906  101122.427734  297.672783  ...   29     12  2014\n",
              "23358  0.016869  101040.858398  297.839441  ...   30     12  2014\n",
              "23359  0.017320  101036.821289  297.850990  ...   31     12  2014\n",
              "\n",
              "[23360 rows x 8 columns]"
            ]
          },
          "metadata": {
            "tags": []
          },
          "execution_count": 212
        }
      ]
    },
    {
      "cell_type": "code",
      "metadata": {
        "id": "cTrklEQpDfRK"
      },
      "source": [
        "Xlin = X"
      ],
      "execution_count": 213,
      "outputs": []
    },
    {
      "cell_type": "code",
      "metadata": {
        "colab": {
          "base_uri": "https://localhost:8080/",
          "height": 415
        },
        "id": "--eZQTOeDhGG",
        "outputId": "0c2feabb-6f9b-46a3-adf1-b1de8720bf5c"
      },
      "source": [
        "Xlin"
      ],
      "execution_count": 214,
      "outputs": [
        {
          "output_type": "execute_result",
          "data": {
            "text/html": [
              "<div>\n",
              "<style scoped>\n",
              "    .dataframe tbody tr th:only-of-type {\n",
              "        vertical-align: middle;\n",
              "    }\n",
              "\n",
              "    .dataframe tbody tr th {\n",
              "        vertical-align: top;\n",
              "    }\n",
              "\n",
              "    .dataframe thead th {\n",
              "        text-align: right;\n",
              "    }\n",
              "</style>\n",
              "<table border=\"1\" class=\"dataframe\">\n",
              "  <thead>\n",
              "    <tr style=\"text-align: right;\">\n",
              "      <th></th>\n",
              "      <th>huss</th>\n",
              "      <th>psl</th>\n",
              "      <th>tas</th>\n",
              "      <th>uas</th>\n",
              "      <th>vas</th>\n",
              "      <th>day</th>\n",
              "      <th>month</th>\n",
              "      <th>year</th>\n",
              "    </tr>\n",
              "  </thead>\n",
              "  <tbody>\n",
              "    <tr>\n",
              "      <th>0</th>\n",
              "      <td>0.013537</td>\n",
              "      <td>100983.783203</td>\n",
              "      <td>296.580307</td>\n",
              "      <td>0.859241</td>\n",
              "      <td>1.870992</td>\n",
              "      <td>1</td>\n",
              "      <td>1</td>\n",
              "      <td>1951</td>\n",
              "    </tr>\n",
              "    <tr>\n",
              "      <th>1</th>\n",
              "      <td>0.014403</td>\n",
              "      <td>101124.931641</td>\n",
              "      <td>296.423634</td>\n",
              "      <td>-2.060680</td>\n",
              "      <td>0.271272</td>\n",
              "      <td>2</td>\n",
              "      <td>1</td>\n",
              "      <td>1951</td>\n",
              "    </tr>\n",
              "    <tr>\n",
              "      <th>2</th>\n",
              "      <td>0.013132</td>\n",
              "      <td>101207.281738</td>\n",
              "      <td>296.367565</td>\n",
              "      <td>-3.853243</td>\n",
              "      <td>-1.015532</td>\n",
              "      <td>3</td>\n",
              "      <td>1</td>\n",
              "      <td>1951</td>\n",
              "    </tr>\n",
              "    <tr>\n",
              "      <th>3</th>\n",
              "      <td>0.013079</td>\n",
              "      <td>101189.250000</td>\n",
              "      <td>296.674225</td>\n",
              "      <td>-4.138630</td>\n",
              "      <td>-2.001815</td>\n",
              "      <td>4</td>\n",
              "      <td>1</td>\n",
              "      <td>1951</td>\n",
              "    </tr>\n",
              "    <tr>\n",
              "      <th>4</th>\n",
              "      <td>0.013681</td>\n",
              "      <td>101275.931152</td>\n",
              "      <td>296.668119</td>\n",
              "      <td>-4.534705</td>\n",
              "      <td>-0.849224</td>\n",
              "      <td>5</td>\n",
              "      <td>1</td>\n",
              "      <td>1951</td>\n",
              "    </tr>\n",
              "    <tr>\n",
              "      <th>...</th>\n",
              "      <td>...</td>\n",
              "      <td>...</td>\n",
              "      <td>...</td>\n",
              "      <td>...</td>\n",
              "      <td>...</td>\n",
              "      <td>...</td>\n",
              "      <td>...</td>\n",
              "      <td>...</td>\n",
              "    </tr>\n",
              "    <tr>\n",
              "      <th>23355</th>\n",
              "      <td>0.011010</td>\n",
              "      <td>100859.258789</td>\n",
              "      <td>295.867292</td>\n",
              "      <td>-0.294562</td>\n",
              "      <td>-2.943822</td>\n",
              "      <td>27</td>\n",
              "      <td>12</td>\n",
              "      <td>2014</td>\n",
              "    </tr>\n",
              "    <tr>\n",
              "      <th>23356</th>\n",
              "      <td>0.012659</td>\n",
              "      <td>101134.398926</td>\n",
              "      <td>296.608992</td>\n",
              "      <td>-2.815778</td>\n",
              "      <td>-0.698825</td>\n",
              "      <td>28</td>\n",
              "      <td>12</td>\n",
              "      <td>2014</td>\n",
              "    </tr>\n",
              "    <tr>\n",
              "      <th>23357</th>\n",
              "      <td>0.014906</td>\n",
              "      <td>101122.427734</td>\n",
              "      <td>297.672783</td>\n",
              "      <td>-3.172361</td>\n",
              "      <td>-0.537482</td>\n",
              "      <td>29</td>\n",
              "      <td>12</td>\n",
              "      <td>2014</td>\n",
              "    </tr>\n",
              "    <tr>\n",
              "      <th>23358</th>\n",
              "      <td>0.016869</td>\n",
              "      <td>101040.858398</td>\n",
              "      <td>297.839441</td>\n",
              "      <td>-3.657494</td>\n",
              "      <td>-0.288831</td>\n",
              "      <td>30</td>\n",
              "      <td>12</td>\n",
              "      <td>2014</td>\n",
              "    </tr>\n",
              "    <tr>\n",
              "      <th>23359</th>\n",
              "      <td>0.017320</td>\n",
              "      <td>101036.821289</td>\n",
              "      <td>297.850990</td>\n",
              "      <td>-4.298790</td>\n",
              "      <td>0.712237</td>\n",
              "      <td>31</td>\n",
              "      <td>12</td>\n",
              "      <td>2014</td>\n",
              "    </tr>\n",
              "  </tbody>\n",
              "</table>\n",
              "<p>23360 rows × 8 columns</p>\n",
              "</div>"
            ],
            "text/plain": [
              "           huss            psl         tas  ...  day  month  year\n",
              "0      0.013537  100983.783203  296.580307  ...    1      1  1951\n",
              "1      0.014403  101124.931641  296.423634  ...    2      1  1951\n",
              "2      0.013132  101207.281738  296.367565  ...    3      1  1951\n",
              "3      0.013079  101189.250000  296.674225  ...    4      1  1951\n",
              "4      0.013681  101275.931152  296.668119  ...    5      1  1951\n",
              "...         ...            ...         ...  ...  ...    ...   ...\n",
              "23355  0.011010  100859.258789  295.867292  ...   27     12  2014\n",
              "23356  0.012659  101134.398926  296.608992  ...   28     12  2014\n",
              "23357  0.014906  101122.427734  297.672783  ...   29     12  2014\n",
              "23358  0.016869  101040.858398  297.839441  ...   30     12  2014\n",
              "23359  0.017320  101036.821289  297.850990  ...   31     12  2014\n",
              "\n",
              "[23360 rows x 8 columns]"
            ]
          },
          "metadata": {
            "tags": []
          },
          "execution_count": 214
        }
      ]
    },
    {
      "cell_type": "code",
      "metadata": {
        "id": "3ctowlYjoWpC"
      },
      "source": [
        "y.drop(columns=['TIME'], inplace=True)"
      ],
      "execution_count": 215,
      "outputs": []
    },
    {
      "cell_type": "code",
      "metadata": {
        "id": "aJamnDh7FOEp"
      },
      "source": [
        "ylin = y"
      ],
      "execution_count": 216,
      "outputs": []
    },
    {
      "cell_type": "code",
      "metadata": {
        "colab": {
          "base_uri": "https://localhost:8080/",
          "height": 415
        },
        "id": "pq5EqS3uG-AL",
        "outputId": "2fcc04fe-e0f3-4a73-f784-430e073b1624"
      },
      "source": [
        "ylin"
      ],
      "execution_count": 217,
      "outputs": [
        {
          "output_type": "execute_result",
          "data": {
            "text/html": [
              "<div>\n",
              "<style scoped>\n",
              "    .dataframe tbody tr th:only-of-type {\n",
              "        vertical-align: middle;\n",
              "    }\n",
              "\n",
              "    .dataframe tbody tr th {\n",
              "        vertical-align: top;\n",
              "    }\n",
              "\n",
              "    .dataframe thead th {\n",
              "        text-align: right;\n",
              "    }\n",
              "</style>\n",
              "<table border=\"1\" class=\"dataframe\">\n",
              "  <thead>\n",
              "    <tr style=\"text-align: right;\">\n",
              "      <th></th>\n",
              "      <th>RAINFALL</th>\n",
              "    </tr>\n",
              "  </thead>\n",
              "  <tbody>\n",
              "    <tr>\n",
              "      <th>0</th>\n",
              "      <td>0.000000</td>\n",
              "    </tr>\n",
              "    <tr>\n",
              "      <th>1</th>\n",
              "      <td>0.000000</td>\n",
              "    </tr>\n",
              "    <tr>\n",
              "      <th>2</th>\n",
              "      <td>0.000000</td>\n",
              "    </tr>\n",
              "    <tr>\n",
              "      <th>3</th>\n",
              "      <td>0.000000</td>\n",
              "    </tr>\n",
              "    <tr>\n",
              "      <th>4</th>\n",
              "      <td>0.000000</td>\n",
              "    </tr>\n",
              "    <tr>\n",
              "      <th>...</th>\n",
              "      <td>...</td>\n",
              "    </tr>\n",
              "    <tr>\n",
              "      <th>23355</th>\n",
              "      <td>0.000000</td>\n",
              "    </tr>\n",
              "    <tr>\n",
              "      <th>23356</th>\n",
              "      <td>0.000000</td>\n",
              "    </tr>\n",
              "    <tr>\n",
              "      <th>23357</th>\n",
              "      <td>0.000000</td>\n",
              "    </tr>\n",
              "    <tr>\n",
              "      <th>23358</th>\n",
              "      <td>1.345410</td>\n",
              "    </tr>\n",
              "    <tr>\n",
              "      <th>23359</th>\n",
              "      <td>0.547618</td>\n",
              "    </tr>\n",
              "  </tbody>\n",
              "</table>\n",
              "<p>23360 rows × 1 columns</p>\n",
              "</div>"
            ],
            "text/plain": [
              "       RAINFALL\n",
              "0      0.000000\n",
              "1      0.000000\n",
              "2      0.000000\n",
              "3      0.000000\n",
              "4      0.000000\n",
              "...         ...\n",
              "23355  0.000000\n",
              "23356  0.000000\n",
              "23357  0.000000\n",
              "23358  1.345410\n",
              "23359  0.547618\n",
              "\n",
              "[23360 rows x 1 columns]"
            ]
          },
          "metadata": {
            "tags": []
          },
          "execution_count": 217
        }
      ]
    },
    {
      "cell_type": "code",
      "metadata": {
        "id": "vCqfCN_x2wGM"
      },
      "source": [
        "y1.drop(columns=['TIME'], inplace=True)"
      ],
      "execution_count": 218,
      "outputs": []
    },
    {
      "cell_type": "code",
      "metadata": {
        "id": "6OxoiQxMob0Y"
      },
      "source": [
        "#y['RAINFALL'].fillna(value=y['RAINFALL'].mean(), inplace=True)\n",
        "#y1['RAINFALL'].fillna(value=y1['RAINFALL'].mean(), inplace=True)"
      ],
      "execution_count": null,
      "outputs": []
    },
    {
      "cell_type": "code",
      "metadata": {
        "id": "aFNXw1Rw0ot2"
      },
      "source": [
        "y1.loc[y1['RAINFALL'] <= 0] = 0\n",
        "y1.loc[y1['RAINFALL'] > 0] = 1"
      ],
      "execution_count": 219,
      "outputs": []
    },
    {
      "cell_type": "code",
      "metadata": {
        "id": "9paFDQDb04rs"
      },
      "source": [
        "y1.fillna(0, inplace=True)"
      ],
      "execution_count": 220,
      "outputs": []
    },
    {
      "cell_type": "code",
      "metadata": {
        "id": "-kx-rqf04e_k"
      },
      "source": [
        "y1['RAINFALL'] = y1['RAINFALL'].astype(int)"
      ],
      "execution_count": 221,
      "outputs": []
    },
    {
      "cell_type": "code",
      "metadata": {
        "id": "xtE5CwWqoeL_"
      },
      "source": [
        "scaler = StandardScaler()\n",
        "X = scaler.fit_transform(X[X.columns])\n",
        "y = scaler.fit_transform(y)"
      ],
      "execution_count": 222,
      "outputs": []
    },
    {
      "cell_type": "code",
      "metadata": {
        "id": "-apsWfXPooQI"
      },
      "source": [
        "X_train, X_test, y_train, y_test = train_test_split(X, y1, test_size=0.20, random_state=42)"
      ],
      "execution_count": 223,
      "outputs": []
    },
    {
      "cell_type": "markdown",
      "metadata": {
        "id": "GcEEmkv16uzx"
      },
      "source": [
        "Logistic Regression skearn"
      ]
    },
    {
      "cell_type": "code",
      "metadata": {
        "id": "5CWhmAzq2_is",
        "colab": {
          "base_uri": "https://localhost:8080/"
        },
        "outputId": "96a26b3c-a799-4749-f1f1-595723193792"
      },
      "source": [
        "model = logisticRegr = LogisticRegression(solver = 'liblinear', C=10.0)\n",
        "model.fit(X_train, y_train)\n",
        "predictions = model.predict(X_test)\n"
      ],
      "execution_count": 224,
      "outputs": [
        {
          "output_type": "stream",
          "text": [
            "/usr/local/lib/python3.7/dist-packages/sklearn/utils/validation.py:760: DataConversionWarning: A column-vector y was passed when a 1d array was expected. Please change the shape of y to (n_samples, ), for example using ravel().\n",
            "  y = column_or_1d(y, warn=True)\n"
          ],
          "name": "stderr"
        }
      ]
    },
    {
      "cell_type": "code",
      "metadata": {
        "colab": {
          "base_uri": "https://localhost:8080/"
        },
        "id": "zp0WFhX637w0",
        "outputId": "5fdbf07d-47e6-4230-a839-09e486fabf92"
      },
      "source": [
        "score = logisticRegr.score(X_test, y_test)\n",
        "print(score)"
      ],
      "execution_count": 225,
      "outputs": [
        {
          "output_type": "stream",
          "text": [
            "0.7600599315068494\n"
          ],
          "name": "stdout"
        }
      ]
    },
    {
      "cell_type": "code",
      "metadata": {
        "id": "euv5piAYus4L"
      },
      "source": [
        "diditrain = model.predict(X)"
      ],
      "execution_count": 226,
      "outputs": []
    },
    {
      "cell_type": "code",
      "metadata": {
        "colab": {
          "base_uri": "https://localhost:8080/"
        },
        "id": "Vg7_PKnAuzBn",
        "outputId": "81bdfb58-deb6-4de6-d732-ec01f136e88a"
      },
      "source": [
        "diditrain"
      ],
      "execution_count": 227,
      "outputs": [
        {
          "output_type": "execute_result",
          "data": {
            "text/plain": [
              "array([0, 0, 0, ..., 0, 0, 0])"
            ]
          },
          "metadata": {
            "tags": []
          },
          "execution_count": 227
        }
      ]
    },
    {
      "cell_type": "code",
      "metadata": {
        "id": "TAZ7eJ7Ju2pq"
      },
      "source": [
        "did_rain = pd.DataFrame(data=diditrain)"
      ],
      "execution_count": 228,
      "outputs": []
    },
    {
      "cell_type": "code",
      "metadata": {
        "id": "X7230LtuBp7w"
      },
      "source": [
        "did_rain = did_rain.rename(columns={0:'RAINFALL'})"
      ],
      "execution_count": 229,
      "outputs": []
    },
    {
      "cell_type": "code",
      "metadata": {
        "colab": {
          "base_uri": "https://localhost:8080/",
          "height": 415
        },
        "id": "cdxeXxIICZjk",
        "outputId": "4abffaf3-d2c6-43d6-df94-cbbbebe89019"
      },
      "source": [
        "did_rain"
      ],
      "execution_count": 230,
      "outputs": [
        {
          "output_type": "execute_result",
          "data": {
            "text/html": [
              "<div>\n",
              "<style scoped>\n",
              "    .dataframe tbody tr th:only-of-type {\n",
              "        vertical-align: middle;\n",
              "    }\n",
              "\n",
              "    .dataframe tbody tr th {\n",
              "        vertical-align: top;\n",
              "    }\n",
              "\n",
              "    .dataframe thead th {\n",
              "        text-align: right;\n",
              "    }\n",
              "</style>\n",
              "<table border=\"1\" class=\"dataframe\">\n",
              "  <thead>\n",
              "    <tr style=\"text-align: right;\">\n",
              "      <th></th>\n",
              "      <th>RAINFALL</th>\n",
              "    </tr>\n",
              "  </thead>\n",
              "  <tbody>\n",
              "    <tr>\n",
              "      <th>0</th>\n",
              "      <td>0</td>\n",
              "    </tr>\n",
              "    <tr>\n",
              "      <th>1</th>\n",
              "      <td>0</td>\n",
              "    </tr>\n",
              "    <tr>\n",
              "      <th>2</th>\n",
              "      <td>0</td>\n",
              "    </tr>\n",
              "    <tr>\n",
              "      <th>3</th>\n",
              "      <td>0</td>\n",
              "    </tr>\n",
              "    <tr>\n",
              "      <th>4</th>\n",
              "      <td>0</td>\n",
              "    </tr>\n",
              "    <tr>\n",
              "      <th>...</th>\n",
              "      <td>...</td>\n",
              "    </tr>\n",
              "    <tr>\n",
              "      <th>23355</th>\n",
              "      <td>0</td>\n",
              "    </tr>\n",
              "    <tr>\n",
              "      <th>23356</th>\n",
              "      <td>0</td>\n",
              "    </tr>\n",
              "    <tr>\n",
              "      <th>23357</th>\n",
              "      <td>0</td>\n",
              "    </tr>\n",
              "    <tr>\n",
              "      <th>23358</th>\n",
              "      <td>0</td>\n",
              "    </tr>\n",
              "    <tr>\n",
              "      <th>23359</th>\n",
              "      <td>0</td>\n",
              "    </tr>\n",
              "  </tbody>\n",
              "</table>\n",
              "<p>23360 rows × 1 columns</p>\n",
              "</div>"
            ],
            "text/plain": [
              "       RAINFALL\n",
              "0             0\n",
              "1             0\n",
              "2             0\n",
              "3             0\n",
              "4             0\n",
              "...         ...\n",
              "23355         0\n",
              "23356         0\n",
              "23357         0\n",
              "23358         0\n",
              "23359         0\n",
              "\n",
              "[23360 rows x 1 columns]"
            ]
          },
          "metadata": {
            "tags": []
          },
          "execution_count": 230
        }
      ]
    },
    {
      "cell_type": "code",
      "metadata": {
        "id": "C2ugZwUYBeai"
      },
      "source": [
        "did_rain = did_rain[did_rain['RAINFALL']==1]"
      ],
      "execution_count": 231,
      "outputs": []
    },
    {
      "cell_type": "code",
      "metadata": {
        "colab": {
          "base_uri": "https://localhost:8080/",
          "height": 415
        },
        "id": "k5Y0kqP4ChOB",
        "outputId": "7f13dc93-39b2-47b8-a3ca-157da247e127"
      },
      "source": [
        "did_rain"
      ],
      "execution_count": 232,
      "outputs": [
        {
          "output_type": "execute_result",
          "data": {
            "text/html": [
              "<div>\n",
              "<style scoped>\n",
              "    .dataframe tbody tr th:only-of-type {\n",
              "        vertical-align: middle;\n",
              "    }\n",
              "\n",
              "    .dataframe tbody tr th {\n",
              "        vertical-align: top;\n",
              "    }\n",
              "\n",
              "    .dataframe thead th {\n",
              "        text-align: right;\n",
              "    }\n",
              "</style>\n",
              "<table border=\"1\" class=\"dataframe\">\n",
              "  <thead>\n",
              "    <tr style=\"text-align: right;\">\n",
              "      <th></th>\n",
              "      <th>RAINFALL</th>\n",
              "    </tr>\n",
              "  </thead>\n",
              "  <tbody>\n",
              "    <tr>\n",
              "      <th>174</th>\n",
              "      <td>1</td>\n",
              "    </tr>\n",
              "    <tr>\n",
              "      <th>180</th>\n",
              "      <td>1</td>\n",
              "    </tr>\n",
              "    <tr>\n",
              "      <th>181</th>\n",
              "      <td>1</td>\n",
              "    </tr>\n",
              "    <tr>\n",
              "      <th>182</th>\n",
              "      <td>1</td>\n",
              "    </tr>\n",
              "    <tr>\n",
              "      <th>183</th>\n",
              "      <td>1</td>\n",
              "    </tr>\n",
              "    <tr>\n",
              "      <th>...</th>\n",
              "      <td>...</td>\n",
              "    </tr>\n",
              "    <tr>\n",
              "      <th>23259</th>\n",
              "      <td>1</td>\n",
              "    </tr>\n",
              "    <tr>\n",
              "      <th>23261</th>\n",
              "      <td>1</td>\n",
              "    </tr>\n",
              "    <tr>\n",
              "      <th>23262</th>\n",
              "      <td>1</td>\n",
              "    </tr>\n",
              "    <tr>\n",
              "      <th>23263</th>\n",
              "      <td>1</td>\n",
              "    </tr>\n",
              "    <tr>\n",
              "      <th>23264</th>\n",
              "      <td>1</td>\n",
              "    </tr>\n",
              "  </tbody>\n",
              "</table>\n",
              "<p>5549 rows × 1 columns</p>\n",
              "</div>"
            ],
            "text/plain": [
              "       RAINFALL\n",
              "174           1\n",
              "180           1\n",
              "181           1\n",
              "182           1\n",
              "183           1\n",
              "...         ...\n",
              "23259         1\n",
              "23261         1\n",
              "23262         1\n",
              "23263         1\n",
              "23264         1\n",
              "\n",
              "[5549 rows x 1 columns]"
            ]
          },
          "metadata": {
            "tags": []
          },
          "execution_count": 232
        }
      ]
    },
    {
      "cell_type": "code",
      "metadata": {
        "id": "NAXOBTPZCx2K"
      },
      "source": [
        "ylin = ylin[ylin.index.isin(did_rain.index)]"
      ],
      "execution_count": 233,
      "outputs": []
    },
    {
      "cell_type": "code",
      "metadata": {
        "colab": {
          "base_uri": "https://localhost:8080/",
          "height": 415
        },
        "id": "3NudH56eDFox",
        "outputId": "ae21eb6b-8ef4-49b1-f9ca-d9fbfd27b73e"
      },
      "source": [
        "ylin"
      ],
      "execution_count": 234,
      "outputs": [
        {
          "output_type": "execute_result",
          "data": {
            "text/html": [
              "<div>\n",
              "<style scoped>\n",
              "    .dataframe tbody tr th:only-of-type {\n",
              "        vertical-align: middle;\n",
              "    }\n",
              "\n",
              "    .dataframe tbody tr th {\n",
              "        vertical-align: top;\n",
              "    }\n",
              "\n",
              "    .dataframe thead th {\n",
              "        text-align: right;\n",
              "    }\n",
              "</style>\n",
              "<table border=\"1\" class=\"dataframe\">\n",
              "  <thead>\n",
              "    <tr style=\"text-align: right;\">\n",
              "      <th></th>\n",
              "      <th>RAINFALL</th>\n",
              "    </tr>\n",
              "  </thead>\n",
              "  <tbody>\n",
              "    <tr>\n",
              "      <th>174</th>\n",
              "      <td>8.820212</td>\n",
              "    </tr>\n",
              "    <tr>\n",
              "      <th>180</th>\n",
              "      <td>0.000000</td>\n",
              "    </tr>\n",
              "    <tr>\n",
              "      <th>181</th>\n",
              "      <td>0.000000</td>\n",
              "    </tr>\n",
              "    <tr>\n",
              "      <th>182</th>\n",
              "      <td>0.000000</td>\n",
              "    </tr>\n",
              "    <tr>\n",
              "      <th>183</th>\n",
              "      <td>0.000000</td>\n",
              "    </tr>\n",
              "    <tr>\n",
              "      <th>...</th>\n",
              "      <td>...</td>\n",
              "    </tr>\n",
              "    <tr>\n",
              "      <th>23259</th>\n",
              "      <td>0.000000</td>\n",
              "    </tr>\n",
              "    <tr>\n",
              "      <th>23261</th>\n",
              "      <td>30.615278</td>\n",
              "    </tr>\n",
              "    <tr>\n",
              "      <th>23262</th>\n",
              "      <td>0.000000</td>\n",
              "    </tr>\n",
              "    <tr>\n",
              "      <th>23263</th>\n",
              "      <td>1.057206</td>\n",
              "    </tr>\n",
              "    <tr>\n",
              "      <th>23264</th>\n",
              "      <td>4.060841</td>\n",
              "    </tr>\n",
              "  </tbody>\n",
              "</table>\n",
              "<p>5549 rows × 1 columns</p>\n",
              "</div>"
            ],
            "text/plain": [
              "        RAINFALL\n",
              "174     8.820212\n",
              "180     0.000000\n",
              "181     0.000000\n",
              "182     0.000000\n",
              "183     0.000000\n",
              "...          ...\n",
              "23259   0.000000\n",
              "23261  30.615278\n",
              "23262   0.000000\n",
              "23263   1.057206\n",
              "23264   4.060841\n",
              "\n",
              "[5549 rows x 1 columns]"
            ]
          },
          "metadata": {
            "tags": []
          },
          "execution_count": 234
        }
      ]
    },
    {
      "cell_type": "code",
      "metadata": {
        "id": "Of57EcEhDwaw"
      },
      "source": [
        "Xlin = Xlin[Xlin.index.isin(did_rain.index)]"
      ],
      "execution_count": 236,
      "outputs": []
    },
    {
      "cell_type": "code",
      "metadata": {
        "colab": {
          "base_uri": "https://localhost:8080/",
          "height": 415
        },
        "id": "fOZmwF1wBUDu",
        "outputId": "f8a5f809-620f-435c-c93c-7859199c7c76"
      },
      "source": [
        "Xlin"
      ],
      "execution_count": 237,
      "outputs": [
        {
          "output_type": "execute_result",
          "data": {
            "text/html": [
              "<div>\n",
              "<style scoped>\n",
              "    .dataframe tbody tr th:only-of-type {\n",
              "        vertical-align: middle;\n",
              "    }\n",
              "\n",
              "    .dataframe tbody tr th {\n",
              "        vertical-align: top;\n",
              "    }\n",
              "\n",
              "    .dataframe thead th {\n",
              "        text-align: right;\n",
              "    }\n",
              "</style>\n",
              "<table border=\"1\" class=\"dataframe\">\n",
              "  <thead>\n",
              "    <tr style=\"text-align: right;\">\n",
              "      <th></th>\n",
              "      <th>huss</th>\n",
              "      <th>psl</th>\n",
              "      <th>tas</th>\n",
              "      <th>uas</th>\n",
              "      <th>vas</th>\n",
              "      <th>day</th>\n",
              "      <th>month</th>\n",
              "      <th>year</th>\n",
              "    </tr>\n",
              "  </thead>\n",
              "  <tbody>\n",
              "    <tr>\n",
              "      <th>174</th>\n",
              "      <td>0.021299</td>\n",
              "      <td>100100.508789</td>\n",
              "      <td>301.491533</td>\n",
              "      <td>2.601320</td>\n",
              "      <td>4.061915</td>\n",
              "      <td>24</td>\n",
              "      <td>6</td>\n",
              "      <td>1951</td>\n",
              "    </tr>\n",
              "    <tr>\n",
              "      <th>180</th>\n",
              "      <td>0.019680</td>\n",
              "      <td>100019.802734</td>\n",
              "      <td>299.649563</td>\n",
              "      <td>3.869478</td>\n",
              "      <td>4.628991</td>\n",
              "      <td>30</td>\n",
              "      <td>6</td>\n",
              "      <td>1951</td>\n",
              "    </tr>\n",
              "    <tr>\n",
              "      <th>181</th>\n",
              "      <td>0.019548</td>\n",
              "      <td>100112.823242</td>\n",
              "      <td>299.507870</td>\n",
              "      <td>4.587652</td>\n",
              "      <td>4.060770</td>\n",
              "      <td>1</td>\n",
              "      <td>7</td>\n",
              "      <td>1951</td>\n",
              "    </tr>\n",
              "    <tr>\n",
              "      <th>182</th>\n",
              "      <td>0.019766</td>\n",
              "      <td>100148.586914</td>\n",
              "      <td>299.903727</td>\n",
              "      <td>4.558264</td>\n",
              "      <td>3.726631</td>\n",
              "      <td>2</td>\n",
              "      <td>7</td>\n",
              "      <td>1951</td>\n",
              "    </tr>\n",
              "    <tr>\n",
              "      <th>183</th>\n",
              "      <td>0.020052</td>\n",
              "      <td>100150.206543</td>\n",
              "      <td>299.767683</td>\n",
              "      <td>4.451090</td>\n",
              "      <td>3.795679</td>\n",
              "      <td>3</td>\n",
              "      <td>7</td>\n",
              "      <td>1951</td>\n",
              "    </tr>\n",
              "    <tr>\n",
              "      <th>...</th>\n",
              "      <td>...</td>\n",
              "      <td>...</td>\n",
              "      <td>...</td>\n",
              "      <td>...</td>\n",
              "      <td>...</td>\n",
              "      <td>...</td>\n",
              "      <td>...</td>\n",
              "      <td>...</td>\n",
              "    </tr>\n",
              "    <tr>\n",
              "      <th>23259</th>\n",
              "      <td>0.018443</td>\n",
              "      <td>100364.908691</td>\n",
              "      <td>300.322104</td>\n",
              "      <td>2.775795</td>\n",
              "      <td>1.046591</td>\n",
              "      <td>22</td>\n",
              "      <td>9</td>\n",
              "      <td>2014</td>\n",
              "    </tr>\n",
              "    <tr>\n",
              "      <th>23261</th>\n",
              "      <td>0.019776</td>\n",
              "      <td>100563.153809</td>\n",
              "      <td>300.187410</td>\n",
              "      <td>1.696842</td>\n",
              "      <td>3.272416</td>\n",
              "      <td>24</td>\n",
              "      <td>9</td>\n",
              "      <td>2014</td>\n",
              "    </tr>\n",
              "    <tr>\n",
              "      <th>23262</th>\n",
              "      <td>0.019960</td>\n",
              "      <td>100503.102051</td>\n",
              "      <td>300.260748</td>\n",
              "      <td>2.852921</td>\n",
              "      <td>2.996651</td>\n",
              "      <td>25</td>\n",
              "      <td>9</td>\n",
              "      <td>2014</td>\n",
              "    </tr>\n",
              "    <tr>\n",
              "      <th>23263</th>\n",
              "      <td>0.020072</td>\n",
              "      <td>100405.176758</td>\n",
              "      <td>300.359875</td>\n",
              "      <td>3.241900</td>\n",
              "      <td>2.098283</td>\n",
              "      <td>26</td>\n",
              "      <td>9</td>\n",
              "      <td>2014</td>\n",
              "    </tr>\n",
              "    <tr>\n",
              "      <th>23264</th>\n",
              "      <td>0.019946</td>\n",
              "      <td>100442.466797</td>\n",
              "      <td>300.658207</td>\n",
              "      <td>2.640014</td>\n",
              "      <td>1.382342</td>\n",
              "      <td>27</td>\n",
              "      <td>9</td>\n",
              "      <td>2014</td>\n",
              "    </tr>\n",
              "  </tbody>\n",
              "</table>\n",
              "<p>5549 rows × 8 columns</p>\n",
              "</div>"
            ],
            "text/plain": [
              "           huss            psl         tas  ...  day  month  year\n",
              "174    0.021299  100100.508789  301.491533  ...   24      6  1951\n",
              "180    0.019680  100019.802734  299.649563  ...   30      6  1951\n",
              "181    0.019548  100112.823242  299.507870  ...    1      7  1951\n",
              "182    0.019766  100148.586914  299.903727  ...    2      7  1951\n",
              "183    0.020052  100150.206543  299.767683  ...    3      7  1951\n",
              "...         ...            ...         ...  ...  ...    ...   ...\n",
              "23259  0.018443  100364.908691  300.322104  ...   22      9  2014\n",
              "23261  0.019776  100563.153809  300.187410  ...   24      9  2014\n",
              "23262  0.019960  100503.102051  300.260748  ...   25      9  2014\n",
              "23263  0.020072  100405.176758  300.359875  ...   26      9  2014\n",
              "23264  0.019946  100442.466797  300.658207  ...   27      9  2014\n",
              "\n",
              "[5549 rows x 8 columns]"
            ]
          },
          "metadata": {
            "tags": []
          },
          "execution_count": 237
        }
      ]
    },
    {
      "cell_type": "code",
      "metadata": {
        "colab": {
          "base_uri": "https://localhost:8080/"
        },
        "id": "ph-rsEavFcN7",
        "outputId": "f60dbe0b-0418-4080-82fc-f68b12a45a76"
      },
      "source": [
        "ylin['RAINFALL'].fillna(value=ylin['RAINFALL'].mean(), inplace=True)"
      ],
      "execution_count": 238,
      "outputs": [
        {
          "output_type": "stream",
          "text": [
            "/usr/local/lib/python3.7/dist-packages/pandas/core/series.py:4536: SettingWithCopyWarning: \n",
            "A value is trying to be set on a copy of a slice from a DataFrame\n",
            "\n",
            "See the caveats in the documentation: https://pandas.pydata.org/pandas-docs/stable/user_guide/indexing.html#returning-a-view-versus-a-copy\n",
            "  downcast=downcast,\n"
          ],
          "name": "stderr"
        }
      ]
    },
    {
      "cell_type": "markdown",
      "metadata": {
        "id": "cBpC2Y7V61fB"
      },
      "source": [
        "Logistic Regression statsmodel.api"
      ]
    },
    {
      "cell_type": "code",
      "metadata": {
        "colab": {
          "base_uri": "https://localhost:8080/"
        },
        "id": "Mc0_pd2M5nQU",
        "outputId": "fa6e0496-7a72-4c59-ee63-0faeb27a9df3"
      },
      "source": [
        "log_reg = sm.Logit(y_train, X_train).fit()"
      ],
      "execution_count": 22,
      "outputs": [
        {
          "output_type": "stream",
          "text": [
            "Optimization terminated successfully.\n",
            "         Current function value: 0.599806\n",
            "         Iterations 5\n"
          ],
          "name": "stdout"
        }
      ]
    },
    {
      "cell_type": "code",
      "metadata": {
        "id": "5DiAn3wF5vYc",
        "colab": {
          "base_uri": "https://localhost:8080/"
        },
        "outputId": "5df63bf8-c82c-49d1-a8f3-848982347c7b"
      },
      "source": [
        "print(log_reg.summary())"
      ],
      "execution_count": 23,
      "outputs": [
        {
          "output_type": "stream",
          "text": [
            "                           Logit Regression Results                           \n",
            "==============================================================================\n",
            "Dep. Variable:               RAINFALL   No. Observations:                18688\n",
            "Model:                          Logit   Df Residuals:                    18680\n",
            "Method:                           MLE   Df Model:                            7\n",
            "Date:                Fri, 30 Apr 2021   Pseudo R-squ.:                -0.01891\n",
            "Time:                        12:16:08   Log-Likelihood:                -11209.\n",
            "converged:                       True   LL-Null:                       -11001.\n",
            "Covariance Type:            nonrobust   LLR p-value:                     1.000\n",
            "==============================================================================\n",
            "                 coef    std err          z      P>|z|      [0.025      0.975]\n",
            "------------------------------------------------------------------------------\n",
            "x1             0.5376      0.033     16.340      0.000       0.473       0.602\n",
            "x2            -0.0546      0.044     -1.238      0.216      -0.141       0.032\n",
            "x3            -0.3064      0.031     -9.755      0.000      -0.368      -0.245\n",
            "x4             0.5967      0.034     17.647      0.000       0.530       0.663\n",
            "x5            -0.1338      0.030     -4.505      0.000      -0.192      -0.076\n",
            "x6             0.0046      0.016      0.284      0.776      -0.027       0.036\n",
            "x7             0.3187      0.021     15.419      0.000       0.278       0.359\n",
            "x8            -0.0041      0.016     -0.248      0.804      -0.036       0.028\n",
            "==============================================================================\n"
          ],
          "name": "stdout"
        }
      ]
    },
    {
      "cell_type": "code",
      "metadata": {
        "id": "KKwCOOKT57-d"
      },
      "source": [
        "yhat = log_reg.predict(X_test)\n",
        "prediction = list(map(round, yhat))"
      ],
      "execution_count": 24,
      "outputs": []
    },
    {
      "cell_type": "code",
      "metadata": {
        "colab": {
          "base_uri": "https://localhost:8080/"
        },
        "id": "c5a6uwQo6HTt",
        "outputId": "a138eb06-6d19-4e30-a53e-d967a6c9b939"
      },
      "source": [
        "cm = confusion_matrix(y_test, prediction) \n",
        "print (\"Confusion Matrix : \\n\", cm) \n",
        "  \n",
        "# accuracy score of the model\n",
        "print('Test accuracy = ', accuracy_score(y_test, prediction))"
      ],
      "execution_count": 25,
      "outputs": [
        {
          "output_type": "stream",
          "text": [
            "Confusion Matrix : \n",
            " [[2212 1156]\n",
            " [ 245 1059]]\n",
            "Test accuracy =  0.7001284246575342\n"
          ],
          "name": "stdout"
        }
      ]
    },
    {
      "cell_type": "markdown",
      "metadata": {
        "id": "7Yv8Qx88D4JA"
      },
      "source": [
        "LINEAR REGRESSION IF IT RAINS"
      ]
    },
    {
      "cell_type": "code",
      "metadata": {
        "id": "VEA937yeEFJl"
      },
      "source": [
        "scaler = StandardScaler()\n",
        "Xlin = scaler.fit_transform(Xlin[Xlin.columns])"
      ],
      "execution_count": 239,
      "outputs": []
    },
    {
      "cell_type": "code",
      "metadata": {
        "id": "ZsMIW33CElHi"
      },
      "source": [
        "ylin = scaler.fit_transform(ylin)"
      ],
      "execution_count": 240,
      "outputs": []
    },
    {
      "cell_type": "code",
      "metadata": {
        "id": "vss6sW6BEzRB"
      },
      "source": [
        "X_train, X_test, y_train, y_test = train_test_split(Xlin, ylin, test_size=0.33, random_state=42)"
      ],
      "execution_count": 245,
      "outputs": []
    },
    {
      "cell_type": "code",
      "metadata": {
        "id": "epwj6HZlE3VD"
      },
      "source": [
        "model = LinearRegression()\n",
        "model.fit(X_train, y_train)\n",
        "predictions = model.predict(X_test)"
      ],
      "execution_count": 246,
      "outputs": []
    },
    {
      "cell_type": "code",
      "metadata": {
        "id": "6DtZ_mR6GYPA"
      },
      "source": [
        "predictions = np.where(predictions<=0, 0, predictions)"
      ],
      "execution_count": 247,
      "outputs": []
    },
    {
      "cell_type": "code",
      "metadata": {
        "colab": {
          "base_uri": "https://localhost:8080/"
        },
        "id": "z_QaO7fXGZFY",
        "outputId": "657e0df6-c0c3-44b0-ab91-eb418dbe1228"
      },
      "source": [
        "print('Point6: ')\n",
        "print(f'The Root Mean Square error is: {np.sqrt(mean_squared_error(y_test, predictions))}')\n",
        "print(f'The Mean Absolute error is: {mean_absolute_error(y_test, predictions)}')\n",
        "print(f'The R2 Score is: {r2_score(y_test, predictions)}')"
      ],
      "execution_count": 248,
      "outputs": [
        {
          "output_type": "stream",
          "text": [
            "Point6: \n",
            "The Root Mean Square error is: 0.9100508326255348\n",
            "The Mean Absolute error is: 0.5955258946653961\n",
            "The R2 Score is: -0.005745774396808123\n"
          ],
          "name": "stdout"
        }
      ]
    }
  ]
}