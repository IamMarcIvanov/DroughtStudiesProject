{
  "nbformat": 4,
  "nbformat_minor": 0,
  "metadata": {
    "colab": {
      "name": "neuralprophet.ipynb",
      "provenance": [],
      "collapsed_sections": [],
      "authorship_tag": "ABX9TyNeegiOyyCxmd4bZWOJfKOL",
      "include_colab_link": true
    },
    "kernelspec": {
      "name": "python3",
      "display_name": "Python 3"
    },
    "language_info": {
      "name": "python"
    },
    "widgets": {
      "application/vnd.jupyter.widget-state+json": {
        "abecf3aec22a4f9a9f78550e9f26e5a6": {
          "model_module": "@jupyter-widgets/controls",
          "model_name": "HBoxModel",
          "state": {
            "_view_name": "HBoxView",
            "_dom_classes": [],
            "_model_name": "HBoxModel",
            "_view_module": "@jupyter-widgets/controls",
            "_model_module_version": "1.5.0",
            "_view_count": null,
            "_view_module_version": "1.5.0",
            "box_style": "",
            "layout": "IPY_MODEL_799427a89a94469fa8bc5bf1fb071595",
            "_model_module": "@jupyter-widgets/controls",
            "children": [
              "IPY_MODEL_d5131e240e9e4e3bab0e629a49dc5ae5",
              "IPY_MODEL_fe3732277c9d457d8f24539c183d424d",
              "IPY_MODEL_93ed9d4b5b964c14abb17c1162290809"
            ]
          }
        },
        "799427a89a94469fa8bc5bf1fb071595": {
          "model_module": "@jupyter-widgets/base",
          "model_name": "LayoutModel",
          "state": {
            "_view_name": "LayoutView",
            "grid_template_rows": null,
            "right": null,
            "justify_content": null,
            "_view_module": "@jupyter-widgets/base",
            "overflow": null,
            "_model_module_version": "1.2.0",
            "_view_count": null,
            "flex_flow": null,
            "width": null,
            "min_width": null,
            "border": null,
            "align_items": null,
            "bottom": null,
            "_model_module": "@jupyter-widgets/base",
            "top": null,
            "grid_column": null,
            "overflow_y": null,
            "overflow_x": null,
            "grid_auto_flow": null,
            "grid_area": null,
            "grid_template_columns": null,
            "flex": null,
            "_model_name": "LayoutModel",
            "justify_items": null,
            "grid_row": null,
            "max_height": null,
            "align_content": null,
            "visibility": null,
            "align_self": null,
            "height": null,
            "min_height": null,
            "padding": null,
            "grid_auto_rows": null,
            "grid_gap": null,
            "max_width": null,
            "order": null,
            "_view_module_version": "1.2.0",
            "grid_template_areas": null,
            "object_position": null,
            "object_fit": null,
            "grid_auto_columns": null,
            "margin": null,
            "display": null,
            "left": null
          }
        },
        "d5131e240e9e4e3bab0e629a49dc5ae5": {
          "model_module": "@jupyter-widgets/controls",
          "model_name": "HTMLModel",
          "state": {
            "_view_name": "HTMLView",
            "style": "IPY_MODEL_c75661a30e5348fea5c8d5054e208c95",
            "_dom_classes": [],
            "description": "",
            "_model_name": "HTMLModel",
            "placeholder": "​",
            "_view_module": "@jupyter-widgets/controls",
            "_model_module_version": "1.5.0",
            "value": " 96%",
            "_view_count": null,
            "_view_module_version": "1.5.0",
            "description_tooltip": null,
            "_model_module": "@jupyter-widgets/controls",
            "layout": "IPY_MODEL_274f48fc911d426996bf0a78a6b27e32"
          }
        },
        "fe3732277c9d457d8f24539c183d424d": {
          "model_module": "@jupyter-widgets/controls",
          "model_name": "FloatProgressModel",
          "state": {
            "_view_name": "ProgressView",
            "style": "IPY_MODEL_f5c7ec860b3e4f02a8ab149f23536cff",
            "_dom_classes": [],
            "description": "",
            "_model_name": "FloatProgressModel",
            "bar_style": "danger",
            "max": 100,
            "_view_module": "@jupyter-widgets/controls",
            "_model_module_version": "1.5.0",
            "value": 96,
            "_view_count": null,
            "_view_module_version": "1.5.0",
            "orientation": "horizontal",
            "min": 0,
            "description_tooltip": null,
            "_model_module": "@jupyter-widgets/controls",
            "layout": "IPY_MODEL_44e453b50055487cb9321ef684e4f214"
          }
        },
        "93ed9d4b5b964c14abb17c1162290809": {
          "model_module": "@jupyter-widgets/controls",
          "model_name": "HTMLModel",
          "state": {
            "_view_name": "HTMLView",
            "style": "IPY_MODEL_6d33e9e8e7064cd8b7d7e13d5997e688",
            "_dom_classes": [],
            "description": "",
            "_model_name": "HTMLModel",
            "placeholder": "​",
            "_view_module": "@jupyter-widgets/controls",
            "_model_module_version": "1.5.0",
            "value": " 96/100 [00:00&lt;00:00, 237.58it/s]",
            "_view_count": null,
            "_view_module_version": "1.5.0",
            "description_tooltip": null,
            "_model_module": "@jupyter-widgets/controls",
            "layout": "IPY_MODEL_597d83be544f43b6a85640615f57b783"
          }
        },
        "c75661a30e5348fea5c8d5054e208c95": {
          "model_module": "@jupyter-widgets/controls",
          "model_name": "DescriptionStyleModel",
          "state": {
            "_view_name": "StyleView",
            "_model_name": "DescriptionStyleModel",
            "description_width": "",
            "_view_module": "@jupyter-widgets/base",
            "_model_module_version": "1.5.0",
            "_view_count": null,
            "_view_module_version": "1.2.0",
            "_model_module": "@jupyter-widgets/controls"
          }
        },
        "274f48fc911d426996bf0a78a6b27e32": {
          "model_module": "@jupyter-widgets/base",
          "model_name": "LayoutModel",
          "state": {
            "_view_name": "LayoutView",
            "grid_template_rows": null,
            "right": null,
            "justify_content": null,
            "_view_module": "@jupyter-widgets/base",
            "overflow": null,
            "_model_module_version": "1.2.0",
            "_view_count": null,
            "flex_flow": null,
            "width": null,
            "min_width": null,
            "border": null,
            "align_items": null,
            "bottom": null,
            "_model_module": "@jupyter-widgets/base",
            "top": null,
            "grid_column": null,
            "overflow_y": null,
            "overflow_x": null,
            "grid_auto_flow": null,
            "grid_area": null,
            "grid_template_columns": null,
            "flex": null,
            "_model_name": "LayoutModel",
            "justify_items": null,
            "grid_row": null,
            "max_height": null,
            "align_content": null,
            "visibility": null,
            "align_self": null,
            "height": null,
            "min_height": null,
            "padding": null,
            "grid_auto_rows": null,
            "grid_gap": null,
            "max_width": null,
            "order": null,
            "_view_module_version": "1.2.0",
            "grid_template_areas": null,
            "object_position": null,
            "object_fit": null,
            "grid_auto_columns": null,
            "margin": null,
            "display": null,
            "left": null
          }
        },
        "f5c7ec860b3e4f02a8ab149f23536cff": {
          "model_module": "@jupyter-widgets/controls",
          "model_name": "ProgressStyleModel",
          "state": {
            "_view_name": "StyleView",
            "_model_name": "ProgressStyleModel",
            "description_width": "",
            "_view_module": "@jupyter-widgets/base",
            "_model_module_version": "1.5.0",
            "_view_count": null,
            "_view_module_version": "1.2.0",
            "bar_color": null,
            "_model_module": "@jupyter-widgets/controls"
          }
        },
        "44e453b50055487cb9321ef684e4f214": {
          "model_module": "@jupyter-widgets/base",
          "model_name": "LayoutModel",
          "state": {
            "_view_name": "LayoutView",
            "grid_template_rows": null,
            "right": null,
            "justify_content": null,
            "_view_module": "@jupyter-widgets/base",
            "overflow": null,
            "_model_module_version": "1.2.0",
            "_view_count": null,
            "flex_flow": null,
            "width": null,
            "min_width": null,
            "border": null,
            "align_items": null,
            "bottom": null,
            "_model_module": "@jupyter-widgets/base",
            "top": null,
            "grid_column": null,
            "overflow_y": null,
            "overflow_x": null,
            "grid_auto_flow": null,
            "grid_area": null,
            "grid_template_columns": null,
            "flex": null,
            "_model_name": "LayoutModel",
            "justify_items": null,
            "grid_row": null,
            "max_height": null,
            "align_content": null,
            "visibility": null,
            "align_self": null,
            "height": null,
            "min_height": null,
            "padding": null,
            "grid_auto_rows": null,
            "grid_gap": null,
            "max_width": null,
            "order": null,
            "_view_module_version": "1.2.0",
            "grid_template_areas": null,
            "object_position": null,
            "object_fit": null,
            "grid_auto_columns": null,
            "margin": null,
            "display": null,
            "left": null
          }
        },
        "6d33e9e8e7064cd8b7d7e13d5997e688": {
          "model_module": "@jupyter-widgets/controls",
          "model_name": "DescriptionStyleModel",
          "state": {
            "_view_name": "StyleView",
            "_model_name": "DescriptionStyleModel",
            "description_width": "",
            "_view_module": "@jupyter-widgets/base",
            "_model_module_version": "1.5.0",
            "_view_count": null,
            "_view_module_version": "1.2.0",
            "_model_module": "@jupyter-widgets/controls"
          }
        },
        "597d83be544f43b6a85640615f57b783": {
          "model_module": "@jupyter-widgets/base",
          "model_name": "LayoutModel",
          "state": {
            "_view_name": "LayoutView",
            "grid_template_rows": null,
            "right": null,
            "justify_content": null,
            "_view_module": "@jupyter-widgets/base",
            "overflow": null,
            "_model_module_version": "1.2.0",
            "_view_count": null,
            "flex_flow": null,
            "width": null,
            "min_width": null,
            "border": null,
            "align_items": null,
            "bottom": null,
            "_model_module": "@jupyter-widgets/base",
            "top": null,
            "grid_column": null,
            "overflow_y": null,
            "overflow_x": null,
            "grid_auto_flow": null,
            "grid_area": null,
            "grid_template_columns": null,
            "flex": null,
            "_model_name": "LayoutModel",
            "justify_items": null,
            "grid_row": null,
            "max_height": null,
            "align_content": null,
            "visibility": null,
            "align_self": null,
            "height": null,
            "min_height": null,
            "padding": null,
            "grid_auto_rows": null,
            "grid_gap": null,
            "max_width": null,
            "order": null,
            "_view_module_version": "1.2.0",
            "grid_template_areas": null,
            "object_position": null,
            "object_fit": null,
            "grid_auto_columns": null,
            "margin": null,
            "display": null,
            "left": null
          }
        }
      }
    }
  },
  "cells": [
    {
      "cell_type": "markdown",
      "metadata": {
        "id": "view-in-github",
        "colab_type": "text"
      },
      "source": [
        "<a href=\"https://colab.research.google.com/github/IamMarcIvanov/DroughtStudiesProject/blob/master/neuralprophet.ipynb\" target=\"_parent\"><img src=\"https://colab.research.google.com/assets/colab-badge.svg\" alt=\"Open In Colab\"/></a>"
      ]
    },
    {
      "cell_type": "code",
      "metadata": {
        "id": "UbDja0CdLffR"
      },
      "source": [
        "import numpy as np\n",
        "import matplotlib.pyplot as plt\n",
        "import pandas as pd\n",
        "from neuralprophet import NeuralProphet"
      ],
      "execution_count": 7,
      "outputs": []
    },
    {
      "cell_type": "code",
      "metadata": {
        "id": "yWjJeWYMMQOM"
      },
      "source": [
        "dataset = pd.read_csv('rain_Point_1.csv')"
      ],
      "execution_count": 8,
      "outputs": []
    },
    {
      "cell_type": "code",
      "metadata": {
        "colab": {
          "base_uri": "https://localhost:8080/",
          "height": 206
        },
        "id": "tqQWgCUeMfcO",
        "outputId": "7b401490-bae2-4f8b-e456-9ae15a9d012c"
      },
      "source": [
        "dataset.head()"
      ],
      "execution_count": 9,
      "outputs": [
        {
          "output_type": "execute_result",
          "data": {
            "text/html": [
              "<div>\n",
              "<style scoped>\n",
              "    .dataframe tbody tr th:only-of-type {\n",
              "        vertical-align: middle;\n",
              "    }\n",
              "\n",
              "    .dataframe tbody tr th {\n",
              "        vertical-align: top;\n",
              "    }\n",
              "\n",
              "    .dataframe thead th {\n",
              "        text-align: right;\n",
              "    }\n",
              "</style>\n",
              "<table border=\"1\" class=\"dataframe\">\n",
              "  <thead>\n",
              "    <tr style=\"text-align: right;\">\n",
              "      <th></th>\n",
              "      <th>TIME</th>\n",
              "      <th>LONGITUDE</th>\n",
              "      <th>LATITUDE</th>\n",
              "      <th>RAINFALL</th>\n",
              "    </tr>\n",
              "  </thead>\n",
              "  <tbody>\n",
              "    <tr>\n",
              "      <th>0</th>\n",
              "      <td>1951-01-01 00:00:00</td>\n",
              "      <td>81.75</td>\n",
              "      <td>16.5</td>\n",
              "      <td>0.0</td>\n",
              "    </tr>\n",
              "    <tr>\n",
              "      <th>1</th>\n",
              "      <td>1951-01-02 00:00:00</td>\n",
              "      <td>81.75</td>\n",
              "      <td>16.5</td>\n",
              "      <td>0.0</td>\n",
              "    </tr>\n",
              "    <tr>\n",
              "      <th>2</th>\n",
              "      <td>1951-01-03 00:00:00</td>\n",
              "      <td>81.75</td>\n",
              "      <td>16.5</td>\n",
              "      <td>0.0</td>\n",
              "    </tr>\n",
              "    <tr>\n",
              "      <th>3</th>\n",
              "      <td>1951-01-04 00:00:00</td>\n",
              "      <td>81.75</td>\n",
              "      <td>16.5</td>\n",
              "      <td>0.0</td>\n",
              "    </tr>\n",
              "    <tr>\n",
              "      <th>4</th>\n",
              "      <td>1951-01-05 00:00:00</td>\n",
              "      <td>81.75</td>\n",
              "      <td>16.5</td>\n",
              "      <td>0.0</td>\n",
              "    </tr>\n",
              "  </tbody>\n",
              "</table>\n",
              "</div>"
            ],
            "text/plain": [
              "                  TIME  LONGITUDE  LATITUDE  RAINFALL\n",
              "0  1951-01-01 00:00:00      81.75      16.5       0.0\n",
              "1  1951-01-02 00:00:00      81.75      16.5       0.0\n",
              "2  1951-01-03 00:00:00      81.75      16.5       0.0\n",
              "3  1951-01-04 00:00:00      81.75      16.5       0.0\n",
              "4  1951-01-05 00:00:00      81.75      16.5       0.0"
            ]
          },
          "metadata": {
            "tags": []
          },
          "execution_count": 9
        }
      ]
    },
    {
      "cell_type": "code",
      "metadata": {
        "colab": {
          "base_uri": "https://localhost:8080/",
          "height": 423
        },
        "id": "GfsRcPmbMgoo",
        "outputId": "54ee20da-7571-4c24-fbe1-2427225b03e0"
      },
      "source": [
        "dataset.fillna(method= 'ffill')"
      ],
      "execution_count": 10,
      "outputs": [
        {
          "output_type": "execute_result",
          "data": {
            "text/html": [
              "<div>\n",
              "<style scoped>\n",
              "    .dataframe tbody tr th:only-of-type {\n",
              "        vertical-align: middle;\n",
              "    }\n",
              "\n",
              "    .dataframe tbody tr th {\n",
              "        vertical-align: top;\n",
              "    }\n",
              "\n",
              "    .dataframe thead th {\n",
              "        text-align: right;\n",
              "    }\n",
              "</style>\n",
              "<table border=\"1\" class=\"dataframe\">\n",
              "  <thead>\n",
              "    <tr style=\"text-align: right;\">\n",
              "      <th></th>\n",
              "      <th>TIME</th>\n",
              "      <th>LONGITUDE</th>\n",
              "      <th>LATITUDE</th>\n",
              "      <th>RAINFALL</th>\n",
              "    </tr>\n",
              "  </thead>\n",
              "  <tbody>\n",
              "    <tr>\n",
              "      <th>0</th>\n",
              "      <td>1951-01-01 00:00:00</td>\n",
              "      <td>81.75</td>\n",
              "      <td>16.5</td>\n",
              "      <td>0.0</td>\n",
              "    </tr>\n",
              "    <tr>\n",
              "      <th>1</th>\n",
              "      <td>1951-01-02 00:00:00</td>\n",
              "      <td>81.75</td>\n",
              "      <td>16.5</td>\n",
              "      <td>0.0</td>\n",
              "    </tr>\n",
              "    <tr>\n",
              "      <th>2</th>\n",
              "      <td>1951-01-03 00:00:00</td>\n",
              "      <td>81.75</td>\n",
              "      <td>16.5</td>\n",
              "      <td>0.0</td>\n",
              "    </tr>\n",
              "    <tr>\n",
              "      <th>3</th>\n",
              "      <td>1951-01-04 00:00:00</td>\n",
              "      <td>81.75</td>\n",
              "      <td>16.5</td>\n",
              "      <td>0.0</td>\n",
              "    </tr>\n",
              "    <tr>\n",
              "      <th>4</th>\n",
              "      <td>1951-01-05 00:00:00</td>\n",
              "      <td>81.75</td>\n",
              "      <td>16.5</td>\n",
              "      <td>0.0</td>\n",
              "    </tr>\n",
              "    <tr>\n",
              "      <th>...</th>\n",
              "      <td>...</td>\n",
              "      <td>...</td>\n",
              "      <td>...</td>\n",
              "      <td>...</td>\n",
              "    </tr>\n",
              "    <tr>\n",
              "      <th>25563</th>\n",
              "      <td>2020-12-27 00:00:00</td>\n",
              "      <td>81.75</td>\n",
              "      <td>16.5</td>\n",
              "      <td>0.0</td>\n",
              "    </tr>\n",
              "    <tr>\n",
              "      <th>25564</th>\n",
              "      <td>2020-12-28 00:00:00</td>\n",
              "      <td>81.75</td>\n",
              "      <td>16.5</td>\n",
              "      <td>0.0</td>\n",
              "    </tr>\n",
              "    <tr>\n",
              "      <th>25565</th>\n",
              "      <td>2020-12-29 00:00:00</td>\n",
              "      <td>81.75</td>\n",
              "      <td>16.5</td>\n",
              "      <td>0.0</td>\n",
              "    </tr>\n",
              "    <tr>\n",
              "      <th>25566</th>\n",
              "      <td>2020-12-30 00:00:00</td>\n",
              "      <td>81.75</td>\n",
              "      <td>16.5</td>\n",
              "      <td>0.0</td>\n",
              "    </tr>\n",
              "    <tr>\n",
              "      <th>25567</th>\n",
              "      <td>2020-12-31 00:00:00</td>\n",
              "      <td>81.75</td>\n",
              "      <td>16.5</td>\n",
              "      <td>0.0</td>\n",
              "    </tr>\n",
              "  </tbody>\n",
              "</table>\n",
              "<p>25568 rows × 4 columns</p>\n",
              "</div>"
            ],
            "text/plain": [
              "                      TIME  LONGITUDE  LATITUDE  RAINFALL\n",
              "0      1951-01-01 00:00:00      81.75      16.5       0.0\n",
              "1      1951-01-02 00:00:00      81.75      16.5       0.0\n",
              "2      1951-01-03 00:00:00      81.75      16.5       0.0\n",
              "3      1951-01-04 00:00:00      81.75      16.5       0.0\n",
              "4      1951-01-05 00:00:00      81.75      16.5       0.0\n",
              "...                    ...        ...       ...       ...\n",
              "25563  2020-12-27 00:00:00      81.75      16.5       0.0\n",
              "25564  2020-12-28 00:00:00      81.75      16.5       0.0\n",
              "25565  2020-12-29 00:00:00      81.75      16.5       0.0\n",
              "25566  2020-12-30 00:00:00      81.75      16.5       0.0\n",
              "25567  2020-12-31 00:00:00      81.75      16.5       0.0\n",
              "\n",
              "[25568 rows x 4 columns]"
            ]
          },
          "metadata": {
            "tags": []
          },
          "execution_count": 10
        }
      ]
    },
    {
      "cell_type": "code",
      "metadata": {
        "id": "zT8jffWiMlVW"
      },
      "source": [
        "dataset['TIME'] = pd.to_datetime(dataset['TIME'])"
      ],
      "execution_count": 17,
      "outputs": []
    },
    {
      "cell_type": "code",
      "metadata": {
        "colab": {
          "base_uri": "https://localhost:8080/",
          "height": 206
        },
        "id": "zOdtIND5ON9V",
        "outputId": "517e605c-343b-44d9-916c-68308d149420"
      },
      "source": [
        "dataset.head()"
      ],
      "execution_count": 23,
      "outputs": [
        {
          "output_type": "execute_result",
          "data": {
            "text/html": [
              "<div>\n",
              "<style scoped>\n",
              "    .dataframe tbody tr th:only-of-type {\n",
              "        vertical-align: middle;\n",
              "    }\n",
              "\n",
              "    .dataframe tbody tr th {\n",
              "        vertical-align: top;\n",
              "    }\n",
              "\n",
              "    .dataframe thead th {\n",
              "        text-align: right;\n",
              "    }\n",
              "</style>\n",
              "<table border=\"1\" class=\"dataframe\">\n",
              "  <thead>\n",
              "    <tr style=\"text-align: right;\">\n",
              "      <th></th>\n",
              "      <th>TIME</th>\n",
              "      <th>LONGITUDE</th>\n",
              "      <th>LATITUDE</th>\n",
              "      <th>RAINFALL</th>\n",
              "    </tr>\n",
              "  </thead>\n",
              "  <tbody>\n",
              "    <tr>\n",
              "      <th>0</th>\n",
              "      <td>1951-01-01</td>\n",
              "      <td>81.75</td>\n",
              "      <td>16.5</td>\n",
              "      <td>0.0</td>\n",
              "    </tr>\n",
              "    <tr>\n",
              "      <th>1</th>\n",
              "      <td>1951-01-02</td>\n",
              "      <td>81.75</td>\n",
              "      <td>16.5</td>\n",
              "      <td>0.0</td>\n",
              "    </tr>\n",
              "    <tr>\n",
              "      <th>2</th>\n",
              "      <td>1951-01-03</td>\n",
              "      <td>81.75</td>\n",
              "      <td>16.5</td>\n",
              "      <td>0.0</td>\n",
              "    </tr>\n",
              "    <tr>\n",
              "      <th>3</th>\n",
              "      <td>1951-01-04</td>\n",
              "      <td>81.75</td>\n",
              "      <td>16.5</td>\n",
              "      <td>0.0</td>\n",
              "    </tr>\n",
              "    <tr>\n",
              "      <th>4</th>\n",
              "      <td>1951-01-05</td>\n",
              "      <td>81.75</td>\n",
              "      <td>16.5</td>\n",
              "      <td>0.0</td>\n",
              "    </tr>\n",
              "  </tbody>\n",
              "</table>\n",
              "</div>"
            ],
            "text/plain": [
              "        TIME  LONGITUDE  LATITUDE  RAINFALL\n",
              "0 1951-01-01      81.75      16.5       0.0\n",
              "1 1951-01-02      81.75      16.5       0.0\n",
              "2 1951-01-03      81.75      16.5       0.0\n",
              "3 1951-01-04      81.75      16.5       0.0\n",
              "4 1951-01-05      81.75      16.5       0.0"
            ]
          },
          "metadata": {
            "tags": []
          },
          "execution_count": 23
        }
      ]
    },
    {
      "cell_type": "code",
      "metadata": {
        "id": "v38DwkSDOzaM"
      },
      "source": [
        "dataset.drop(columns= ['LONGITUDE', 'LATITUDE'], inplace= True)"
      ],
      "execution_count": 24,
      "outputs": []
    },
    {
      "cell_type": "code",
      "metadata": {
        "colab": {
          "base_uri": "https://localhost:8080/",
          "height": 206
        },
        "id": "XBfoIZ0GO9ST",
        "outputId": "bbf4cc85-a870-4b3b-d236-1c0159c9d4f7"
      },
      "source": [
        "dataset.head()"
      ],
      "execution_count": 25,
      "outputs": [
        {
          "output_type": "execute_result",
          "data": {
            "text/html": [
              "<div>\n",
              "<style scoped>\n",
              "    .dataframe tbody tr th:only-of-type {\n",
              "        vertical-align: middle;\n",
              "    }\n",
              "\n",
              "    .dataframe tbody tr th {\n",
              "        vertical-align: top;\n",
              "    }\n",
              "\n",
              "    .dataframe thead th {\n",
              "        text-align: right;\n",
              "    }\n",
              "</style>\n",
              "<table border=\"1\" class=\"dataframe\">\n",
              "  <thead>\n",
              "    <tr style=\"text-align: right;\">\n",
              "      <th></th>\n",
              "      <th>TIME</th>\n",
              "      <th>RAINFALL</th>\n",
              "    </tr>\n",
              "  </thead>\n",
              "  <tbody>\n",
              "    <tr>\n",
              "      <th>0</th>\n",
              "      <td>1951-01-01</td>\n",
              "      <td>0.0</td>\n",
              "    </tr>\n",
              "    <tr>\n",
              "      <th>1</th>\n",
              "      <td>1951-01-02</td>\n",
              "      <td>0.0</td>\n",
              "    </tr>\n",
              "    <tr>\n",
              "      <th>2</th>\n",
              "      <td>1951-01-03</td>\n",
              "      <td>0.0</td>\n",
              "    </tr>\n",
              "    <tr>\n",
              "      <th>3</th>\n",
              "      <td>1951-01-04</td>\n",
              "      <td>0.0</td>\n",
              "    </tr>\n",
              "    <tr>\n",
              "      <th>4</th>\n",
              "      <td>1951-01-05</td>\n",
              "      <td>0.0</td>\n",
              "    </tr>\n",
              "  </tbody>\n",
              "</table>\n",
              "</div>"
            ],
            "text/plain": [
              "        TIME  RAINFALL\n",
              "0 1951-01-01       0.0\n",
              "1 1951-01-02       0.0\n",
              "2 1951-01-03       0.0\n",
              "3 1951-01-04       0.0\n",
              "4 1951-01-05       0.0"
            ]
          },
          "metadata": {
            "tags": []
          },
          "execution_count": 25
        }
      ]
    },
    {
      "cell_type": "code",
      "metadata": {
        "colab": {
          "base_uri": "https://localhost:8080/"
        },
        "id": "8RJkpLt7O_Dv",
        "outputId": "d92f3056-2ee2-40f1-9484-6006e478fce9"
      },
      "source": [
        "y_train = dataset[dataset['TIME'] < '2015-01-01']\n",
        "y_test = dataset[dataset['TIME'] > '2015-01-01']\n",
        "y_train.rename(columns= {'TIME':'ds', 'RAINFALL':'y'}, inplace= True)"
      ],
      "execution_count": 36,
      "outputs": [
        {
          "output_type": "stream",
          "text": [
            "/usr/local/lib/python3.7/dist-packages/pandas/core/frame.py:4308: SettingWithCopyWarning: \n",
            "A value is trying to be set on a copy of a slice from a DataFrame\n",
            "\n",
            "See the caveats in the documentation: https://pandas.pydata.org/pandas-docs/stable/user_guide/indexing.html#returning-a-view-versus-a-copy\n",
            "  errors=errors,\n"
          ],
          "name": "stderr"
        }
      ]
    },
    {
      "cell_type": "code",
      "metadata": {
        "id": "ayBsbf4PPVDK"
      },
      "source": [
        "model = NeuralProphet()"
      ],
      "execution_count": 95,
      "outputs": []
    },
    {
      "cell_type": "code",
      "metadata": {
        "colab": {
          "base_uri": "https://localhost:8080/",
          "height": 1000,
          "referenced_widgets": [
            "abecf3aec22a4f9a9f78550e9f26e5a6",
            "799427a89a94469fa8bc5bf1fb071595",
            "d5131e240e9e4e3bab0e629a49dc5ae5",
            "fe3732277c9d457d8f24539c183d424d",
            "93ed9d4b5b964c14abb17c1162290809",
            "c75661a30e5348fea5c8d5054e208c95",
            "274f48fc911d426996bf0a78a6b27e32",
            "f5c7ec860b3e4f02a8ab149f23536cff",
            "44e453b50055487cb9321ef684e4f214",
            "6d33e9e8e7064cd8b7d7e13d5997e688",
            "597d83be544f43b6a85640615f57b783"
          ]
        },
        "id": "ysExMBLYPc2B",
        "outputId": "3cfb69dd-71ab-4a7c-e1d0-7af8b56df4f4"
      },
      "source": [
        "model.fit(y_train, freq= 'D', epochs= 1000, validate_each_epoch= True,\n",
        "          plot_live_loss= True)"
      ],
      "execution_count": 38,
      "outputs": [
        {
          "output_type": "display_data",
          "data": {
            "image/png": "[encoded data removed]",
            "text/plain": [
              "<Figure size 864x576 with 2 Axes>"
            ]
          },
          "metadata": {
            "tags": [],
            "needs_background": "light"
          }
        },
        {
          "output_type": "stream",
          "text": [
            "Epoch[1000/1000]: 100%|██████████| 1000/1000 [10:12<00:00,  1.63it/s, SmoothL1Loss=0.197, MAE=3.86, RegLoss=0, MAE_val=4.5, SmoothL1Loss_val=0.217]\n"
          ],
          "name": "stderr"
        },
        {
          "output_type": "execute_result",
          "data": {
            "text/html": [
              "<div>\n",
              "<style scoped>\n",
              "    .dataframe tbody tr th:only-of-type {\n",
              "        vertical-align: middle;\n",
              "    }\n",
              "\n",
              "    .dataframe tbody tr th {\n",
              "        vertical-align: top;\n",
              "    }\n",
              "\n",
              "    .dataframe thead th {\n",
              "        text-align: right;\n",
              "    }\n",
              "</style>\n",
              "<table border=\"1\" class=\"dataframe\">\n",
              "  <thead>\n",
              "    <tr style=\"text-align: right;\">\n",
              "      <th></th>\n",
              "      <th>SmoothL1Loss</th>\n",
              "      <th>MAE</th>\n",
              "      <th>RegLoss</th>\n",
              "      <th>SmoothL1Loss_val</th>\n",
              "      <th>MAE_val</th>\n",
              "    </tr>\n",
              "  </thead>\n",
              "  <tbody>\n",
              "    <tr>\n",
              "      <th>0</th>\n",
              "      <td>0.237026</td>\n",
              "      <td>4.895437</td>\n",
              "      <td>0.0</td>\n",
              "      <td>0.219487</td>\n",
              "      <td>4.561127</td>\n",
              "    </tr>\n",
              "    <tr>\n",
              "      <th>1</th>\n",
              "      <td>0.198816</td>\n",
              "      <td>4.000590</td>\n",
              "      <td>0.0</td>\n",
              "      <td>0.216775</td>\n",
              "      <td>4.329025</td>\n",
              "    </tr>\n",
              "    <tr>\n",
              "      <th>2</th>\n",
              "      <td>0.198798</td>\n",
              "      <td>3.985149</td>\n",
              "      <td>0.0</td>\n",
              "      <td>0.216297</td>\n",
              "      <td>4.328121</td>\n",
              "    </tr>\n",
              "    <tr>\n",
              "      <th>3</th>\n",
              "      <td>0.198473</td>\n",
              "      <td>3.974977</td>\n",
              "      <td>0.0</td>\n",
              "      <td>0.218724</td>\n",
              "      <td>4.504980</td>\n",
              "    </tr>\n",
              "    <tr>\n",
              "      <th>4</th>\n",
              "      <td>0.199172</td>\n",
              "      <td>3.993671</td>\n",
              "      <td>0.0</td>\n",
              "      <td>0.217966</td>\n",
              "      <td>4.294569</td>\n",
              "    </tr>\n",
              "    <tr>\n",
              "      <th>...</th>\n",
              "      <td>...</td>\n",
              "      <td>...</td>\n",
              "      <td>...</td>\n",
              "      <td>...</td>\n",
              "      <td>...</td>\n",
              "    </tr>\n",
              "    <tr>\n",
              "      <th>995</th>\n",
              "      <td>0.196891</td>\n",
              "      <td>3.865356</td>\n",
              "      <td>0.0</td>\n",
              "      <td>0.217355</td>\n",
              "      <td>4.499270</td>\n",
              "    </tr>\n",
              "    <tr>\n",
              "      <th>996</th>\n",
              "      <td>0.196887</td>\n",
              "      <td>3.863732</td>\n",
              "      <td>0.0</td>\n",
              "      <td>0.217349</td>\n",
              "      <td>4.498600</td>\n",
              "    </tr>\n",
              "    <tr>\n",
              "      <th>997</th>\n",
              "      <td>0.196884</td>\n",
              "      <td>3.863921</td>\n",
              "      <td>0.0</td>\n",
              "      <td>0.217357</td>\n",
              "      <td>4.500092</td>\n",
              "    </tr>\n",
              "    <tr>\n",
              "      <th>998</th>\n",
              "      <td>0.196884</td>\n",
              "      <td>3.863238</td>\n",
              "      <td>0.0</td>\n",
              "      <td>0.217356</td>\n",
              "      <td>4.500292</td>\n",
              "    </tr>\n",
              "    <tr>\n",
              "      <th>999</th>\n",
              "      <td>0.196883</td>\n",
              "      <td>3.863699</td>\n",
              "      <td>0.0</td>\n",
              "      <td>0.217336</td>\n",
              "      <td>4.497842</td>\n",
              "    </tr>\n",
              "  </tbody>\n",
              "</table>\n",
              "<p>1000 rows × 5 columns</p>\n",
              "</div>"
            ],
            "text/plain": [
              "     SmoothL1Loss       MAE  RegLoss  SmoothL1Loss_val   MAE_val\n",
              "0        0.237026  4.895437      0.0          0.219487  4.561127\n",
              "1        0.198816  4.000590      0.0          0.216775  4.329025\n",
              "2        0.198798  3.985149      0.0          0.216297  4.328121\n",
              "3        0.198473  3.974977      0.0          0.218724  4.504980\n",
              "4        0.199172  3.993671      0.0          0.217966  4.294569\n",
              "..            ...       ...      ...               ...       ...\n",
              "995      0.196891  3.865356      0.0          0.217355  4.499270\n",
              "996      0.196887  3.863732      0.0          0.217349  4.498600\n",
              "997      0.196884  3.863921      0.0          0.217357  4.500092\n",
              "998      0.196884  3.863238      0.0          0.217356  4.500292\n",
              "999      0.196883  3.863699      0.0          0.217336  4.497842\n",
              "\n",
              "[1000 rows x 5 columns]"
            ]
          },
          "metadata": {
            "tags": []
          },
          "execution_count": 38
        }
      ]
    },
    {
      "cell_type": "code",
      "metadata": {
        "id": "NI5WkYIGP7XH"
      },
      "source": [
        "periods = y_test.shape[0]\n",
        "future = model.make_future_dataframe(y_train, periods= periods)\n",
        "forecast = model.predict(future)"
      ],
      "execution_count": 40,
      "outputs": []
    },
    {
      "cell_type": "code",
      "metadata": {
        "colab": {
          "base_uri": "https://localhost:8080/",
          "height": 206
        },
        "id": "LE7OmfQwS_KA",
        "outputId": "6fd3f79a-b9d2-4db8-ecd7-f7e9fd091d5f"
      },
      "source": [
        "forecast.head()"
      ],
      "execution_count": 42,
      "outputs": [
        {
          "output_type": "execute_result",
          "data": {
            "text/html": [
              "<div>\n",
              "<style scoped>\n",
              "    .dataframe tbody tr th:only-of-type {\n",
              "        vertical-align: middle;\n",
              "    }\n",
              "\n",
              "    .dataframe tbody tr th {\n",
              "        vertical-align: top;\n",
              "    }\n",
              "\n",
              "    .dataframe thead th {\n",
              "        text-align: right;\n",
              "    }\n",
              "</style>\n",
              "<table border=\"1\" class=\"dataframe\">\n",
              "  <thead>\n",
              "    <tr style=\"text-align: right;\">\n",
              "      <th></th>\n",
              "      <th>ds</th>\n",
              "      <th>y</th>\n",
              "      <th>yhat1</th>\n",
              "      <th>residual1</th>\n",
              "      <th>trend</th>\n",
              "      <th>season_yearly</th>\n",
              "      <th>season_weekly</th>\n",
              "    </tr>\n",
              "  </thead>\n",
              "  <tbody>\n",
              "    <tr>\n",
              "      <th>0</th>\n",
              "      <td>2015-01-01</td>\n",
              "      <td>None</td>\n",
              "      <td>1.179726</td>\n",
              "      <td>NaN</td>\n",
              "      <td>2.724717</td>\n",
              "      <td>-1.635879</td>\n",
              "      <td>0.090888</td>\n",
              "    </tr>\n",
              "    <tr>\n",
              "      <th>1</th>\n",
              "      <td>2015-01-02</td>\n",
              "      <td>None</td>\n",
              "      <td>1.005634</td>\n",
              "      <td>NaN</td>\n",
              "      <td>2.724819</td>\n",
              "      <td>-1.647450</td>\n",
              "      <td>-0.071734</td>\n",
              "    </tr>\n",
              "    <tr>\n",
              "      <th>2</th>\n",
              "      <td>2015-01-03</td>\n",
              "      <td>None</td>\n",
              "      <td>0.972407</td>\n",
              "      <td>NaN</td>\n",
              "      <td>2.724920</td>\n",
              "      <td>-1.659545</td>\n",
              "      <td>-0.092968</td>\n",
              "    </tr>\n",
              "    <tr>\n",
              "      <th>3</th>\n",
              "      <td>2015-01-04</td>\n",
              "      <td>None</td>\n",
              "      <td>0.942893</td>\n",
              "      <td>NaN</td>\n",
              "      <td>2.725022</td>\n",
              "      <td>-1.672065</td>\n",
              "      <td>-0.110064</td>\n",
              "    </tr>\n",
              "    <tr>\n",
              "      <th>4</th>\n",
              "      <td>2015-01-05</td>\n",
              "      <td>None</td>\n",
              "      <td>1.157151</td>\n",
              "      <td>NaN</td>\n",
              "      <td>2.725123</td>\n",
              "      <td>-1.684902</td>\n",
              "      <td>0.116930</td>\n",
              "    </tr>\n",
              "  </tbody>\n",
              "</table>\n",
              "</div>"
            ],
            "text/plain": [
              "          ds     y     yhat1 residual1     trend  season_yearly  season_weekly\n",
              "0 2015-01-01  None  1.179726       NaN  2.724717      -1.635879       0.090888\n",
              "1 2015-01-02  None  1.005634       NaN  2.724819      -1.647450      -0.071734\n",
              "2 2015-01-03  None  0.972407       NaN  2.724920      -1.659545      -0.092968\n",
              "3 2015-01-04  None  0.942893       NaN  2.725022      -1.672065      -0.110064\n",
              "4 2015-01-05  None  1.157151       NaN  2.725123      -1.684902       0.116930"
            ]
          },
          "metadata": {
            "tags": []
          },
          "execution_count": 42
        }
      ]
    },
    {
      "cell_type": "code",
      "metadata": {
        "colab": {
          "base_uri": "https://localhost:8080/",
          "height": 441
        },
        "id": "QEt0eCoVTISf",
        "outputId": "45138f8e-448e-443c-cb5f-6b63fb491ac5"
      },
      "source": [
        "plot1 = model.plot(forecast)"
      ],
      "execution_count": 43,
      "outputs": [
        {
          "output_type": "display_data",
          "data": {
            "image/png": "[encoded data removed]",
            "text/plain": [
              "<Figure size 720x432 with 1 Axes>"
            ]
          },
          "metadata": {
            "tags": []
          }
        }
      ]
    },
    {
      "cell_type": "code",
      "metadata": {
        "id": "kc-iYRP3b1BB"
      },
      "source": [
        "forecast = forecast.drop(columns = ['y', 'residual1', 'trend',\n",
        "                                     'season_yearly', 'season_weekly',]).set_index(y_test['TIME'])"
      ],
      "execution_count": null,
      "outputs": []
    },
    {
      "cell_type": "code",
      "metadata": {
        "id": "ylJqyVNJc2eq"
      },
      "source": [
        "forecast = forecast.drop(columns='ds')"
      ],
      "execution_count": 83,
      "outputs": []
    },
    {
      "cell_type": "code",
      "metadata": {
        "colab": {
          "base_uri": "https://localhost:8080/"
        },
        "id": "6WJcKNhoWPWg",
        "outputId": "8aebb5dc-a6f5-4048-9894-c88f8eb5e174"
      },
      "source": [
        "y_test.keys()"
      ],
      "execution_count": 64,
      "outputs": [
        {
          "output_type": "execute_result",
          "data": {
            "text/plain": [
              "Index(['TIME', 'RAINFALL'], dtype='object')"
            ]
          },
          "metadata": {
            "tags": []
          },
          "execution_count": 64
        }
      ]
    },
    {
      "cell_type": "code",
      "metadata": {
        "colab": {
          "base_uri": "https://localhost:8080/",
          "height": 455
        },
        "id": "ReZ94rWpWneg",
        "outputId": "1f2ade03-a854-4d09-a150-e4b039a8b969"
      },
      "source": [
        "y_test = y_test.set_index(y_test['TIME'])\n",
        "y_test.drop(columns= 'TIME')"
      ],
      "execution_count": 74,
      "outputs": [
        {
          "output_type": "execute_result",
          "data": {
            "text/html": [
              "<div>\n",
              "<style scoped>\n",
              "    .dataframe tbody tr th:only-of-type {\n",
              "        vertical-align: middle;\n",
              "    }\n",
              "\n",
              "    .dataframe tbody tr th {\n",
              "        vertical-align: top;\n",
              "    }\n",
              "\n",
              "    .dataframe thead th {\n",
              "        text-align: right;\n",
              "    }\n",
              "</style>\n",
              "<table border=\"1\" class=\"dataframe\">\n",
              "  <thead>\n",
              "    <tr style=\"text-align: right;\">\n",
              "      <th></th>\n",
              "      <th>RAINFALL</th>\n",
              "    </tr>\n",
              "    <tr>\n",
              "      <th>TIME</th>\n",
              "      <th></th>\n",
              "    </tr>\n",
              "  </thead>\n",
              "  <tbody>\n",
              "    <tr>\n",
              "      <th>2015-01-02</th>\n",
              "      <td>0.0</td>\n",
              "    </tr>\n",
              "    <tr>\n",
              "      <th>2015-01-03</th>\n",
              "      <td>0.0</td>\n",
              "    </tr>\n",
              "    <tr>\n",
              "      <th>2015-01-04</th>\n",
              "      <td>0.0</td>\n",
              "    </tr>\n",
              "    <tr>\n",
              "      <th>2015-01-05</th>\n",
              "      <td>0.0</td>\n",
              "    </tr>\n",
              "    <tr>\n",
              "      <th>2015-01-06</th>\n",
              "      <td>0.0</td>\n",
              "    </tr>\n",
              "    <tr>\n",
              "      <th>...</th>\n",
              "      <td>...</td>\n",
              "    </tr>\n",
              "    <tr>\n",
              "      <th>2020-12-27</th>\n",
              "      <td>0.0</td>\n",
              "    </tr>\n",
              "    <tr>\n",
              "      <th>2020-12-28</th>\n",
              "      <td>0.0</td>\n",
              "    </tr>\n",
              "    <tr>\n",
              "      <th>2020-12-29</th>\n",
              "      <td>0.0</td>\n",
              "    </tr>\n",
              "    <tr>\n",
              "      <th>2020-12-30</th>\n",
              "      <td>0.0</td>\n",
              "    </tr>\n",
              "    <tr>\n",
              "      <th>2020-12-31</th>\n",
              "      <td>0.0</td>\n",
              "    </tr>\n",
              "  </tbody>\n",
              "</table>\n",
              "<p>2191 rows × 1 columns</p>\n",
              "</div>"
            ],
            "text/plain": [
              "            RAINFALL\n",
              "TIME                \n",
              "2015-01-02       0.0\n",
              "2015-01-03       0.0\n",
              "2015-01-04       0.0\n",
              "2015-01-05       0.0\n",
              "2015-01-06       0.0\n",
              "...              ...\n",
              "2020-12-27       0.0\n",
              "2020-12-28       0.0\n",
              "2020-12-29       0.0\n",
              "2020-12-30       0.0\n",
              "2020-12-31       0.0\n",
              "\n",
              "[2191 rows x 1 columns]"
            ]
          },
          "metadata": {
            "tags": []
          },
          "execution_count": 74
        }
      ]
    },
    {
      "cell_type": "code",
      "metadata": {
        "id": "kD7vQLgkc8iP"
      },
      "source": [
        "forecast.rename(columns= {'yhat1':'Predicted'}, inplace= True)"
      ],
      "execution_count": 91,
      "outputs": []
    },
    {
      "cell_type": "code",
      "metadata": {
        "colab": {
          "base_uri": "https://localhost:8080/",
          "height": 284
        },
        "id": "qwVaaT8NXCPX",
        "outputId": "11cdcbb7-2af6-4c3d-e506-a3fbbfe011b4"
      },
      "source": [
        "plt.plot(y_test['RAINFALL'], c= 'blue')\n",
        "plt.plot(forecast['Predicted'], c='red')"
      ],
      "execution_count": 92,
      "outputs": [
        {
          "output_type": "execute_result",
          "data": {
            "text/plain": [
              "[<matplotlib.lines.Line2D at 0x7f7138ec2650>]"
            ]
          },
          "metadata": {
            "tags": []
          },
          "execution_count": 92
        },
        {
          "output_type": "display_data",
          "data": {
            "image/png": "[encoded data removed]",
            "text/plain": [
              "<Figure size 432x288 with 1 Axes>"
            ]
          },
          "metadata": {
            "tags": [],
            "needs_background": "light"
          }
        }
      ]
    },
    {
      "cell_type": "code",
      "metadata": {
        "id": "KbkoByUUcfbi"
      },
      "source": [
        "from sklearn.metrics import r2_score"
      ],
      "execution_count": 93,
      "outputs": []
    },
    {
      "cell_type": "code",
      "metadata": {
        "colab": {
          "base_uri": "https://localhost:8080/"
        },
        "id": "pf3uLgu3dkOa",
        "outputId": "1eec7b56-a007-4831-ab95-66fe634cc5e6"
      },
      "source": [
        "r2_score(y_test['RAINFALL'], forecast['Predicted'])"
      ],
      "execution_count": 94,
      "outputs": [
        {
          "output_type": "execute_result",
          "data": {
            "text/plain": [
              "0.045225545121263755"
            ]
          },
          "metadata": {
            "tags": []
          },
          "execution_count": 94
        }
      ]
    },
    {
      "cell_type": "code",
      "metadata": {
        "id": "y4RsVGFKdrrs"
      },
      "source": [
        ""
      ],
      "execution_count": null,
      "outputs": []
    }
  ]
}