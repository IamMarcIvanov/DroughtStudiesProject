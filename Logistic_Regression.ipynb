{
  "nbformat": 4,
  "nbformat_minor": 0,
  "metadata": {
    "colab": {
      "name": "Logistic Regression.ipynb",
      "provenance": []
    },
    "kernelspec": {
      "name": "python3",
      "display_name": "Python 3"
    },
    "language_info": {
      "name": "python"
    }
  },
  "cells": [
    {
      "cell_type": "code",
      "metadata": {
        "id": "DiFi9H0CmTEg"
      },
      "source": [
        "import numpy as np\n",
        "import pandas as pd\n",
        "import matplotlib.pyplot as plt\n",
        "import statsmodels.api as sm\n",
        "from sklearn.preprocessing import StandardScaler\n",
        "from sklearn.metrics import r2_score\n",
        "from sklearn.linear_model import LinearRegression\n",
        "from sklearn.linear_model import LogisticRegression\n",
        "from sklearn.model_selection import train_test_split\n",
        "from sklearn.preprocessing import PolynomialFeatures\n",
        "from sklearn.pipeline import make_pipeline\n",
        "from sklearn.metrics import (confusion_matrix, \n",
        "                           accuracy_score)"
      ],
      "execution_count": 213,
      "outputs": []
    },
    {
      "cell_type": "code",
      "metadata": {
        "colab": {
          "base_uri": "https://localhost:8080/"
        },
        "id": "UmfKyJwOmiGp",
        "outputId": "674bc145-6325-4f70-9856-e1e309c588f5"
      },
      "source": [
        "from google.colab import drive\n",
        "drive.mount('/content/datasets')"
      ],
      "execution_count": 2,
      "outputs": [
        {
          "output_type": "stream",
          "text": [
            "Mounted at /content/datasets\n"
          ],
          "name": "stdout"
        }
      ]
    },
    {
      "cell_type": "code",
      "metadata": {
        "id": "iw5M5yhomqJn"
      },
      "source": [
        "x_path = r'/content/datasets/MyDrive/Datasets/INM-CM4-8 Data for Model Creation/Predictors/All Combined/INMCM4-8_historical_predictors_Point_1.csv'\n",
        "y_path = r'/content/datasets/MyDrive/Datasets/IMD Rainfall 0.25x0.25/NC Files/csv files/rain_Point_1.csv'\n",
        "X = pd.read_csv(x_path)\n",
        "y = pd.read_csv(y_path)"
      ],
      "execution_count": 182,
      "outputs": []
    },
    {
      "cell_type": "code",
      "metadata": {
        "id": "WyJbAheXrIm7"
      },
      "source": [
        "# y1 will hold the rainfall data for logistic regression\n",
        "y1 = pd.read_csv(y_path)"
      ],
      "execution_count": 183,
      "outputs": []
    },
    {
      "cell_type": "code",
      "metadata": {
        "id": "yQhLv3Xkm-NZ"
      },
      "source": [
        "X.drop(columns=['lon', 'lat', 'Unnamed: 0'], inplace=True)\n",
        "y.drop(columns=['LONGITUDE', 'LATITUDE'], inplace=True)\n",
        "y1.drop(columns=['LONGITUDE', 'LATITUDE'], inplace=True)"
      ],
      "execution_count": 184,
      "outputs": []
    },
    {
      "cell_type": "code",
      "metadata": {
        "id": "SLDui6VknOFn"
      },
      "source": [
        "X.drop_duplicates(keep='first', inplace=True)"
      ],
      "execution_count": 185,
      "outputs": []
    },
    {
      "cell_type": "code",
      "metadata": {
        "id": "ieSaQ8cqnD83"
      },
      "source": [
        "X.drop([i for i in range(365)], inplace=True)"
      ],
      "execution_count": 187,
      "outputs": []
    },
    {
      "cell_type": "code",
      "metadata": {
        "id": "MrNTwCyTn3PJ"
      },
      "source": [
        "y.drop([i for i in range(23376, len(y))], inplace=True)\n",
        "y1.drop([i for i in range(23376, len(y1))], inplace=True)"
      ],
      "execution_count": 188,
      "outputs": []
    },
    {
      "cell_type": "code",
      "metadata": {
        "id": "SCfSfNidnqg2"
      },
      "source": [
        "y.drop(y[y['TIME'].map(lambda s: s.split()[0][-5:]) == '02-29'].index, inplace = True)\n",
        "y1.drop(y1[y1['TIME'].map(lambda s: s.split()[0][-5:]) == '02-29'].index, inplace = True)"
      ],
      "execution_count": 189,
      "outputs": []
    },
    {
      "cell_type": "code",
      "metadata": {
        "id": "3S2NO6zqntIW"
      },
      "source": [
        "X.reset_index(inplace=True, drop=True)\n",
        "y.reset_index(inplace=True, drop=True)\n",
        "y1.reset_index(inplace=True, drop=True)"
      ],
      "execution_count": 190,
      "outputs": []
    },
    {
      "cell_type": "code",
      "metadata": {
        "id": "-DumpMWuoPmz"
      },
      "source": [
        "X_dtCol = pd.to_datetime(X['time'], format='%Y-%m-%d %H:%M:%S')\n",
        "X['time'] = X_dtCol"
      ],
      "execution_count": 191,
      "outputs": []
    },
    {
      "cell_type": "code",
      "metadata": {
        "id": "JM3x6VhMoUen"
      },
      "source": [
        "X['day'] = X['time'].dt.day\n",
        "X['month'] = X['time'].dt.month\n",
        "X['year'] = X['time'].dt.year\n",
        "X.drop(columns=['time'], inplace=True)"
      ],
      "execution_count": 192,
      "outputs": []
    },
    {
      "cell_type": "code",
      "metadata": {
        "id": "3ctowlYjoWpC"
      },
      "source": [
        "y.drop(columns=['TIME'], inplace=True)"
      ],
      "execution_count": 193,
      "outputs": []
    },
    {
      "cell_type": "code",
      "metadata": {
        "id": "vCqfCN_x2wGM"
      },
      "source": [
        "y1.drop(columns=['TIME'], inplace=True)"
      ],
      "execution_count": 194,
      "outputs": []
    },
    {
      "cell_type": "code",
      "metadata": {
        "id": "6OxoiQxMob0Y"
      },
      "source": [
        "#y['RAINFALL'].fillna(value=y['RAINFALL'].mean(), inplace=True)\n",
        "#y1['RAINFALL'].fillna(value=y1['RAINFALL'].mean(), inplace=True)"
      ],
      "execution_count": 139,
      "outputs": []
    },
    {
      "cell_type": "code",
      "metadata": {
        "id": "aFNXw1Rw0ot2"
      },
      "source": [
        "y1.loc[y1['RAINFALL'] <= 0] = 0\n",
        "y1.loc[y1['RAINFALL'] > 0] = 1"
      ],
      "execution_count": 195,
      "outputs": []
    },
    {
      "cell_type": "code",
      "metadata": {
        "id": "9paFDQDb04rs"
      },
      "source": [
        "y1.fillna(0, inplace=True)"
      ],
      "execution_count": 199,
      "outputs": []
    },
    {
      "cell_type": "code",
      "metadata": {
        "id": "-kx-rqf04e_k"
      },
      "source": [
        "y1['RAINFALL'] = y1['RAINFALL'].astype(int)"
      ],
      "execution_count": 200,
      "outputs": []
    },
    {
      "cell_type": "code",
      "metadata": {
        "id": "xtE5CwWqoeL_"
      },
      "source": [
        "scaler = StandardScaler()\n",
        "X = scaler.fit_transform(X[X.columns])\n",
        "y = scaler.fit_transform(y)"
      ],
      "execution_count": null,
      "outputs": []
    },
    {
      "cell_type": "code",
      "metadata": {
        "id": "-apsWfXPooQI"
      },
      "source": [
        "X_train, X_test, y_train, y_test = train_test_split(X, y1, test_size=0.20, random_state=42)"
      ],
      "execution_count": 202,
      "outputs": []
    },
    {
      "cell_type": "markdown",
      "metadata": {
        "id": "GcEEmkv16uzx"
      },
      "source": [
        "Logistic Regression skearn"
      ]
    },
    {
      "cell_type": "code",
      "metadata": {
        "id": "5CWhmAzq2_is"
      },
      "source": [
        "model = logisticRegr = LogisticRegression(solver = 'liblinear')\n",
        "model.fit(X_train, y_train)\n",
        "predictions = model.predict(X_test)\n"
      ],
      "execution_count": null,
      "outputs": []
    },
    {
      "cell_type": "code",
      "metadata": {
        "colab": {
          "base_uri": "https://localhost:8080/"
        },
        "id": "zp0WFhX637w0",
        "outputId": "30d4e30f-9178-434d-db00-94b430225955"
      },
      "source": [
        "score = logisticRegr.score(X_test, y_test)\n",
        "print(score)"
      ],
      "execution_count": 216,
      "outputs": [
        {
          "output_type": "stream",
          "text": [
            "0.7602739726027398\n"
          ],
          "name": "stdout"
        }
      ]
    },
    {
      "cell_type": "markdown",
      "metadata": {
        "id": "cBpC2Y7V61fB"
      },
      "source": [
        "Logistic Regression statsmodel.api"
      ]
    },
    {
      "cell_type": "code",
      "metadata": {
        "colab": {
          "base_uri": "https://localhost:8080/"
        },
        "id": "Mc0_pd2M5nQU",
        "outputId": "66d32a1b-10d1-47e4-ed3d-7d40b3dcb537"
      },
      "source": [
        "log_reg = sm.Logit(y_train, X_train).fit()"
      ],
      "execution_count": 210,
      "outputs": [
        {
          "output_type": "stream",
          "text": [
            "Optimization terminated successfully.\n",
            "         Current function value: 0.599806\n",
            "         Iterations 5\n"
          ],
          "name": "stdout"
        }
      ]
    },
    {
      "cell_type": "code",
      "metadata": {
        "id": "5DiAn3wF5vYc"
      },
      "source": [
        "print(log_reg.summary())"
      ],
      "execution_count": null,
      "outputs": []
    },
    {
      "cell_type": "code",
      "metadata": {
        "id": "KKwCOOKT57-d"
      },
      "source": [
        "yhat = log_reg.predict(X_test)\n",
        "prediction = list(map(round, yhat))"
      ],
      "execution_count": 212,
      "outputs": []
    },
    {
      "cell_type": "code",
      "metadata": {
        "colab": {
          "base_uri": "https://localhost:8080/"
        },
        "id": "c5a6uwQo6HTt",
        "outputId": "edbbd395-219f-4326-e69c-2b262ef94313"
      },
      "source": [
        "cm = confusion_matrix(y_test, prediction) \n",
        "print (\"Confusion Matrix : \\n\", cm) \n",
        "  \n",
        "# accuracy score of the model\n",
        "print('Test accuracy = ', accuracy_score(y_test, prediction))"
      ],
      "execution_count": 217,
      "outputs": [
        {
          "output_type": "stream",
          "text": [
            "Confusion Matrix : \n",
            " [[2212 1156]\n",
            " [ 245 1059]]\n",
            "Test accuracy =  0.7001284246575342\n"
          ],
          "name": "stdout"
        }
      ]
    }
  ]
}