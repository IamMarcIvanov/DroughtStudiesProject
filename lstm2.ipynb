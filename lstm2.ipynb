{
  "nbformat": 4,
  "nbformat_minor": 0,
  "metadata": {
    "colab": {
      "name": "lstm2.ipynb",
      "provenance": [],
      "collapsed_sections": [],
      "authorship_tag": "ABX9TyPQYDEXdBUqh1FaR3O8S8PY",
      "include_colab_link": true
    },
    "kernelspec": {
      "name": "python3",
      "display_name": "Python 3"
    },
    "language_info": {
      "name": "python"
    }
  },
  "cells": [
    {
      "cell_type": "markdown",
      "metadata": {
        "id": "view-in-github",
        "colab_type": "text"
      },
      "source": [
        "<a href=\"https://colab.research.google.com/github/IamMarcIvanov/DroughtStudiesProject/blob/master/lstm2.ipynb\" target=\"_parent\"><img src=\"https://colab.research.google.com/assets/colab-badge.svg\" alt=\"Open In Colab\"/></a>"
      ]
    },
    {
      "cell_type": "code",
      "metadata": {
        "id": "-krE2YgeO6ek"
      },
      "source": [
        "import numpy as np\n",
        "import matplotlib.pyplot as plt\n",
        "import pandas as pd\n",
        "import math\n",
        "import keras\n",
        "from keras.models import Sequential\n",
        "from keras.layers import Dense\n",
        "from keras.layers import LSTM\n",
        "from sklearn.preprocessing import MinMaxScaler\n",
        "from sklearn.metrics import mean_squared_error\n",
        "from sklearn.metrics import r2_score"
      ],
      "execution_count": 1,
      "outputs": []
    },
    {
      "cell_type": "code",
      "metadata": {
        "id": "WMK2b05oO9oX"
      },
      "source": [
        "np.random.seed(23)"
      ],
      "execution_count": 2,
      "outputs": []
    },
    {
      "cell_type": "code",
      "metadata": {
        "id": "x-rcG8DDPAML",
        "colab": {
          "base_uri": "https://localhost:8080/"
        },
        "outputId": "1043f72e-b013-45c3-9220-8427bcd9ccf1"
      },
      "source": [
        "from google.colab import drive\n",
        "drive.mount(\"/content/gdrive\")"
      ],
      "execution_count": 3,
      "outputs": [
        {
          "output_type": "stream",
          "text": [
            "Drive already mounted at /content/gdrive; to attempt to forcibly remount, call drive.mount(\"/content/gdrive\", force_remount=True).\n"
          ],
          "name": "stdout"
        }
      ]
    },
    {
      "cell_type": "code",
      "metadata": {
        "id": "SuwcsnxfPPGo"
      },
      "source": [
        "dataset = pd.read_csv('/content/gdrive/My Drive/IMD Rainfall/rain_Point_1.csv', index_col= 0, parse_dates= True)\n",
        "dataset = dataset.diff(2)\n",
        "dataset.dropna(inplace= True)"
      ],
      "execution_count": 4,
      "outputs": []
    },
    {
      "cell_type": "code",
      "metadata": {
        "id": "FbUfodgdPX9Z"
      },
      "source": [
        "dataset.drop(columns= ['LONGITUDE', 'LATITUDE'], inplace= True)"
      ],
      "execution_count": 5,
      "outputs": []
    },
    {
      "cell_type": "code",
      "metadata": {
        "id": "rkJh7XfaPhC5",
        "colab": {
          "base_uri": "https://localhost:8080/",
          "height": 287
        },
        "outputId": "9eab460a-971a-48b3-b185-f2780f3fd56f"
      },
      "source": [
        "dataset.plot()"
      ],
      "execution_count": 6,
      "outputs": [
        {
          "output_type": "execute_result",
          "data": {
            "text/plain": [
              "<matplotlib.axes._subplots.AxesSubplot at 0x7f1e38914c90>"
            ]
          },
          "metadata": {
            "tags": []
          },
          "execution_count": 6
        },
        {
          "output_type": "display_data",
          "data": {
            "image/png": "[encoded data removed]",
            "text/plain": [
              "<Figure size 432x288 with 1 Axes>"
            ]
          },
          "metadata": {
            "tags": [],
            "needs_background": "light"
          }
        }
      ]
    },
    {
      "cell_type": "code",
      "metadata": {
        "id": "5DWfd1PwPino"
      },
      "source": [
        "train_size = int(len(dataset) * 0.7)\n",
        "test_size = int(len(dataset) * 0.3)"
      ],
      "execution_count": 7,
      "outputs": []
    },
    {
      "cell_type": "code",
      "metadata": {
        "id": "pyCF3lZdPtOS"
      },
      "source": [
        "train = dataset.to_numpy()[:train_size]\n",
        "test = dataset.to_numpy()[train_size:]"
      ],
      "execution_count": 8,
      "outputs": []
    },
    {
      "cell_type": "code",
      "metadata": {
        "id": "Q-4p-73hQKq6"
      },
      "source": [
        "look_back = 5"
      ],
      "execution_count": 9,
      "outputs": []
    },
    {
      "cell_type": "code",
      "metadata": {
        "id": "0mfsElLoQNVi"
      },
      "source": [
        "def create_dataset(dataset, look_back= look_back):\n",
        "\tdataX, dataY = [], []\n",
        "\tfor i in range(len(dataset)-look_back - 1):\n",
        "\t\ta = dataset[i:(i+look_back), 0]\n",
        "\t\tdataX.append(a)\n",
        "\t\tdataY.append(dataset[i + look_back, 0])\n",
        "\treturn np.array(dataX), np.array(dataY)"
      ],
      "execution_count": 10,
      "outputs": []
    },
    {
      "cell_type": "code",
      "metadata": {
        "id": "c20o9w2HQR_C"
      },
      "source": [
        "X_train, y_train = create_dataset(train, look_back)\n",
        "X_test, y_test = create_dataset(test, look_back)"
      ],
      "execution_count": 11,
      "outputs": []
    },
    {
      "cell_type": "code",
      "metadata": {
        "id": "l5jchKapQXud"
      },
      "source": [
        "X_train = np.reshape(X_train, (X_train.shape[0], 1, X_train.shape[1]))\n",
        "X_test = np.reshape(X_test, (X_test.shape[0], 1, X_test.shape[1]))"
      ],
      "execution_count": 12,
      "outputs": []
    },
    {
      "cell_type": "code",
      "metadata": {
        "colab": {
          "base_uri": "https://localhost:8080/"
        },
        "id": "5Ag2vSRBQf6y",
        "outputId": "f5a367cd-1da4-45e3-8017-ee831fefd989"
      },
      "source": [
        "# create and fit the LSTM network\n",
        "model = Sequential()\n",
        "model.add(LSTM(units= 64, input_shape=(X_train.shape[1], X_train.shape[2])))\n",
        "model.add(Dense(1))\n",
        "model.compile(loss='mean_squared_error', optimizer= 'Adam')\n",
        "model.fit(X_train, y_train, epochs=30, batch_size=1, verbose=1, validation_split= 0.1, shuffle= False)"
      ],
      "execution_count": 13,
      "outputs": [
        {
          "output_type": "stream",
          "text": [
            "Epoch 1/30\n",
            "16097/16097 [==============================] - 27s 2ms/step - loss: 148.0998 - val_loss: 314.9968\n",
            "Epoch 2/30\n",
            "16097/16097 [==============================] - 25s 2ms/step - loss: 121.9151 - val_loss: 301.1912\n",
            "Epoch 3/30\n",
            "16097/16097 [==============================] - 25s 2ms/step - loss: 116.2176 - val_loss: 289.5544\n",
            "Epoch 4/30\n",
            "16097/16097 [==============================] - 25s 2ms/step - loss: 113.5182 - val_loss: 283.1309\n",
            "Epoch 5/30\n",
            "16097/16097 [==============================] - 25s 2ms/step - loss: 111.7425 - val_loss: 281.0344\n",
            "Epoch 6/30\n",
            "16097/16097 [==============================] - 25s 2ms/step - loss: 110.0873 - val_loss: 280.9057\n",
            "Epoch 7/30\n",
            "16097/16097 [==============================] - 25s 2ms/step - loss: 109.4570 - val_loss: 274.1403\n",
            "Epoch 8/30\n",
            "16097/16097 [==============================] - 25s 2ms/step - loss: 108.5476 - val_loss: 279.5236\n",
            "Epoch 9/30\n",
            "16097/16097 [==============================] - 25s 2ms/step - loss: 108.3032 - val_loss: 278.9709\n",
            "Epoch 10/30\n",
            "16097/16097 [==============================] - 25s 2ms/step - loss: 107.5035 - val_loss: 274.7693\n",
            "Epoch 11/30\n",
            "16097/16097 [==============================] - 25s 2ms/step - loss: 106.5605 - val_loss: 273.1631\n",
            "Epoch 12/30\n",
            "16097/16097 [==============================] - 26s 2ms/step - loss: 106.1304 - val_loss: 268.7199\n",
            "Epoch 13/30\n",
            "16097/16097 [==============================] - 25s 2ms/step - loss: 106.2082 - val_loss: 273.3090\n",
            "Epoch 14/30\n",
            "16097/16097 [==============================] - 25s 2ms/step - loss: 104.3132 - val_loss: 268.3211\n",
            "Epoch 15/30\n",
            "16097/16097 [==============================] - 25s 2ms/step - loss: 103.9350 - val_loss: 266.8895\n",
            "Epoch 16/30\n",
            "16097/16097 [==============================] - 25s 2ms/step - loss: 104.3645 - val_loss: 268.1303\n",
            "Epoch 17/30\n",
            "16097/16097 [==============================] - 25s 2ms/step - loss: 105.1584 - val_loss: 267.4330\n",
            "Epoch 18/30\n",
            "16097/16097 [==============================] - 25s 2ms/step - loss: 103.4687 - val_loss: 271.2607\n",
            "Epoch 19/30\n",
            "16097/16097 [==============================] - 25s 2ms/step - loss: 102.8743 - val_loss: 267.1499\n",
            "Epoch 20/30\n",
            "16097/16097 [==============================] - 25s 2ms/step - loss: 103.1565 - val_loss: 265.2108\n",
            "Epoch 21/30\n",
            "16097/16097 [==============================] - 25s 2ms/step - loss: 103.0709 - val_loss: 261.6521\n",
            "Epoch 22/30\n",
            "16097/16097 [==============================] - 25s 2ms/step - loss: 101.9127 - val_loss: 263.6883\n",
            "Epoch 23/30\n",
            "16097/16097 [==============================] - 25s 2ms/step - loss: 101.6983 - val_loss: 263.9968\n",
            "Epoch 24/30\n",
            "16097/16097 [==============================] - 25s 2ms/step - loss: 102.1395 - val_loss: 256.8720\n",
            "Epoch 25/30\n",
            "16097/16097 [==============================] - 25s 2ms/step - loss: 100.6375 - val_loss: 262.6036\n",
            "Epoch 26/30\n",
            "16097/16097 [==============================] - 25s 2ms/step - loss: 101.0911 - val_loss: 258.5757\n",
            "Epoch 27/30\n",
            "16097/16097 [==============================] - 26s 2ms/step - loss: 101.0030 - val_loss: 262.6425\n",
            "Epoch 28/30\n",
            "16097/16097 [==============================] - 25s 2ms/step - loss: 100.2067 - val_loss: 260.0684\n",
            "Epoch 29/30\n",
            "16097/16097 [==============================] - 26s 2ms/step - loss: 100.0957 - val_loss: 256.9959\n",
            "Epoch 30/30\n",
            "16097/16097 [==============================] - 26s 2ms/step - loss: 99.0694 - val_loss: 264.9781\n"
          ],
          "name": "stdout"
        },
        {
          "output_type": "execute_result",
          "data": {
            "text/plain": [
              "<tensorflow.python.keras.callbacks.History at 0x7f1e3360ad50>"
            ]
          },
          "metadata": {
            "tags": []
          },
          "execution_count": 13
        }
      ]
    },
    {
      "cell_type": "code",
      "metadata": {
        "id": "WuihoDR4QkxW"
      },
      "source": [
        "# make predictions\n",
        "trainPredict = model.predict(X_train)\n",
        "testPredict = model.predict(X_test)\n",
        "# # invert predictions\n",
        "# trainPredict = scaler.inverse_transform(trainPredict)\n",
        "# y_train = scaler.inverse_transform([y_train])\n",
        "# testPredict = scaler.inverse_transform(testPredict)\n",
        "# y_test = scaler.inverse_transform([y_test])"
      ],
      "execution_count": 14,
      "outputs": []
    },
    {
      "cell_type": "code",
      "metadata": {
        "id": "tve9KqhtQvMF"
      },
      "source": [
        "from sklearn.metrics import mean_absolute_error"
      ],
      "execution_count": 15,
      "outputs": []
    },
    {
      "cell_type": "code",
      "metadata": {
        "colab": {
          "base_uri": "https://localhost:8080/"
        },
        "id": "oD3dH5NsQxlG",
        "outputId": "678ff463-3b3e-4c09-d438-ca0c61b24239"
      },
      "source": [
        "trainScore = mean_absolute_error(y_train, trainPredict[:,0])\n",
        "print('Train Score: %.2f MAE' % (trainScore))\n",
        "testScore = mean_absolute_error(y_test, testPredict[:,0])\n",
        "print('Test Score: %.2f MAE' % (testScore))\n",
        "r2train = r2_score(y_train, trainPredict[:, 0])\n",
        "print('R2 Score Train: %.2f R2' % (r2train))\n",
        "r2test = r2_score(y_test, testPredict[:, 0])\n",
        "print('R2 Score Test: %.2f R2' % (r2test))"
      ],
      "execution_count": 16,
      "outputs": [
        {
          "output_type": "stream",
          "text": [
            "Train Score: 4.38 MAE\n",
            "Test Score: 5.15 MAE\n",
            "R2 Score Train: 0.45 R2\n",
            "R2 Score Test: 0.40 R2\n"
          ],
          "name": "stdout"
        }
      ]
    },
    {
      "cell_type": "code",
      "metadata": {
        "colab": {
          "base_uri": "https://localhost:8080/",
          "height": 265
        },
        "id": "v7Yw37wjQzqH",
        "outputId": "e00afcc6-bb8c-4b38-fc9e-b744632d8655"
      },
      "source": [
        "trainPredictPlot = np.empty_like(dataset)\n",
        "trainPredictPlot[:, :] = np.nan\n",
        "trainPredictPlot[look_back:len(trainPredict)+look_back, :] = trainPredict\n",
        "# shift test predictions for plotting\n",
        "testPredictPlot = np.empty_like(dataset)\n",
        "testPredictPlot[:, :] = np.nan\n",
        "testPredictPlot[len(trainPredict)+(look_back*2)+1:len(dataset)-1, :] = testPredict\n",
        "# plot baseline and predictions\n",
        "# plt.plot(scaler.inverse_transform(dataset))\n",
        "plt.plot(trainPredictPlot)\n",
        "plt.plot(testPredictPlot)\n",
        "plt.show()"
      ],
      "execution_count": 17,
      "outputs": [
        {
          "output_type": "display_data",
          "data": {
            "image/png": "[encoded data removed]",
            "text/plain": [
              "<Figure size 432x288 with 1 Axes>"
            ]
          },
          "metadata": {
            "tags": [],
            "needs_background": "light"
          }
        }
      ]
    },
    {
      "cell_type": "code",
      "metadata": {
        "id": "hSHOCl67T0JR"
      },
      "source": [
        ""
      ],
      "execution_count": 17,
      "outputs": []
    }
  ]
}