{
 "metadata": {
  "language_info": {
   "codemirror_mode": {
    "name": "ipython",
    "version": 3
   },
   "file_extension": ".py",
   "mimetype": "text/x-python",
   "name": "python",
   "nbconvert_exporter": "python",
   "pygments_lexer": "ipython3",
   "version": "3.8.5-final"
  },
  "orig_nbformat": 2,
  "kernelspec": {
   "name": "python385jvsc74a57bd0b3ba2566441a7c06988d0923437866b63cedc61552a5af99d1f4fb67d367b25f",
   "display_name": "Python 3.8.5 64-bit (conda)"
  }
 },
 "nbformat": 4,
 "nbformat_minor": 2,
 "cells": [
  {
   "cell_type": "code",
   "execution_count": 1,
   "metadata": {},
   "outputs": [],
   "source": [
    "import pandas as pd\n",
    "import numpy as np\n",
    "import matplotlib.pyplot as plt\n",
    "import seaborn as sns"
   ]
  },
  {
   "cell_type": "code",
   "execution_count": 2,
   "metadata": {},
   "outputs": [],
   "source": [
    "dataset = pd.read_csv('E:/ML Telangana Project/IMD Rainfall 0.25x0.25/CSV Files/rain_Point_1.csv', index_col = 0, parse_dates= True)\n",
    "dataset = dataset.asfreq('D')"
   ]
  },
  {
   "cell_type": "code",
   "execution_count": 3,
   "metadata": {},
   "outputs": [
    {
     "output_type": "execute_result",
     "data": {
      "text/plain": [
       "            LONGITUDE  LATITUDE  RAINFALL\n",
       "TIME                                     \n",
       "1951-01-01      81.75      16.5       0.0\n",
       "1951-01-02      81.75      16.5       0.0\n",
       "1951-01-03      81.75      16.5       0.0\n",
       "1951-01-04      81.75      16.5       0.0\n",
       "1951-01-05      81.75      16.5       0.0"
      ],
      "text/html": "<div>\n<style scoped>\n    .dataframe tbody tr th:only-of-type {\n        vertical-align: middle;\n    }\n\n    .dataframe tbody tr th {\n        vertical-align: top;\n    }\n\n    .dataframe thead th {\n        text-align: right;\n    }\n</style>\n<table border=\"1\" class=\"dataframe\">\n  <thead>\n    <tr style=\"text-align: right;\">\n      <th></th>\n      <th>LONGITUDE</th>\n      <th>LATITUDE</th>\n      <th>RAINFALL</th>\n    </tr>\n    <tr>\n      <th>TIME</th>\n      <th></th>\n      <th></th>\n      <th></th>\n    </tr>\n  </thead>\n  <tbody>\n    <tr>\n      <th>1951-01-01</th>\n      <td>81.75</td>\n      <td>16.5</td>\n      <td>0.0</td>\n    </tr>\n    <tr>\n      <th>1951-01-02</th>\n      <td>81.75</td>\n      <td>16.5</td>\n      <td>0.0</td>\n    </tr>\n    <tr>\n      <th>1951-01-03</th>\n      <td>81.75</td>\n      <td>16.5</td>\n      <td>0.0</td>\n    </tr>\n    <tr>\n      <th>1951-01-04</th>\n      <td>81.75</td>\n      <td>16.5</td>\n      <td>0.0</td>\n    </tr>\n    <tr>\n      <th>1951-01-05</th>\n      <td>81.75</td>\n      <td>16.5</td>\n      <td>0.0</td>\n    </tr>\n  </tbody>\n</table>\n</div>"
     },
     "metadata": {},
     "execution_count": 3
    }
   ],
   "source": [
    "dataset.head()"
   ]
  },
  {
   "cell_type": "code",
   "execution_count": 4,
   "metadata": {},
   "outputs": [
    {
     "output_type": "stream",
     "name": "stdout",
     "text": [
      "<class 'pandas.core.frame.DataFrame'>\nDatetimeIndex: 25568 entries, 1951-01-01 to 2020-12-31\nFreq: D\nData columns (total 3 columns):\n #   Column     Non-Null Count  Dtype  \n---  ------     --------------  -----  \n 0   LONGITUDE  25568 non-null  float64\n 1   LATITUDE   25568 non-null  float64\n 2   RAINFALL   25565 non-null  float64\ndtypes: float64(3)\nmemory usage: 799.0 KB\n"
     ]
    }
   ],
   "source": [
    "dataset.info()"
   ]
  },
  {
   "cell_type": "code",
   "execution_count": 5,
   "metadata": {},
   "outputs": [],
   "source": [
    "dataset['RAINFALL'].fillna(method='ffill', inplace= True)"
   ]
  },
  {
   "cell_type": "code",
   "execution_count": 6,
   "metadata": {},
   "outputs": [
    {
     "output_type": "stream",
     "name": "stdout",
     "text": [
      "<class 'pandas.core.frame.DataFrame'>\nDatetimeIndex: 25568 entries, 1951-01-01 to 2020-12-31\nFreq: D\nData columns (total 3 columns):\n #   Column     Non-Null Count  Dtype  \n---  ------     --------------  -----  \n 0   LONGITUDE  25568 non-null  float64\n 1   LATITUDE   25568 non-null  float64\n 2   RAINFALL   25568 non-null  float64\ndtypes: float64(3)\nmemory usage: 799.0 KB\n"
     ]
    }
   ],
   "source": [
    "dataset.info()"
   ]
  },
  {
   "cell_type": "code",
   "execution_count": 7,
   "metadata": {},
   "outputs": [],
   "source": [
    "dataset['RAINFALL LAG1'] = dataset['RAINFALL'].shift(1)\n",
    "dataset['RAINFALL LAG2'] = dataset['RAINFALL'].shift(2)"
   ]
  },
  {
   "cell_type": "code",
   "execution_count": 9,
   "metadata": {},
   "outputs": [],
   "source": [
    "dataset.dropna(inplace= True)"
   ]
  },
  {
   "cell_type": "code",
   "execution_count": 11,
   "metadata": {},
   "outputs": [
    {
     "output_type": "execute_result",
     "data": {
      "text/plain": [
       "            LONGITUDE  LATITUDE  RAINFALL  RAINFALL LAG1  RAINFALL LAG2\n",
       "TIME                                                                   \n",
       "1951-01-03      81.75      16.5       0.0            0.0            0.0\n",
       "1951-01-04      81.75      16.5       0.0            0.0            0.0\n",
       "1951-01-05      81.75      16.5       0.0            0.0            0.0\n",
       "1951-01-06      81.75      16.5       0.0            0.0            0.0\n",
       "1951-01-07      81.75      16.5       0.0            0.0            0.0"
      ],
      "text/html": "<div>\n<style scoped>\n    .dataframe tbody tr th:only-of-type {\n        vertical-align: middle;\n    }\n\n    .dataframe tbody tr th {\n        vertical-align: top;\n    }\n\n    .dataframe thead th {\n        text-align: right;\n    }\n</style>\n<table border=\"1\" class=\"dataframe\">\n  <thead>\n    <tr style=\"text-align: right;\">\n      <th></th>\n      <th>LONGITUDE</th>\n      <th>LATITUDE</th>\n      <th>RAINFALL</th>\n      <th>RAINFALL LAG1</th>\n      <th>RAINFALL LAG2</th>\n    </tr>\n    <tr>\n      <th>TIME</th>\n      <th></th>\n      <th></th>\n      <th></th>\n      <th></th>\n      <th></th>\n    </tr>\n  </thead>\n  <tbody>\n    <tr>\n      <th>1951-01-03</th>\n      <td>81.75</td>\n      <td>16.5</td>\n      <td>0.0</td>\n      <td>0.0</td>\n      <td>0.0</td>\n    </tr>\n    <tr>\n      <th>1951-01-04</th>\n      <td>81.75</td>\n      <td>16.5</td>\n      <td>0.0</td>\n      <td>0.0</td>\n      <td>0.0</td>\n    </tr>\n    <tr>\n      <th>1951-01-05</th>\n      <td>81.75</td>\n      <td>16.5</td>\n      <td>0.0</td>\n      <td>0.0</td>\n      <td>0.0</td>\n    </tr>\n    <tr>\n      <th>1951-01-06</th>\n      <td>81.75</td>\n      <td>16.5</td>\n      <td>0.0</td>\n      <td>0.0</td>\n      <td>0.0</td>\n    </tr>\n    <tr>\n      <th>1951-01-07</th>\n      <td>81.75</td>\n      <td>16.5</td>\n      <td>0.0</td>\n      <td>0.0</td>\n      <td>0.0</td>\n    </tr>\n  </tbody>\n</table>\n</div>"
     },
     "metadata": {},
     "execution_count": 11
    }
   ],
   "source": [
    "dataset.head()"
   ]
  },
  {
   "cell_type": "code",
   "execution_count": 12,
   "metadata": {},
   "outputs": [],
   "source": [
    "X_train = dataset[dataset.index < '2015-01-01'].iloc[:, -2:]\n",
    "X_test = dataset[dataset.index > '2015-01-01'].iloc[:, -2:]\n",
    "y_train = dataset[dataset.index < '2015-01-01'].iloc[:, -3]\n",
    "y_test = dataset[dataset.index > '2015-01-01'].iloc[:, -3]"
   ]
  },
  {
   "cell_type": "code",
   "execution_count": 17,
   "metadata": {},
   "outputs": [],
   "source": [
    "from sklearn.tree import DecisionTreeRegressor\n",
    "from sklearn.ensemble import AdaBoostRegressor"
   ]
  },
  {
   "cell_type": "code",
   "execution_count": 18,
   "metadata": {},
   "outputs": [],
   "source": [
    "dtr = DecisionTreeRegressor()\n",
    "ada = AdaBoostRegressor()"
   ]
  },
  {
   "cell_type": "code",
   "execution_count": 19,
   "metadata": {},
   "outputs": [],
   "source": [
    "dtr.fit(X_train, y_train)\n",
    "dtr_predictions = dtr.predict(X_test)"
   ]
  },
  {
   "cell_type": "code",
   "execution_count": 20,
   "metadata": {},
   "outputs": [],
   "source": [
    "ada.fit(X_train, y_train)\n",
    "ada_predictions = ada.predict(X_test)"
   ]
  },
  {
   "cell_type": "code",
   "execution_count": 21,
   "metadata": {},
   "outputs": [],
   "source": [
    "from sklearn.metrics import mean_squared_error\n",
    "from math import sqrt"
   ]
  },
  {
   "cell_type": "code",
   "execution_count": 22,
   "metadata": {},
   "outputs": [],
   "source": [
    "rms_dtr = sqrt(mean_squared_error(y_test, dtr_predictions))\n",
    "rms_ada = sqrt(mean_squared_error(y_test, ada_predictions))"
   ]
  },
  {
   "cell_type": "code",
   "execution_count": 27,
   "metadata": {},
   "outputs": [
    {
     "output_type": "execute_result",
     "data": {
      "text/plain": [
       "16.994831951681274"
      ]
     },
     "metadata": {},
     "execution_count": 27
    }
   ],
   "source": [
    "rms_dtr"
   ]
  },
  {
   "cell_type": "code",
   "execution_count": 28,
   "metadata": {},
   "outputs": [
    {
     "output_type": "execute_result",
     "data": {
      "text/plain": [
       "13.474566166293252"
      ]
     },
     "metadata": {},
     "execution_count": 28
    }
   ],
   "source": [
    "rms_ada"
   ]
  },
  {
   "cell_type": "code",
   "execution_count": 23,
   "metadata": {},
   "outputs": [],
   "source": [
    "from sklearn.metrics import mean_absolute_error"
   ]
  },
  {
   "cell_type": "code",
   "execution_count": 24,
   "metadata": {},
   "outputs": [],
   "source": [
    "mae_dtr = sqrt(mean_absolute_error(y_test, dtr_predictions))\n",
    "mae_ada = sqrt(mean_absolute_error(y_test, ada_predictions))"
   ]
  },
  {
   "cell_type": "code",
   "execution_count": 29,
   "metadata": {},
   "outputs": [
    {
     "output_type": "execute_result",
     "data": {
      "text/plain": [
       "2.5627576088534774"
      ]
     },
     "metadata": {},
     "execution_count": 29
    }
   ],
   "source": [
    "mae_dtr"
   ]
  },
  {
   "cell_type": "code",
   "execution_count": 30,
   "metadata": {},
   "outputs": [
    {
     "output_type": "execute_result",
     "data": {
      "text/plain": [
       "2.690139960744589"
      ]
     },
     "metadata": {},
     "execution_count": 30
    }
   ],
   "source": [
    "mae_ada"
   ]
  },
  {
   "cell_type": "code",
   "execution_count": 26,
   "metadata": {},
   "outputs": [],
   "source": [
    "from sklearn.metrics import r2_score"
   ]
  },
  {
   "cell_type": "code",
   "execution_count": 31,
   "metadata": {},
   "outputs": [],
   "source": [
    "r2_dtr = r2_score(y_test, dtr_predictions)\n",
    "r2_ada = r2_score(y_test, ada_predictions)"
   ]
  },
  {
   "cell_type": "code",
   "execution_count": 32,
   "metadata": {},
   "outputs": [
    {
     "output_type": "execute_result",
     "data": {
      "text/plain": [
       "-0.4580001711100441"
      ]
     },
     "metadata": {},
     "execution_count": 32
    }
   ],
   "source": [
    "r2_dtr"
   ]
  },
  {
   "cell_type": "code",
   "execution_count": 33,
   "metadata": {},
   "outputs": [
    {
     "output_type": "execute_result",
     "data": {
      "text/plain": [
       "0.0834558105216906"
      ]
     },
     "metadata": {},
     "execution_count": 33
    }
   ],
   "source": [
    "r2_ada"
   ]
  },
  {
   "cell_type": "code",
   "execution_count": null,
   "metadata": {},
   "outputs": [],
   "source": []
  }
 ]
}