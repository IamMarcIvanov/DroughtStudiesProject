{
  "nbformat": 4,
  "nbformat_minor": 0,
  "metadata": {
    "colab": {
      "name": "xgb",
      "provenance": []
    },
    "kernelspec": {
      "display_name": "Python 3",
      "name": "python3"
    },
    "language_info": {
      "name": "python"
    }
  },
  "cells": [
    {
      "cell_type": "code",
      "metadata": {
        "id": "m6caHxpJSTD9"
      },
      "source": [
        "import pandas as pd\n",
        "import numpy as np\n",
        "from sklearn.model_selection import train_test_split\n"
      ],
      "execution_count": null,
      "outputs": []
    },
    {
      "cell_type": "code",
      "metadata": {
        "colab": {
          "base_uri": "https://localhost:8080/"
        },
        "id": "kO0y0dSWTYAH",
        "outputId": "6b71d7fc-0235-484b-8427-4a27d48799d8"
      },
      "source": [
        "from google.colab import drive\n",
        "drive.mount('/content/datasets')"
      ],
      "execution_count": null,
      "outputs": [
        {
          "output_type": "stream",
          "text": [
            "Mounted at /content/datasets\n"
          ],
          "name": "stdout"
        }
      ]
    },
    {
      "cell_type": "code",
      "metadata": {
        "id": "EtwJ-G3sT0BP"
      },
      "source": [
        "X = pd.read_csv('/content/datasets/MyDrive/Datasets/GCM Data (Daily)/CSV Files/Point_1.csv')\n",
        "X = X.iloc[:, 1:]\n",
        "y = pd.read_csv('/content/datasets/MyDrive/Datasets/IMD Rainfall 0.25x0.25/NC Files/csv files/rain_Point_1.csv')\n",
        "y = y.iloc[:23034, -1]\n"
      ],
      "execution_count": null,
      "outputs": []
    },
    {
      "cell_type": "code",
      "metadata": {
        "id": "P-60nk4b6lVG"
      },
      "source": [
        "y = y.fillna(y.mean())"
      ],
      "execution_count": null,
      "outputs": []
    },
    {
      "cell_type": "code",
      "metadata": {
        "colab": {
          "base_uri": "https://localhost:8080/"
        },
        "id": "ZnrM07HL6qvR",
        "outputId": "ea81e3be-7684-49e0-d023-0fd1ed9f0fc7"
      },
      "source": [
        "np.any(np.isnan(y))"
      ],
      "execution_count": null,
      "outputs": [
        {
          "output_type": "execute_result",
          "data": {
            "text/plain": [
              "False"
            ]
          },
          "metadata": {
            "tags": []
          },
          "execution_count": 6
        }
      ]
    },
    {
      "cell_type": "code",
      "metadata": {
        "id": "suriDdZPoEZ3"
      },
      "source": [
        "X = (X - X.mean(axis= 0))/X.std(axis= 0)"
      ],
      "execution_count": null,
      "outputs": []
    },
    {
      "cell_type": "code",
      "metadata": {
        "id": "cmuqf3kUxBBW"
      },
      "source": [
        "df = X.join(y)\n"
      ],
      "execution_count": null,
      "outputs": []
    },
    {
      "cell_type": "code",
      "metadata": {
        "id": "aHIc_6PrUuBu"
      },
      "source": [
        "df.head()"
      ],
      "execution_count": null,
      "outputs": []
    },
    {
      "cell_type": "code",
      "metadata": {
        "id": "4HP0lW7UUqHd"
      },
      "source": [
        "train_features, test_features, train_labels, test_labels = train_test_split(X, \n",
        "                                                                            y, \n",
        "                                                                            test_size = 0.2, \n",
        "                                                                            random_state = 42)"
      ],
      "execution_count": null,
      "outputs": []
    },
    {
      "cell_type": "code",
      "metadata": {
        "id": "APES4kZ41WIk"
      },
      "source": [
        "import xgboost as xgb\n",
        "from sklearn.metrics import mean_squared_error\n",
        "from sklearn.metrics import explained_variance_score\n",
        "from sklearn.metrics import max_error\n",
        "from sklearn.metrics import mean_absolute_error"
      ],
      "execution_count": null,
      "outputs": []
    },
    {
      "cell_type": "code",
      "metadata": {
        "id": "H5-_RYHv7mNG"
      },
      "source": [
        "data_dmatrix = xgb.DMatrix(data=X,label=y)\n",
        "dtrain = xgb.DMatrix(train_features, label=train_labels)\n",
        "dtest = xgb.DMatrix(test_features, label=test_labels)"
      ],
      "execution_count": null,
      "outputs": []
    },
    {
      "cell_type": "code",
      "metadata": {
        "id": "tAGUJRvWy_iJ"
      },
      "source": [
        "eval_set = [dtrain, dtest]"
      ],
      "execution_count": null,
      "outputs": []
    },
    {
      "cell_type": "code",
      "metadata": {
        "id": "FG7i5nPJwFnC"
      },
      "source": [
        "mean_train = np.mean(train_labels)"
      ],
      "execution_count": null,
      "outputs": []
    },
    {
      "cell_type": "code",
      "metadata": {
        "id": "kH663M9B8WIx"
      },
      "source": [
        "params = {\"objective\":\"reg:squarederror\", 'min_child_weight': 1, \n",
        "          'colsample_bytree': 1,'subsample': 1,\n",
        "                'max_depth': 6, 'alpha': 10}"
      ],
      "execution_count": null,
      "outputs": []
    },
    {
      "cell_type": "code",
      "metadata": {
        "id": "wv8A_goRxd4M"
      },
      "source": [
        "params['eval_metric'] = \"rmse\"\n",
        "num_boost_round = 999"
      ],
      "execution_count": null,
      "outputs": []
    },
    {
      "cell_type": "code",
      "metadata": {
        "id": "Oa6YsTOzxouH"
      },
      "source": [
        "model = xgb.train(\n",
        "    params,\n",
        "    dtrain,\n",
        "    num_boost_round=num_boost_round,\n",
        "    evals=[(dtest, \"Test\")],\n",
        "    early_stopping_rounds=10\n",
        ")"
      ],
      "execution_count": null,
      "outputs": []
    },
    {
      "cell_type": "code",
      "metadata": {
        "colab": {
          "base_uri": "https://localhost:8080/"
        },
        "id": "0pCIHp6-xvJe",
        "outputId": "9fcce026-1fc0-4171-ce33-3ee4b7f9c768"
      },
      "source": [
        "print(\"Best RMSE: {:.2f} with {} rounds\".format(\n",
        "                 model.best_score,\n",
        "                 model.best_iteration+1))"
      ],
      "execution_count": null,
      "outputs": [
        {
          "output_type": "stream",
          "text": [
            "Best RMSE: 12.04 with 4 rounds\n"
          ],
          "name": "stdout"
        }
      ]
    },
    {
      "cell_type": "code",
      "metadata": {
        "id": "MIpdfnRq9rpO"
      },
      "source": [
        "cv_results = xgb.cv(dtrain=data_dmatrix, params=params, nfold=3,\n",
        "                    num_boost_round=num_boost_round,early_stopping_rounds=10,metrics=\"rmse\", as_pandas=True, seed=123)"
      ],
      "execution_count": null,
      "outputs": []
    },
    {
      "cell_type": "code",
      "metadata": {
        "colab": {
          "base_uri": "https://localhost:8080/",
          "height": 171
        },
        "id": "nMfrU0riykwo",
        "outputId": "a888b759-a7bb-4129-c03f-2b3d676761a1"
      },
      "source": [
        "cv_results"
      ],
      "execution_count": null,
      "outputs": [
        {
          "output_type": "execute_result",
          "data": {
            "text/html": [
              "<div>\n",
              "<style scoped>\n",
              "    .dataframe tbody tr th:only-of-type {\n",
              "        vertical-align: middle;\n",
              "    }\n",
              "\n",
              "    .dataframe tbody tr th {\n",
              "        vertical-align: top;\n",
              "    }\n",
              "\n",
              "    .dataframe thead th {\n",
              "        text-align: right;\n",
              "    }\n",
              "</style>\n",
              "<table border=\"1\" class=\"dataframe\">\n",
              "  <thead>\n",
              "    <tr style=\"text-align: right;\">\n",
              "      <th></th>\n",
              "      <th>train-rmse-mean</th>\n",
              "      <th>train-rmse-std</th>\n",
              "      <th>test-rmse-mean</th>\n",
              "      <th>test-rmse-std</th>\n",
              "    </tr>\n",
              "  </thead>\n",
              "  <tbody>\n",
              "    <tr>\n",
              "      <th>0</th>\n",
              "      <td>12.010266</td>\n",
              "      <td>0.171391</td>\n",
              "      <td>12.182324</td>\n",
              "      <td>0.426773</td>\n",
              "    </tr>\n",
              "    <tr>\n",
              "      <th>1</th>\n",
              "      <td>11.796825</td>\n",
              "      <td>0.155553</td>\n",
              "      <td>12.111937</td>\n",
              "      <td>0.415040</td>\n",
              "    </tr>\n",
              "    <tr>\n",
              "      <th>2</th>\n",
              "      <td>11.583758</td>\n",
              "      <td>0.150859</td>\n",
              "      <td>12.093965</td>\n",
              "      <td>0.416700</td>\n",
              "    </tr>\n",
              "    <tr>\n",
              "      <th>3</th>\n",
              "      <td>11.440081</td>\n",
              "      <td>0.125882</td>\n",
              "      <td>12.091686</td>\n",
              "      <td>0.419668</td>\n",
              "    </tr>\n",
              "  </tbody>\n",
              "</table>\n",
              "</div>"
            ],
            "text/plain": [
              "   train-rmse-mean  train-rmse-std  test-rmse-mean  test-rmse-std\n",
              "0        12.010266        0.171391       12.182324       0.426773\n",
              "1        11.796825        0.155553       12.111937       0.415040\n",
              "2        11.583758        0.150859       12.093965       0.416700\n",
              "3        11.440081        0.125882       12.091686       0.419668"
            ]
          },
          "metadata": {
            "tags": []
          },
          "execution_count": 46
        }
      ]
    },
    {
      "cell_type": "code",
      "metadata": {
        "colab": {
          "base_uri": "https://localhost:8080/"
        },
        "id": "zZTlIsoT9wh_",
        "outputId": "2af00bfd-3ebb-4e6a-ac0f-370442f8d4c8"
      },
      "source": [
        "cv_results[\"test-rmse-mean\"].min()"
      ],
      "execution_count": null,
      "outputs": [
        {
          "output_type": "execute_result",
          "data": {
            "text/plain": [
              "12.091685666666669"
            ]
          },
          "metadata": {
            "tags": []
          },
          "execution_count": 47
        }
      ]
    },
    {
      "cell_type": "markdown",
      "metadata": {
        "id": "RnUpw6GJwfgR"
      },
      "source": [
        "TUNING MAX_DEPTH AND MIN_CHILD_WEIGHT"
      ]
    },
    {
      "cell_type": "code",
      "metadata": {
        "id": "4bQHB7AHy-qk"
      },
      "source": [
        "gridsearch_params = [\n",
        "    (max_depth, min_child_weight)\n",
        "    for max_depth in range(3,7)\n",
        "    for min_child_weight in range(5,8)\n",
        "]"
      ],
      "execution_count": null,
      "outputs": []
    },
    {
      "cell_type": "code",
      "metadata": {
        "id": "mhA6ZuxC2W5l"
      },
      "source": [
        "min_rmse = float(\"Inf\")\n",
        "best_params = None\n",
        "for max_depth, min_child_weight in gridsearch_params:\n",
        "    print(\"CV with max_depth={}, min_child_weight={}\".format(\n",
        "                             max_depth,\n",
        "                             min_child_weight))\n",
        "    # Update our parameters\n",
        "    params['max_depth'] = max_depth\n",
        "    params['min_child_weight'] = min_child_weight\n",
        "    # Run CV\n",
        "    cv_results = xgb.cv(\n",
        "        params,\n",
        "        dtrain,\n",
        "        num_boost_round=num_boost_round,\n",
        "        seed=42,\n",
        "        nfold=5,\n",
        "        metrics={'rmse'},\n",
        "        early_stopping_rounds=10\n",
        "    )\n",
        "    # Update best MAE\n",
        "    mean_rmse = cv_results['test-rmse-mean'].min()\n",
        "    boost_rounds = cv_results['test-rmse-mean'].argmin()\n",
        "    print(\"\\tRMSE {} for {} rounds\".format(mean_rmse, boost_rounds))\n",
        "    if mean_rmse < min_rmse:\n",
        "        min_rmse = mean_rmse\n",
        "        best_params = (max_depth,min_child_weight)\n",
        "print(\"Best params: {}, {}, RMSE: {}\".format(best_params[0], best_params[1], min_rmse))"
      ],
      "execution_count": null,
      "outputs": []
    },
    {
      "cell_type": "code",
      "metadata": {
        "id": "8Ik0JarR4Qko"
      },
      "source": [
        "params['max_depth'] = 3\n",
        "params['min_child_weight'] = 7"
      ],
      "execution_count": null,
      "outputs": []
    },
    {
      "cell_type": "markdown",
      "metadata": {
        "id": "KCOfwPW4wcYT"
      },
      "source": [
        "TUNING SUBSAMPLE AND COLSAMPLE"
      ]
    },
    {
      "cell_type": "code",
      "metadata": {
        "id": "bfI7jsn34WtZ"
      },
      "source": [
        "gridsearch_params = [\n",
        "    (subsample, colsample)\n",
        "    for subsample in [i/10. for i in range(4,11)]\n",
        "    for colsample in [i/10. for i in range(4,11)]\n",
        "]"
      ],
      "execution_count": null,
      "outputs": []
    },
    {
      "cell_type": "code",
      "metadata": {
        "id": "IODOofOF4ZdZ"
      },
      "source": [
        "min_rmse = float(\"Inf\")\n",
        "best_params = None\n",
        "# We start by the largest values and go down to the smallest\n",
        "for subsample, colsample in reversed(gridsearch_params):\n",
        "    print(\"CV with subsample={}, colsample={}\".format(\n",
        "                             subsample,\n",
        "                             colsample))\n",
        "    # We update our parameters\n",
        "    params['subsample'] = subsample\n",
        "    params['colsample_bytree'] = colsample\n",
        "    # Run CV\n",
        "    cv_results = xgb.cv(\n",
        "        params,\n",
        "        dtrain,\n",
        "        num_boost_round=num_boost_round,\n",
        "        seed=42,\n",
        "        nfold=5,\n",
        "        metrics={'rmse'},\n",
        "        early_stopping_rounds=10\n",
        "    )\n",
        "    # Update best score\n",
        "    mean_rmse = cv_results['test-rmse-mean'].min()\n",
        "    boost_rounds = cv_results['test-rmse-mean'].argmin()\n",
        "    print(\"\\tRMSE {} for {} rounds\".format(mean_rmse, boost_rounds))\n",
        "    if mean_rmse < min_rmse:\n",
        "        min_rmse = mean_rmse\n",
        "        best_params = (subsample,colsample)\n",
        "print(\"Best params: {}, {}, RMSE: {}\".format(best_params[0], best_params[1], min_rmse))"
      ],
      "execution_count": null,
      "outputs": []
    },
    {
      "cell_type": "code",
      "metadata": {
        "id": "UGR0oI8457TD"
      },
      "source": [
        "params['subsample'] = .9\n",
        "params['colsample_bytree'] = 1"
      ],
      "execution_count": null,
      "outputs": []
    },
    {
      "cell_type": "markdown",
      "metadata": {
        "id": "EoIqQnHs6FqD"
      },
      "source": [
        "TUNING ETA"
      ]
    },
    {
      "cell_type": "code",
      "metadata": {
        "id": "XOOfXI_e6FKv"
      },
      "source": [
        "min_rmse = float(\"Inf\")\n",
        "best_params = None\n",
        "for eta in [.3, .2, .1, .05, .01, .005]:\n",
        "    print(\"CV with eta={}\".format(eta))\n",
        "    # We update our parameters\n",
        "    params['eta'] = eta\n",
        "    # Run and time CV\n",
        "    %time cv_results = xgb.cv(params, dtrain, num_boost_round=num_boost_round, seed=42, nfold=5, metrics=['rmse'], early_stopping_rounds=10)\n",
        "    # Update best score\n",
        "    mean_rmse = cv_results['test-rmse-mean'].min()\n",
        "    boost_rounds = cv_results['test-rmse-mean'].argmin()\n",
        "    print(\"\\tRMSE {} for {} rounds\\n\".format(mean_rmse, boost_rounds))\n",
        "    if mean_rmse < min_rmse:\n",
        "        min_rmse = mean_rmse\n",
        "        best_params = eta\n",
        "print(\"Best params: {}, RMSE: {}\".format(best_params, min_rmse))"
      ],
      "execution_count": null,
      "outputs": []
    },
    {
      "cell_type": "code",
      "metadata": {
        "id": "KMYk8jtV8k_Y"
      },
      "source": [
        "params['eta'] = .1"
      ],
      "execution_count": null,
      "outputs": []
    },
    {
      "cell_type": "code",
      "metadata": {
        "id": "yeq7WnWH0Ybe"
      },
      "source": [
        "evals_result = {}"
      ],
      "execution_count": null,
      "outputs": []
    },
    {
      "cell_type": "code",
      "metadata": {
        "id": "2xHunCYs8_et"
      },
      "source": [
        "model = xgb.train(\n",
        "    params,\n",
        "    dtrain,\n",
        "    num_boost_round=num_boost_round,\n",
        "    evals=[(dtest, \"Test\")],\n",
        "    early_stopping_rounds=10,\n",
        "    evals_result = evals_result\n",
        ")"
      ],
      "execution_count": null,
      "outputs": []
    },
    {
      "cell_type": "code",
      "metadata": {
        "id": "WbypxQnQ9Tay"
      },
      "source": [
        "num_boost_round = model.best_iteration + 1\n",
        "model = xgb.train(\n",
        "    params,\n",
        "    dtrain,\n",
        "    num_boost_round=num_boost_round,\n",
        "    evals=[(dtest, \"Test\")]\n",
        ")"
      ],
      "execution_count": null,
      "outputs": []
    },
    {
      "cell_type": "code",
      "metadata": {
        "colab": {
          "base_uri": "https://localhost:8080/"
        },
        "id": "3Kn8zGXD26Jj",
        "outputId": "bc5e6864-6397-4eec-afec-487d26e0dc58"
      },
      "source": [
        "prediction = model.predict(dtest)\n",
        "prediction"
      ],
      "execution_count": null,
      "outputs": [
        {
          "output_type": "execute_result",
          "data": {
            "text/plain": [
              "array([3.1647727, 2.6073577, 4.2016892, ..., 2.5990138, 3.3450005,\n",
              "       3.2225397], dtype=float32)"
            ]
          },
          "metadata": {
            "tags": []
          },
          "execution_count": 144
        }
      ]
    },
    {
      "cell_type": "markdown",
      "metadata": {
        "id": "B5tbp6UJD7R5"
      },
      "source": [
        "FEATURE IMPORTANCE"
      ]
    },
    {
      "cell_type": "code",
      "metadata": {
        "id": "fTTIgNoXz0kr"
      },
      "source": [
        "xgb.plot_importance(model)"
      ],
      "execution_count": null,
      "outputs": []
    },
    {
      "cell_type": "markdown",
      "metadata": {
        "id": "5EfaXDeIDu3K"
      },
      "source": [
        "EXPLAINED VARIANCE SCORE\n"
      ]
    },
    {
      "cell_type": "code",
      "metadata": {
        "id": "8hxC8K8DDa1U"
      },
      "source": [
        "evs = explained_variance_score(test_labels, prediction)"
      ],
      "execution_count": null,
      "outputs": []
    },
    {
      "cell_type": "code",
      "metadata": {
        "colab": {
          "base_uri": "https://localhost:8080/"
        },
        "id": "ZkO7BVbUDcGE",
        "outputId": "e1bd4a9b-5f28-4fdf-bd14-c5489b4679f1"
      },
      "source": [
        "evs"
      ],
      "execution_count": null,
      "outputs": [
        {
          "output_type": "execute_result",
          "data": {
            "text/plain": [
              "0.00021138717412705343"
            ]
          },
          "metadata": {
            "tags": []
          },
          "execution_count": 146
        }
      ]
    },
    {
      "cell_type": "markdown",
      "metadata": {
        "id": "TpUYgEMLDyfZ"
      },
      "source": [
        "MAX ERROR"
      ]
    },
    {
      "cell_type": "code",
      "metadata": {
        "id": "U0rdGe9hDthy"
      },
      "source": [
        "maxer = max_error(test_labels, prediction)"
      ],
      "execution_count": null,
      "outputs": []
    },
    {
      "cell_type": "code",
      "metadata": {
        "colab": {
          "base_uri": "https://localhost:8080/"
        },
        "id": "GXovE5BiD6vi",
        "outputId": "40e5676b-42f6-45e8-ce28-c24ed90606e1"
      },
      "source": [
        "maxer"
      ],
      "execution_count": null,
      "outputs": [
        {
          "output_type": "execute_result",
          "data": {
            "text/plain": [
              "272.0488246258545"
            ]
          },
          "metadata": {
            "tags": []
          },
          "execution_count": 148
        }
      ]
    },
    {
      "cell_type": "markdown",
      "metadata": {
        "id": "hcinrEAOEEIm"
      },
      "source": [
        "MEAN ABSOLUTE ERROR"
      ]
    },
    {
      "cell_type": "code",
      "metadata": {
        "id": "hHfEiYTeEGId"
      },
      "source": [
        "mas = mean_absolute_error(test_labels, prediction)"
      ],
      "execution_count": null,
      "outputs": []
    },
    {
      "cell_type": "code",
      "metadata": {
        "colab": {
          "base_uri": "https://localhost:8080/"
        },
        "id": "DOEz2rqFUMrM",
        "outputId": "ab896b1e-3fe3-4300-ca94-ce49bf7f0ed4"
      },
      "source": [
        "mas"
      ],
      "execution_count": null,
      "outputs": [
        {
          "output_type": "execute_result",
          "data": {
            "text/plain": [
              "5.4592446567638975"
            ]
          },
          "metadata": {
            "tags": []
          },
          "execution_count": 150
        }
      ]
    },
    {
      "cell_type": "markdown",
      "metadata": {
        "id": "3bo8Us7WAP26"
      },
      "source": [
        "**FUTURE PREDICTIONS**"
      ]
    },
    {
      "cell_type": "code",
      "metadata": {
        "id": "lBdlxb1p_6OR"
      },
      "source": [
        "X_future = pd.read_csv('/content/datasets/MyDrive/Datasets/GCM Future /CSV Files/future_Point_1.csv')"
      ],
      "execution_count": null,
      "outputs": []
    },
    {
      "cell_type": "code",
      "metadata": {
        "colab": {
          "base_uri": "https://localhost:8080/",
          "height": 415
        },
        "id": "dpQu-QrxApsv",
        "outputId": "28b29e0c-1679-42ca-fee7-2b22e429b294"
      },
      "source": [
        "X"
      ],
      "execution_count": null,
      "outputs": [
        {
          "output_type": "execute_result",
          "data": {
            "text/html": [
              "<div>\n",
              "<style scoped>\n",
              "    .dataframe tbody tr th:only-of-type {\n",
              "        vertical-align: middle;\n",
              "    }\n",
              "\n",
              "    .dataframe tbody tr th {\n",
              "        vertical-align: top;\n",
              "    }\n",
              "\n",
              "    .dataframe thead th {\n",
              "        text-align: right;\n",
              "    }\n",
              "</style>\n",
              "<table border=\"1\" class=\"dataframe\">\n",
              "  <thead>\n",
              "    <tr style=\"text-align: right;\">\n",
              "      <th></th>\n",
              "      <th>CLT</th>\n",
              "      <th>HURS</th>\n",
              "      <th>HUSS</th>\n",
              "      <th>PSL</th>\n",
              "      <th>TAS</th>\n",
              "      <th>UAS</th>\n",
              "      <th>VAS</th>\n",
              "      <th>ZG500</th>\n",
              "    </tr>\n",
              "  </thead>\n",
              "  <tbody>\n",
              "    <tr>\n",
              "      <th>0</th>\n",
              "      <td>13.604736</td>\n",
              "      <td>59.945312</td>\n",
              "      <td>0.011603</td>\n",
              "      <td>101535.250</td>\n",
              "      <td>298.00415</td>\n",
              "      <td>-4.616211</td>\n",
              "      <td>0.129883</td>\n",
              "      <td>5847.5273</td>\n",
              "    </tr>\n",
              "    <tr>\n",
              "      <th>1</th>\n",
              "      <td>18.096924</td>\n",
              "      <td>64.500000</td>\n",
              "      <td>0.012440</td>\n",
              "      <td>101489.125</td>\n",
              "      <td>297.94043</td>\n",
              "      <td>-4.403320</td>\n",
              "      <td>0.273438</td>\n",
              "      <td>5850.1680</td>\n",
              "    </tr>\n",
              "    <tr>\n",
              "      <th>2</th>\n",
              "      <td>8.856201</td>\n",
              "      <td>65.101560</td>\n",
              "      <td>0.012771</td>\n",
              "      <td>101461.125</td>\n",
              "      <td>298.15356</td>\n",
              "      <td>-4.736328</td>\n",
              "      <td>0.154297</td>\n",
              "      <td>5852.1290</td>\n",
              "    </tr>\n",
              "    <tr>\n",
              "      <th>3</th>\n",
              "      <td>63.604736</td>\n",
              "      <td>66.312500</td>\n",
              "      <td>0.012901</td>\n",
              "      <td>101307.875</td>\n",
              "      <td>298.04420</td>\n",
              "      <td>-4.218750</td>\n",
              "      <td>0.290039</td>\n",
              "      <td>5845.1406</td>\n",
              "    </tr>\n",
              "    <tr>\n",
              "      <th>4</th>\n",
              "      <td>77.667240</td>\n",
              "      <td>62.742188</td>\n",
              "      <td>0.012550</td>\n",
              "      <td>101178.560</td>\n",
              "      <td>298.38428</td>\n",
              "      <td>-3.522461</td>\n",
              "      <td>1.387695</td>\n",
              "      <td>5834.0117</td>\n",
              "    </tr>\n",
              "    <tr>\n",
              "      <th>...</th>\n",
              "      <td>...</td>\n",
              "      <td>...</td>\n",
              "      <td>...</td>\n",
              "      <td>...</td>\n",
              "      <td>...</td>\n",
              "      <td>...</td>\n",
              "      <td>...</td>\n",
              "      <td>...</td>\n",
              "    </tr>\n",
              "    <tr>\n",
              "      <th>23029</th>\n",
              "      <td>9.442139</td>\n",
              "      <td>74.187500</td>\n",
              "      <td>0.015402</td>\n",
              "      <td>101300.310</td>\n",
              "      <td>299.02880</td>\n",
              "      <td>-1.420898</td>\n",
              "      <td>0.916992</td>\n",
              "      <td>5872.6250</td>\n",
              "    </tr>\n",
              "    <tr>\n",
              "      <th>23030</th>\n",
              "      <td>0.067139</td>\n",
              "      <td>59.632812</td>\n",
              "      <td>0.011755</td>\n",
              "      <td>101529.690</td>\n",
              "      <td>298.45435</td>\n",
              "      <td>-3.545898</td>\n",
              "      <td>0.376953</td>\n",
              "      <td>5892.5350</td>\n",
              "    </tr>\n",
              "    <tr>\n",
              "      <th>23031</th>\n",
              "      <td>6.964111</td>\n",
              "      <td>65.023440</td>\n",
              "      <td>0.012337</td>\n",
              "      <td>101475.500</td>\n",
              "      <td>297.90480</td>\n",
              "      <td>-1.319336</td>\n",
              "      <td>-0.192383</td>\n",
              "      <td>5894.3240</td>\n",
              "    </tr>\n",
              "    <tr>\n",
              "      <th>23032</th>\n",
              "      <td>1.824951</td>\n",
              "      <td>65.562500</td>\n",
              "      <td>0.012844</td>\n",
              "      <td>101453.190</td>\n",
              "      <td>298.22266</td>\n",
              "      <td>-3.862305</td>\n",
              "      <td>0.035156</td>\n",
              "      <td>5888.2850</td>\n",
              "    </tr>\n",
              "    <tr>\n",
              "      <th>23033</th>\n",
              "      <td>33.660890</td>\n",
              "      <td>69.171875</td>\n",
              "      <td>0.013688</td>\n",
              "      <td>101434.625</td>\n",
              "      <td>298.33180</td>\n",
              "      <td>-5.258789</td>\n",
              "      <td>-0.750000</td>\n",
              "      <td>5879.2930</td>\n",
              "    </tr>\n",
              "  </tbody>\n",
              "</table>\n",
              "<p>23034 rows × 8 columns</p>\n",
              "</div>"
            ],
            "text/plain": [
              "             CLT       HURS      HUSS  ...       UAS       VAS      ZG500\n",
              "0      13.604736  59.945312  0.011603  ... -4.616211  0.129883  5847.5273\n",
              "1      18.096924  64.500000  0.012440  ... -4.403320  0.273438  5850.1680\n",
              "2       8.856201  65.101560  0.012771  ... -4.736328  0.154297  5852.1290\n",
              "3      63.604736  66.312500  0.012901  ... -4.218750  0.290039  5845.1406\n",
              "4      77.667240  62.742188  0.012550  ... -3.522461  1.387695  5834.0117\n",
              "...          ...        ...       ...  ...       ...       ...        ...\n",
              "23029   9.442139  74.187500  0.015402  ... -1.420898  0.916992  5872.6250\n",
              "23030   0.067139  59.632812  0.011755  ... -3.545898  0.376953  5892.5350\n",
              "23031   6.964111  65.023440  0.012337  ... -1.319336 -0.192383  5894.3240\n",
              "23032   1.824951  65.562500  0.012844  ... -3.862305  0.035156  5888.2850\n",
              "23033  33.660890  69.171875  0.013688  ... -5.258789 -0.750000  5879.2930\n",
              "\n",
              "[23034 rows x 8 columns]"
            ]
          },
          "metadata": {
            "tags": []
          },
          "execution_count": 93
        }
      ]
    },
    {
      "cell_type": "code",
      "metadata": {
        "id": "o6yDTmgNAna9"
      },
      "source": [
        "X_future = X_future.iloc[:, 1:]\n",
        "y_future = y"
      ],
      "execution_count": null,
      "outputs": []
    },
    {
      "cell_type": "code",
      "metadata": {
        "colab": {
          "base_uri": "https://localhost:8080/",
          "height": 415
        },
        "id": "4x-3GRMH8RAX",
        "outputId": "c9583619-f940-4d78-ac25-4db55354a587"
      },
      "source": [
        "X_future"
      ],
      "execution_count": null,
      "outputs": [
        {
          "output_type": "execute_result",
          "data": {
            "text/html": [
              "<div>\n",
              "<style scoped>\n",
              "    .dataframe tbody tr th:only-of-type {\n",
              "        vertical-align: middle;\n",
              "    }\n",
              "\n",
              "    .dataframe tbody tr th {\n",
              "        vertical-align: top;\n",
              "    }\n",
              "\n",
              "    .dataframe thead th {\n",
              "        text-align: right;\n",
              "    }\n",
              "</style>\n",
              "<table border=\"1\" class=\"dataframe\">\n",
              "  <thead>\n",
              "    <tr style=\"text-align: right;\">\n",
              "      <th></th>\n",
              "      <th>CLT</th>\n",
              "      <th>HURS</th>\n",
              "      <th>HUSS</th>\n",
              "      <th>PSL</th>\n",
              "      <th>TAS</th>\n",
              "      <th>UAS</th>\n",
              "      <th>VAS</th>\n",
              "      <th>ZG500</th>\n",
              "    </tr>\n",
              "  </thead>\n",
              "  <tbody>\n",
              "    <tr>\n",
              "      <th>0</th>\n",
              "      <td>63.281250</td>\n",
              "      <td>72.312500</td>\n",
              "      <td>0.014381</td>\n",
              "      <td>101474.125</td>\n",
              "      <td>298.40967</td>\n",
              "      <td>-5.477539</td>\n",
              "      <td>-0.747070</td>\n",
              "      <td>5870.3790</td>\n",
              "    </tr>\n",
              "    <tr>\n",
              "      <th>1</th>\n",
              "      <td>30.206299</td>\n",
              "      <td>72.226560</td>\n",
              "      <td>0.014678</td>\n",
              "      <td>101578.560</td>\n",
              "      <td>298.78394</td>\n",
              "      <td>-6.118164</td>\n",
              "      <td>-0.960938</td>\n",
              "      <td>5871.2970</td>\n",
              "    </tr>\n",
              "    <tr>\n",
              "      <th>2</th>\n",
              "      <td>13.476562</td>\n",
              "      <td>72.593750</td>\n",
              "      <td>0.014564</td>\n",
              "      <td>101576.440</td>\n",
              "      <td>298.52760</td>\n",
              "      <td>-6.063477</td>\n",
              "      <td>-0.803711</td>\n",
              "      <td>5857.3477</td>\n",
              "    </tr>\n",
              "    <tr>\n",
              "      <th>3</th>\n",
              "      <td>14.520264</td>\n",
              "      <td>65.054690</td>\n",
              "      <td>0.012719</td>\n",
              "      <td>101510.375</td>\n",
              "      <td>298.24730</td>\n",
              "      <td>-5.908203</td>\n",
              "      <td>-0.448242</td>\n",
              "      <td>5841.1094</td>\n",
              "    </tr>\n",
              "    <tr>\n",
              "      <th>4</th>\n",
              "      <td>65.948490</td>\n",
              "      <td>64.984375</td>\n",
              "      <td>0.012638</td>\n",
              "      <td>101471.810</td>\n",
              "      <td>298.11792</td>\n",
              "      <td>-4.831055</td>\n",
              "      <td>-0.698242</td>\n",
              "      <td>5841.5350</td>\n",
              "    </tr>\n",
              "    <tr>\n",
              "      <th>...</th>\n",
              "      <td>...</td>\n",
              "      <td>...</td>\n",
              "      <td>...</td>\n",
              "      <td>...</td>\n",
              "      <td>...</td>\n",
              "      <td>...</td>\n",
              "      <td>...</td>\n",
              "      <td>...</td>\n",
              "    </tr>\n",
              "    <tr>\n",
              "      <th>12595</th>\n",
              "      <td>3.320312</td>\n",
              "      <td>63.328125</td>\n",
              "      <td>0.014457</td>\n",
              "      <td>102023.560</td>\n",
              "      <td>300.80690</td>\n",
              "      <td>-6.871094</td>\n",
              "      <td>-1.706055</td>\n",
              "      <td>5902.1290</td>\n",
              "    </tr>\n",
              "    <tr>\n",
              "      <th>12596</th>\n",
              "      <td>27.996826</td>\n",
              "      <td>68.351560</td>\n",
              "      <td>0.014900</td>\n",
              "      <td>101860.000</td>\n",
              "      <td>299.97998</td>\n",
              "      <td>-4.899414</td>\n",
              "      <td>-1.692383</td>\n",
              "      <td>5888.6797</td>\n",
              "    </tr>\n",
              "    <tr>\n",
              "      <th>12597</th>\n",
              "      <td>44.464110</td>\n",
              "      <td>71.945310</td>\n",
              "      <td>0.015841</td>\n",
              "      <td>101767.125</td>\n",
              "      <td>300.07837</td>\n",
              "      <td>-5.620117</td>\n",
              "      <td>-1.271484</td>\n",
              "      <td>5882.5350</td>\n",
              "    </tr>\n",
              "    <tr>\n",
              "      <th>12598</th>\n",
              "      <td>25.262451</td>\n",
              "      <td>64.437500</td>\n",
              "      <td>0.014330</td>\n",
              "      <td>101779.250</td>\n",
              "      <td>300.26587</td>\n",
              "      <td>-5.959961</td>\n",
              "      <td>-0.777344</td>\n",
              "      <td>5889.1406</td>\n",
              "    </tr>\n",
              "    <tr>\n",
              "      <th>12599</th>\n",
              "      <td>2.020264</td>\n",
              "      <td>61.937500</td>\n",
              "      <td>0.013462</td>\n",
              "      <td>101689.750</td>\n",
              "      <td>299.91626</td>\n",
              "      <td>-4.714844</td>\n",
              "      <td>-0.017578</td>\n",
              "      <td>5892.0350</td>\n",
              "    </tr>\n",
              "  </tbody>\n",
              "</table>\n",
              "<p>12600 rows × 8 columns</p>\n",
              "</div>"
            ],
            "text/plain": [
              "             CLT       HURS      HUSS  ...       UAS       VAS      ZG500\n",
              "0      63.281250  72.312500  0.014381  ... -5.477539 -0.747070  5870.3790\n",
              "1      30.206299  72.226560  0.014678  ... -6.118164 -0.960938  5871.2970\n",
              "2      13.476562  72.593750  0.014564  ... -6.063477 -0.803711  5857.3477\n",
              "3      14.520264  65.054690  0.012719  ... -5.908203 -0.448242  5841.1094\n",
              "4      65.948490  64.984375  0.012638  ... -4.831055 -0.698242  5841.5350\n",
              "...          ...        ...       ...  ...       ...       ...        ...\n",
              "12595   3.320312  63.328125  0.014457  ... -6.871094 -1.706055  5902.1290\n",
              "12596  27.996826  68.351560  0.014900  ... -4.899414 -1.692383  5888.6797\n",
              "12597  44.464110  71.945310  0.015841  ... -5.620117 -1.271484  5882.5350\n",
              "12598  25.262451  64.437500  0.014330  ... -5.959961 -0.777344  5889.1406\n",
              "12599   2.020264  61.937500  0.013462  ... -4.714844 -0.017578  5892.0350\n",
              "\n",
              "[12600 rows x 8 columns]"
            ]
          },
          "metadata": {
            "tags": []
          },
          "execution_count": 170
        }
      ]
    },
    {
      "cell_type": "code",
      "metadata": {
        "colab": {
          "base_uri": "https://localhost:8080/"
        },
        "id": "YHka8lqP6xop",
        "outputId": "c6c7c336-657b-43bb-aeff-8f0508f55119"
      },
      "source": [
        "y_future"
      ],
      "execution_count": null,
      "outputs": [
        {
          "output_type": "execute_result",
          "data": {
            "text/plain": [
              "0        0.0\n",
              "1        0.0\n",
              "2        0.0\n",
              "3        0.0\n",
              "4        0.0\n",
              "        ... \n",
              "23029    0.0\n",
              "23030    0.0\n",
              "23031    0.0\n",
              "23032    0.0\n",
              "23033    0.0\n",
              "Name: RAINFALL, Length: 23034, dtype: float64"
            ]
          },
          "metadata": {
            "tags": []
          },
          "execution_count": 171
        }
      ]
    },
    {
      "cell_type": "code",
      "metadata": {
        "id": "27qM1s395N2N"
      },
      "source": [
        "dfut = xgb.DMatrix(X_future)"
      ],
      "execution_count": null,
      "outputs": []
    },
    {
      "cell_type": "code",
      "metadata": {
        "id": "tJY9KgkZAch4"
      },
      "source": [
        "y_fut = model.predict(dfut)"
      ],
      "execution_count": null,
      "outputs": []
    },
    {
      "cell_type": "code",
      "metadata": {
        "id": "ZCPcbLzGA6y5"
      },
      "source": [
        "y_fut"
      ],
      "execution_count": null,
      "outputs": []
    }
  ]
}