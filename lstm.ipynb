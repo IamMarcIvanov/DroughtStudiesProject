{
  "nbformat": 4,
  "nbformat_minor": 0,
  "metadata": {
    "colab": {
      "name": "lstm.ipynb",
      "provenance": [],
      "collapsed_sections": [],
      "authorship_tag": "ABX9TyNHWP+VR2joGLm9zswZrObj",
      "include_colab_link": true
    },
    "kernelspec": {
      "name": "python3",
      "display_name": "Python 3"
    },
    "language_info": {
      "name": "python"
    }
  },
  "cells": [
    {
      "cell_type": "markdown",
      "metadata": {
        "id": "view-in-github",
        "colab_type": "text"
      },
      "source": [
        "<a href=\"https://colab.research.google.com/github/IamMarcIvanov/DroughtStudiesProject/blob/master/lstm.ipynb\" target=\"_parent\"><img src=\"https://colab.research.google.com/assets/colab-badge.svg\" alt=\"Open In Colab\"/></a>"
      ]
    },
    {
      "cell_type": "code",
      "metadata": {
        "id": "2w_e1hHe33pg"
      },
      "source": [
        "import numpy as np\n",
        "import matplotlib.pyplot as plt\n",
        "import pandas as pd\n",
        "import math\n",
        "import keras\n",
        "from keras.models import Sequential\n",
        "from keras.layers import Dense\n",
        "from keras.layers import LSTM\n",
        "from sklearn.preprocessing import MinMaxScaler\n",
        "from sklearn.metrics import mean_squared_error\n",
        "from sklearn.metrics import r2_score"
      ],
      "execution_count": 1,
      "outputs": []
    },
    {
      "cell_type": "code",
      "metadata": {
        "id": "UOYLeYA54B-j"
      },
      "source": [
        "np.random.seed(7)"
      ],
      "execution_count": 2,
      "outputs": []
    },
    {
      "cell_type": "code",
      "metadata": {
        "colab": {
          "base_uri": "https://localhost:8080/"
        },
        "id": "oPxXaSM4fUGQ",
        "outputId": "51108f20-4a6f-42c3-ab9a-2975151d7b13"
      },
      "source": [
        "from google.colab import drive\n",
        "drive.mount(\"/content/gdrive\")"
      ],
      "execution_count": 3,
      "outputs": [
        {
          "output_type": "stream",
          "text": [
            "Drive already mounted at /content/gdrive; to attempt to forcibly remount, call drive.mount(\"/content/gdrive\", force_remount=True).\n"
          ],
          "name": "stdout"
        }
      ]
    },
    {
      "cell_type": "code",
      "metadata": {
        "id": "nDysW2EjfUMh"
      },
      "source": [
        "dataset = pd.read_csv('/content/gdrive/My Drive/IMD Rainfall/rain_Point_1.csv', index_col= 0, parse_dates= True)\n",
        "dataset = dataset.diff(2)\n",
        "dataset.dropna(inplace= True)"
      ],
      "execution_count": 4,
      "outputs": []
    },
    {
      "cell_type": "code",
      "metadata": {
        "id": "7kX2ozDf4kJZ"
      },
      "source": [
        "dataset.drop(columns= ['LONGITUDE', 'LATITUDE'], inplace= True)"
      ],
      "execution_count": 5,
      "outputs": []
    },
    {
      "cell_type": "code",
      "metadata": {
        "colab": {
          "base_uri": "https://localhost:8080/",
          "height": 287
        },
        "id": "G1qwz-Q54sp1",
        "outputId": "ddfddbb6-0ae8-427c-ebe5-3f1f6408761b"
      },
      "source": [
        "dataset.plot()"
      ],
      "execution_count": 6,
      "outputs": [
        {
          "output_type": "execute_result",
          "data": {
            "text/plain": [
              "<matplotlib.axes._subplots.AxesSubplot at 0x7f3b87e12e90>"
            ]
          },
          "metadata": {
            "tags": []
          },
          "execution_count": 6
        },
        {
          "output_type": "display_data",
          "data": {
            "image/png": "[encoded data removed]",
            "text/plain": [
              "<Figure size 432x288 with 1 Axes>"
            ]
          },
          "metadata": {
            "tags": [],
            "needs_background": "light"
          }
        }
      ]
    },
    {
      "cell_type": "code",
      "metadata": {
        "id": "FTv5-bng47te"
      },
      "source": [
        "scaler = MinMaxScaler(feature_range=(0, 1))\n",
        "dataset = scaler.fit_transform(dataset)"
      ],
      "execution_count": 7,
      "outputs": []
    },
    {
      "cell_type": "code",
      "metadata": {
        "id": "-jcWIcj-ZZP8"
      },
      "source": [
        "train_size = int(len(dataset) * 0.7)\n",
        "test_size = int(len(dataset) * 0.3)"
      ],
      "execution_count": 8,
      "outputs": []
    },
    {
      "cell_type": "code",
      "metadata": {
        "id": "iLG8Lss85EhD"
      },
      "source": [
        "train = dataset[:train_size]\n",
        "test = dataset[train_size:]"
      ],
      "execution_count": 9,
      "outputs": []
    },
    {
      "cell_type": "code",
      "metadata": {
        "id": "5yHAaMTD7S3d"
      },
      "source": [
        "look_back = 3"
      ],
      "execution_count": 10,
      "outputs": []
    },
    {
      "cell_type": "code",
      "metadata": {
        "id": "orlAhr2h5Zgo"
      },
      "source": [
        "def create_dataset(dataset, look_back= 1):\n",
        "\tdataX, dataY = [], []\n",
        "\tfor i in range(len(dataset)-look_back - 1):\n",
        "\t\ta = dataset[i:(i+look_back), 0]\n",
        "\t\tdataX.append(a)\n",
        "\t\tdataY.append(dataset[i + look_back, 0])\n",
        "\treturn np.array(dataX), np.array(dataY)"
      ],
      "execution_count": 11,
      "outputs": []
    },
    {
      "cell_type": "code",
      "metadata": {
        "id": "GY4-xMi06MEm"
      },
      "source": [
        "X_train, y_train = create_dataset(train, look_back)"
      ],
      "execution_count": 12,
      "outputs": []
    },
    {
      "cell_type": "code",
      "metadata": {
        "id": "qwev07bw6pxC"
      },
      "source": [
        "X_test, y_test = create_dataset(test, look_back)"
      ],
      "execution_count": 13,
      "outputs": []
    },
    {
      "cell_type": "code",
      "metadata": {
        "id": "asSkw2ci610x"
      },
      "source": [
        "X_train = np.reshape(X_train, (X_train.shape[0], 1, X_train.shape[1]))\n",
        "X_test = np.reshape(X_test, (X_test.shape[0], 1, X_test.shape[1]))"
      ],
      "execution_count": 14,
      "outputs": []
    },
    {
      "cell_type": "code",
      "metadata": {
        "id": "N5sgQxAirGNX",
        "colab": {
          "base_uri": "https://localhost:8080/"
        },
        "outputId": "7b97aa02-50f2-40b4-de38-e0905a0ae50f"
      },
      "source": [
        "# create and fit the LSTM network\n",
        "model = Sequential()\n",
        "model.add(LSTM(units= 64, input_shape=(X_train.shape[1], X_train.shape[2])))\n",
        "model.add(Dense(1))\n",
        "model.compile(loss='mean_squared_error', optimizer= 'Adam')\n",
        "model.fit(X_train, y_train, epochs=30, batch_size=1, verbose=1, validation_split= 0.1, shuffle= False)"
      ],
      "execution_count": 15,
      "outputs": [
        {
          "output_type": "stream",
          "text": [
            "Epoch 1/30\n",
            "16099/16099 [==============================] - 30s 2ms/step - loss: 0.0024 - val_loss: 7.2681e-04\n",
            "Epoch 2/30\n",
            "16099/16099 [==============================] - 28s 2ms/step - loss: 3.9685e-04 - val_loss: 7.1493e-04\n",
            "Epoch 3/30\n",
            "16099/16099 [==============================] - 28s 2ms/step - loss: 3.8340e-04 - val_loss: 7.0455e-04\n",
            "Epoch 4/30\n",
            "16099/16099 [==============================] - 28s 2ms/step - loss: 3.7329e-04 - val_loss: 6.9099e-04\n",
            "Epoch 5/30\n",
            "16099/16099 [==============================] - 28s 2ms/step - loss: 3.6476e-04 - val_loss: 6.7505e-04\n",
            "Epoch 6/30\n",
            "16099/16099 [==============================] - 28s 2ms/step - loss: 3.5723e-04 - val_loss: 6.5645e-04\n",
            "Epoch 7/30\n",
            "16099/16099 [==============================] - 28s 2ms/step - loss: 3.4984e-04 - val_loss: 6.3757e-04\n",
            "Epoch 8/30\n",
            "16099/16099 [==============================] - 28s 2ms/step - loss: 3.4253e-04 - val_loss: 6.1938e-04\n",
            "Epoch 9/30\n",
            "16099/16099 [==============================] - 28s 2ms/step - loss: 3.3542e-04 - val_loss: 6.0499e-04\n",
            "Epoch 10/30\n",
            "16099/16099 [==============================] - 28s 2ms/step - loss: 3.2841e-04 - val_loss: 5.9712e-04\n",
            "Epoch 11/30\n",
            "16099/16099 [==============================] - 28s 2ms/step - loss: 3.2170e-04 - val_loss: 5.9804e-04\n",
            "Epoch 12/30\n",
            "16099/16099 [==============================] - 28s 2ms/step - loss: 3.1566e-04 - val_loss: 6.0810e-04\n",
            "Epoch 13/30\n",
            "16099/16099 [==============================] - 28s 2ms/step - loss: 3.1088e-04 - val_loss: 6.2600e-04\n",
            "Epoch 14/30\n",
            "16099/16099 [==============================] - 28s 2ms/step - loss: 3.0674e-04 - val_loss: 6.4843e-04\n",
            "Epoch 15/30\n",
            "16099/16099 [==============================] - 27s 2ms/step - loss: 3.0342e-04 - val_loss: 6.7107e-04\n",
            "Epoch 16/30\n",
            "16099/16099 [==============================] - 28s 2ms/step - loss: 3.0099e-04 - val_loss: 6.9208e-04\n",
            "Epoch 17/30\n",
            "16099/16099 [==============================] - 27s 2ms/step - loss: 2.9904e-04 - val_loss: 7.1024e-04\n",
            "Epoch 18/30\n",
            "16099/16099 [==============================] - 28s 2ms/step - loss: 2.9732e-04 - val_loss: 7.2497e-04\n",
            "Epoch 19/30\n",
            "16099/16099 [==============================] - 28s 2ms/step - loss: 2.9578e-04 - val_loss: 7.3647e-04\n",
            "Epoch 20/30\n",
            "16099/16099 [==============================] - 28s 2ms/step - loss: 2.9449e-04 - val_loss: 7.4573e-04\n",
            "Epoch 21/30\n",
            "16099/16099 [==============================] - 29s 2ms/step - loss: 2.9328e-04 - val_loss: 7.5311e-04\n",
            "Epoch 22/30\n",
            "16099/16099 [==============================] - 29s 2ms/step - loss: 2.9213e-04 - val_loss: 7.5785e-04\n",
            "Epoch 23/30\n",
            "16099/16099 [==============================] - 28s 2ms/step - loss: 2.9104e-04 - val_loss: 7.5987e-04\n",
            "Epoch 24/30\n",
            "16099/16099 [==============================] - 29s 2ms/step - loss: 2.8998e-04 - val_loss: 7.5928e-04\n",
            "Epoch 25/30\n",
            "16099/16099 [==============================] - 29s 2ms/step - loss: 2.8902e-04 - val_loss: 7.5671e-04\n",
            "Epoch 26/30\n",
            "16099/16099 [==============================] - 28s 2ms/step - loss: 2.8816e-04 - val_loss: 7.5222e-04\n",
            "Epoch 27/30\n",
            "16099/16099 [==============================] - 28s 2ms/step - loss: 2.8732e-04 - val_loss: 7.4615e-04\n",
            "Epoch 28/30\n",
            "16099/16099 [==============================] - 28s 2ms/step - loss: 2.8652e-04 - val_loss: 7.3902e-04\n",
            "Epoch 29/30\n",
            "16099/16099 [==============================] - 28s 2ms/step - loss: 2.8578e-04 - val_loss: 7.3136e-04\n",
            "Epoch 30/30\n",
            "16099/16099 [==============================] - 28s 2ms/step - loss: 2.8513e-04 - val_loss: 7.2372e-04\n"
          ],
          "name": "stdout"
        },
        {
          "output_type": "execute_result",
          "data": {
            "text/plain": [
              "<tensorflow.python.keras.callbacks.History at 0x7f3b82b4f550>"
            ]
          },
          "metadata": {
            "tags": []
          },
          "execution_count": 15
        }
      ]
    },
    {
      "cell_type": "code",
      "metadata": {
        "id": "8RAQ_oj8vICq"
      },
      "source": [
        "# make predictions\n",
        "trainPredict = model.predict(X_train)\n",
        "testPredict = model.predict(X_test)\n",
        "# # invert predictions\n",
        "trainPredict = scaler.inverse_transform(trainPredict)\n",
        "y_train = scaler.inverse_transform([y_train])\n",
        "testPredict = scaler.inverse_transform(testPredict)\n",
        "y_test = scaler.inverse_transform([y_test])"
      ],
      "execution_count": 16,
      "outputs": []
    },
    {
      "cell_type": "code",
      "metadata": {
        "id": "uyMd0iiD4B1H"
      },
      "source": [
        "from sklearn.metrics import mean_absolute_error"
      ],
      "execution_count": 17,
      "outputs": []
    },
    {
      "cell_type": "code",
      "metadata": {
        "colab": {
          "base_uri": "https://localhost:8080/"
        },
        "id": "OKqOwoZmvjAh",
        "outputId": "13ab9411-1df4-48d6-cf5c-f90c3a1a09a9"
      },
      "source": [
        "trainScore = mean_absolute_error(y_train[0], trainPredict[:,0])\n",
        "print('Train Score: %.2f MAE' % (trainScore))\n",
        "testScore = mean_absolute_error(y_test[0], testPredict[:,0])\n",
        "print('Test Score: %.2f MAE' % (testScore))\n",
        "r2train = r2_score(y_train[0], trainPredict[:, 0])\n",
        "print('R2 Score Train: %.2f R2' % (r2train))\n",
        "r2test = r2_score(y_test[0], testPredict[:, 0])\n",
        "print('R2 Score Test: %.2f R2' % (r2test))"
      ],
      "execution_count": 18,
      "outputs": [
        {
          "output_type": "stream",
          "text": [
            "Train Score: 4.31 MAE\n",
            "Test Score: 4.90 MAE\n",
            "R2 Score Train: 0.34 R2\n",
            "R2 Score Test: 0.33 R2\n"
          ],
          "name": "stdout"
        }
      ]
    },
    {
      "cell_type": "code",
      "metadata": {
        "colab": {
          "base_uri": "https://localhost:8080/",
          "height": 265
        },
        "id": "Sm5PsmHfvoDx",
        "outputId": "abefdb45-55a3-4b76-9647-cb79bbfc28f0"
      },
      "source": [
        "trainPredictPlot = np.empty_like(dataset)\n",
        "trainPredictPlot[:, :] = np.nan\n",
        "trainPredictPlot[look_back:len(trainPredict)+look_back, :] = trainPredict\n",
        "# shift test predictions for plotting\n",
        "testPredictPlot = np.empty_like(dataset)\n",
        "testPredictPlot[:, :] = np.nan\n",
        "testPredictPlot[len(trainPredict)+(look_back*2)+1:len(dataset)-1, :] = testPredict\n",
        "# plot baseline and predictions\n",
        "plt.plot(scaler.inverse_transform(dataset))\n",
        "plt.plot(trainPredictPlot)\n",
        "plt.plot(testPredictPlot)\n",
        "plt.show()"
      ],
      "execution_count": 19,
      "outputs": [
        {
          "output_type": "display_data",
          "data": {
            "image/png": "[encoded data removed]",
            "text/plain": [
              "<Figure size 432x288 with 1 Axes>"
            ]
          },
          "metadata": {
            "tags": [],
            "needs_background": "light"
          }
        }
      ]
    },
    {
      "cell_type": "code",
      "metadata": {
        "id": "OACtKPyt58gQ"
      },
      "source": [
        "predicted = testPredict[:, 0]"
      ],
      "execution_count": 20,
      "outputs": []
    },
    {
      "cell_type": "code",
      "metadata": {
        "id": "2xe9Xf5dCnzo"
      },
      "source": [
        "predicted = abs(pd.DataFrame(predicted))"
      ],
      "execution_count": 21,
      "outputs": []
    },
    {
      "cell_type": "code",
      "metadata": {
        "colab": {
          "base_uri": "https://localhost:8080/"
        },
        "id": "3qLQIcAfCvrN",
        "outputId": "85c270e8-3fda-45fc-8fa5-f29639f64080"
      },
      "source": [
        "predicted.min()"
      ],
      "execution_count": 22,
      "outputs": [
        {
          "output_type": "execute_result",
          "data": {
            "text/plain": [
              "0    0.000253\n",
              "dtype: float32"
            ]
          },
          "metadata": {
            "tags": []
          },
          "execution_count": 22
        }
      ]
    },
    {
      "cell_type": "code",
      "metadata": {
        "colab": {
          "base_uri": "https://localhost:8080/"
        },
        "id": "vrMP6RSwC7we",
        "outputId": "340507c0-65db-4d7f-c28e-f4b6038b6bb1"
      },
      "source": [
        "predicted.max()"
      ],
      "execution_count": 23,
      "outputs": [
        {
          "output_type": "execute_result",
          "data": {
            "text/plain": [
              "0    433.162506\n",
              "dtype: float32"
            ]
          },
          "metadata": {
            "tags": []
          },
          "execution_count": 23
        }
      ]
    },
    {
      "cell_type": "code",
      "metadata": {
        "id": "Oo7bXaccC9De"
      },
      "source": [
        ""
      ],
      "execution_count": 23,
      "outputs": []
    }
  ]
}