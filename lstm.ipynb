{
  "nbformat": 4,
  "nbformat_minor": 0,
  "metadata": {
    "colab": {
      "name": "lstm.ipynb",
      "provenance": [],
      "collapsed_sections": [],
      "authorship_tag": "ABX9TyNUK+iv4UAok5dKpbDXnlAO",
      "include_colab_link": true
    },
    "kernelspec": {
      "name": "python3",
      "display_name": "Python 3"
    },
    "language_info": {
      "name": "python"
    }
  },
  "cells": [
    {
      "cell_type": "markdown",
      "metadata": {
        "id": "view-in-github",
        "colab_type": "text"
      },
      "source": [
        "<a href=\"https://colab.research.google.com/github/IamMarcIvanov/DroughtStudiesProject/blob/master/lstm.ipynb\" target=\"_parent\"><img src=\"https://colab.research.google.com/assets/colab-badge.svg\" alt=\"Open In Colab\"/></a>"
      ]
    },
    {
      "cell_type": "code",
      "metadata": {
        "id": "2w_e1hHe33pg"
      },
      "source": [
        "import numpy as np\n",
        "import matplotlib.pyplot as plt\n",
        "import pandas as pd\n",
        "import math\n",
        "from keras.models import Sequential\n",
        "from keras.layers import Dense\n",
        "from keras.layers import LSTM\n",
        "from sklearn.preprocessing import MinMaxScaler\n",
        "from sklearn.metrics import mean_squared_error\n",
        "from sklearn.metrics import r2_score"
      ],
      "execution_count": null,
      "outputs": []
    },
    {
      "cell_type": "code",
      "metadata": {
        "id": "UOYLeYA54B-j"
      },
      "source": [
        "np.random.seed(7)"
      ],
      "execution_count": null,
      "outputs": []
    },
    {
      "cell_type": "code",
      "metadata": {
        "id": "duZ1-Es_4IZ0"
      },
      "source": [
        "dataset = pd.read_csv('rain_Point_1.csv',index_col = 0, parse_dates= True)"
      ],
      "execution_count": null,
      "outputs": []
    },
    {
      "cell_type": "code",
      "metadata": {
        "id": "7kX2ozDf4kJZ"
      },
      "source": [
        "dataset.drop(columns= ['LONGITUDE', 'LATITUDE'], inplace= True)"
      ],
      "execution_count": null,
      "outputs": []
    },
    {
      "cell_type": "code",
      "metadata": {
        "colab": {
          "base_uri": "https://localhost:8080/",
          "height": 298
        },
        "id": "G1qwz-Q54sp1",
        "outputId": "ca0540bb-7dc9-41b6-ae40-e9eb21b38745"
      },
      "source": [
        "dataset.plot()"
      ],
      "execution_count": null,
      "outputs": [
        {
          "output_type": "execute_result",
          "data": {
            "text/plain": [
              "<matplotlib.axes._subplots.AxesSubplot at 0x7f11dd291290>"
            ]
          },
          "metadata": {
            "tags": []
          },
          "execution_count": 5
        },
        {
          "output_type": "display_data",
          "data": {
            "image/png": "[encoded data removed]",
            "text/plain": [
              "<Figure size 432x288 with 1 Axes>"
            ]
          },
          "metadata": {
            "tags": [],
            "needs_background": "light"
          }
        }
      ]
    },
    {
      "cell_type": "code",
      "metadata": {
        "id": "g9xIcR374wEo"
      },
      "source": [
        "dataset.fillna(method= 'ffill', inplace= True)"
      ],
      "execution_count": null,
      "outputs": []
    },
    {
      "cell_type": "code",
      "metadata": {
        "id": "9Gc4mcxm5vnc"
      },
      "source": [
        "train = dataset[dataset.index < '2015-01-01']\n",
        "test = dataset[dataset.index > '2015-01-01']"
      ],
      "execution_count": null,
      "outputs": []
    },
    {
      "cell_type": "code",
      "metadata": {
        "id": "FTv5-bng47te"
      },
      "source": [
        "scaler = MinMaxScaler(feature_range=(0, 1))\n",
        "dataset = scaler.fit_transform(dataset)"
      ],
      "execution_count": null,
      "outputs": []
    },
    {
      "cell_type": "code",
      "metadata": {
        "id": "iLG8Lss85EhD"
      },
      "source": [
        "train = dataset[:23377]\n",
        "test = dataset[23377:]"
      ],
      "execution_count": null,
      "outputs": []
    },
    {
      "cell_type": "code",
      "metadata": {
        "id": "orlAhr2h5Zgo"
      },
      "source": [
        "def create_dataset(dataset, look_back=1):\n",
        "\tdataX, dataY = [], []\n",
        "\tfor i in range(len(dataset)-look_back-1):\n",
        "\t\ta = dataset[i:(i+look_back), 0]\n",
        "\t\tdataX.append(a)\n",
        "\t\tdataY.append(dataset[i + look_back, 0])\n",
        "\treturn np.array(dataX), np.array(dataY)"
      ],
      "execution_count": null,
      "outputs": []
    },
    {
      "cell_type": "code",
      "metadata": {
        "id": "GY4-xMi06MEm"
      },
      "source": [
        "X_train, y_train = create_dataset(train, look_back= 1)"
      ],
      "execution_count": null,
      "outputs": []
    },
    {
      "cell_type": "code",
      "metadata": {
        "id": "qwev07bw6pxC"
      },
      "source": [
        "X_test, y_test = create_dataset(test, look_back= 1)"
      ],
      "execution_count": null,
      "outputs": []
    },
    {
      "cell_type": "code",
      "metadata": {
        "id": "asSkw2ci610x"
      },
      "source": [
        "X_train = np.reshape(X_train, (X_train.shape[0], 1, X_train.shape[1]))\n",
        "X_test = np.reshape(X_test, (X_test.shape[0], 1, X_test.shape[1]))"
      ],
      "execution_count": null,
      "outputs": []
    },
    {
      "cell_type": "code",
      "metadata": {
        "id": "5yHAaMTD7S3d"
      },
      "source": [
        "look_back = 1"
      ],
      "execution_count": null,
      "outputs": []
    },
    {
      "cell_type": "code",
      "metadata": {
        "colab": {
          "base_uri": "https://localhost:8080/"
        },
        "id": "hTHrbEiWiMf1",
        "outputId": "743dced7-3985-4796-e75c-e390b8a9c56d"
      },
      "source": [
        "# create and fit the LSTM network\n",
        "model = Sequential()\n",
        "model.add(LSTM(6, input_shape=(1, look_back)))\n",
        "model.add(Dense(1))\n",
        "model.add(Dense(1))\n",
        "model.compile(loss='mean_squared_error', optimizer='Adam')\n",
        "model.fit(X_train, y_train, epochs=100, batch_size=1, verbose=2)"
      ],
      "execution_count": null,
      "outputs": [
        {
          "output_type": "stream",
          "text": [
            "Epoch 1/100\n",
            "23375/23375 - 24s - loss: 0.0012\n",
            "Epoch 2/100\n",
            "23375/23375 - 22s - loss: 0.0012\n",
            "Epoch 3/100\n",
            "23375/23375 - 22s - loss: 0.0012\n",
            "Epoch 4/100\n",
            "23375/23375 - 22s - loss: 0.0012\n",
            "Epoch 5/100\n",
            "23375/23375 - 22s - loss: 0.0012\n",
            "Epoch 6/100\n",
            "23375/23375 - 22s - loss: 0.0012\n",
            "Epoch 7/100\n",
            "23375/23375 - 22s - loss: 0.0012\n",
            "Epoch 8/100\n",
            "23375/23375 - 22s - loss: 0.0012\n",
            "Epoch 9/100\n",
            "23375/23375 - 22s - loss: 0.0012\n",
            "Epoch 10/100\n",
            "23375/23375 - 22s - loss: 0.0012\n",
            "Epoch 11/100\n",
            "23375/23375 - 22s - loss: 0.0012\n",
            "Epoch 12/100\n",
            "23375/23375 - 22s - loss: 0.0012\n",
            "Epoch 13/100\n",
            "23375/23375 - 22s - loss: 0.0012\n",
            "Epoch 14/100\n",
            "23375/23375 - 22s - loss: 0.0012\n",
            "Epoch 15/100\n",
            "23375/23375 - 22s - loss: 0.0012\n",
            "Epoch 16/100\n",
            "23375/23375 - 22s - loss: 0.0012\n",
            "Epoch 17/100\n",
            "23375/23375 - 22s - loss: 0.0012\n",
            "Epoch 18/100\n",
            "23375/23375 - 22s - loss: 0.0012\n",
            "Epoch 19/100\n",
            "23375/23375 - 22s - loss: 0.0012\n",
            "Epoch 20/100\n",
            "23375/23375 - 22s - loss: 0.0012\n",
            "Epoch 21/100\n",
            "23375/23375 - 22s - loss: 0.0012\n",
            "Epoch 22/100\n",
            "23375/23375 - 22s - loss: 0.0012\n",
            "Epoch 23/100\n",
            "23375/23375 - 22s - loss: 0.0012\n",
            "Epoch 24/100\n",
            "23375/23375 - 22s - loss: 0.0012\n",
            "Epoch 25/100\n",
            "23375/23375 - 22s - loss: 0.0012\n",
            "Epoch 26/100\n",
            "23375/23375 - 22s - loss: 0.0012\n",
            "Epoch 27/100\n",
            "23375/23375 - 22s - loss: 0.0012\n",
            "Epoch 28/100\n",
            "23375/23375 - 22s - loss: 0.0012\n",
            "Epoch 29/100\n",
            "23375/23375 - 22s - loss: 0.0012\n",
            "Epoch 30/100\n",
            "23375/23375 - 22s - loss: 0.0012\n",
            "Epoch 31/100\n",
            "23375/23375 - 22s - loss: 0.0012\n",
            "Epoch 32/100\n",
            "23375/23375 - 22s - loss: 0.0012\n",
            "Epoch 33/100\n",
            "23375/23375 - 22s - loss: 0.0012\n",
            "Epoch 34/100\n",
            "23375/23375 - 22s - loss: 0.0012\n",
            "Epoch 35/100\n",
            "23375/23375 - 22s - loss: 0.0012\n",
            "Epoch 36/100\n",
            "23375/23375 - 22s - loss: 0.0012\n",
            "Epoch 37/100\n",
            "23375/23375 - 22s - loss: 0.0012\n",
            "Epoch 38/100\n",
            "23375/23375 - 22s - loss: 0.0012\n",
            "Epoch 39/100\n",
            "23375/23375 - 22s - loss: 0.0012\n",
            "Epoch 40/100\n",
            "23375/23375 - 22s - loss: 0.0012\n",
            "Epoch 41/100\n",
            "23375/23375 - 22s - loss: 0.0012\n",
            "Epoch 42/100\n",
            "23375/23375 - 22s - loss: 0.0012\n",
            "Epoch 43/100\n",
            "23375/23375 - 22s - loss: 0.0012\n",
            "Epoch 44/100\n",
            "23375/23375 - 22s - loss: 0.0012\n",
            "Epoch 45/100\n",
            "23375/23375 - 22s - loss: 0.0012\n",
            "Epoch 46/100\n",
            "23375/23375 - 22s - loss: 0.0012\n",
            "Epoch 47/100\n",
            "23375/23375 - 22s - loss: 0.0012\n",
            "Epoch 48/100\n",
            "23375/23375 - 22s - loss: 0.0012\n",
            "Epoch 49/100\n",
            "23375/23375 - 22s - loss: 0.0012\n",
            "Epoch 50/100\n",
            "23375/23375 - 22s - loss: 0.0012\n",
            "Epoch 51/100\n",
            "23375/23375 - 22s - loss: 0.0012\n",
            "Epoch 52/100\n",
            "23375/23375 - 22s - loss: 0.0012\n",
            "Epoch 53/100\n",
            "23375/23375 - 22s - loss: 0.0012\n",
            "Epoch 54/100\n",
            "23375/23375 - 22s - loss: 0.0012\n",
            "Epoch 55/100\n",
            "23375/23375 - 22s - loss: 0.0012\n",
            "Epoch 56/100\n",
            "23375/23375 - 22s - loss: 0.0012\n",
            "Epoch 57/100\n",
            "23375/23375 - 22s - loss: 0.0012\n",
            "Epoch 58/100\n",
            "23375/23375 - 22s - loss: 0.0012\n",
            "Epoch 59/100\n",
            "23375/23375 - 22s - loss: 0.0012\n",
            "Epoch 60/100\n",
            "23375/23375 - 22s - loss: 0.0012\n",
            "Epoch 61/100\n",
            "23375/23375 - 22s - loss: 0.0012\n",
            "Epoch 62/100\n",
            "23375/23375 - 22s - loss: 0.0012\n",
            "Epoch 63/100\n",
            "23375/23375 - 22s - loss: 0.0012\n",
            "Epoch 64/100\n",
            "23375/23375 - 22s - loss: 0.0012\n",
            "Epoch 65/100\n",
            "23375/23375 - 22s - loss: 0.0012\n",
            "Epoch 66/100\n",
            "23375/23375 - 22s - loss: 0.0012\n",
            "Epoch 67/100\n",
            "23375/23375 - 22s - loss: 0.0012\n",
            "Epoch 68/100\n",
            "23375/23375 - 22s - loss: 0.0012\n",
            "Epoch 69/100\n",
            "23375/23375 - 22s - loss: 0.0012\n",
            "Epoch 70/100\n",
            "23375/23375 - 22s - loss: 0.0012\n",
            "Epoch 71/100\n",
            "23375/23375 - 22s - loss: 0.0012\n",
            "Epoch 72/100\n",
            "23375/23375 - 22s - loss: 0.0012\n",
            "Epoch 73/100\n",
            "23375/23375 - 22s - loss: 0.0012\n",
            "Epoch 74/100\n",
            "23375/23375 - 22s - loss: 0.0012\n",
            "Epoch 75/100\n",
            "23375/23375 - 22s - loss: 0.0012\n",
            "Epoch 76/100\n",
            "23375/23375 - 22s - loss: 0.0012\n",
            "Epoch 77/100\n",
            "23375/23375 - 22s - loss: 0.0012\n",
            "Epoch 78/100\n",
            "23375/23375 - 22s - loss: 0.0012\n",
            "Epoch 79/100\n",
            "23375/23375 - 22s - loss: 0.0012\n",
            "Epoch 80/100\n",
            "23375/23375 - 22s - loss: 0.0012\n",
            "Epoch 81/100\n",
            "23375/23375 - 22s - loss: 0.0012\n",
            "Epoch 82/100\n",
            "23375/23375 - 22s - loss: 0.0012\n",
            "Epoch 83/100\n",
            "23375/23375 - 22s - loss: 0.0012\n",
            "Epoch 84/100\n",
            "23375/23375 - 22s - loss: 0.0012\n",
            "Epoch 85/100\n",
            "23375/23375 - 22s - loss: 0.0012\n",
            "Epoch 86/100\n",
            "23375/23375 - 22s - loss: 0.0012\n",
            "Epoch 87/100\n",
            "23375/23375 - 22s - loss: 0.0012\n",
            "Epoch 88/100\n",
            "23375/23375 - 22s - loss: 0.0012\n",
            "Epoch 89/100\n",
            "23375/23375 - 22s - loss: 0.0012\n",
            "Epoch 90/100\n",
            "23375/23375 - 22s - loss: 0.0012\n",
            "Epoch 91/100\n",
            "23375/23375 - 22s - loss: 0.0012\n",
            "Epoch 92/100\n",
            "23375/23375 - 22s - loss: 0.0012\n",
            "Epoch 93/100\n",
            "23375/23375 - 22s - loss: 0.0012\n",
            "Epoch 94/100\n",
            "23375/23375 - 22s - loss: 0.0012\n",
            "Epoch 95/100\n",
            "23375/23375 - 22s - loss: 0.0012\n",
            "Epoch 96/100\n",
            "23375/23375 - 22s - loss: 0.0012\n",
            "Epoch 97/100\n",
            "23375/23375 - 22s - loss: 0.0012\n",
            "Epoch 98/100\n",
            "23375/23375 - 22s - loss: 0.0012\n",
            "Epoch 99/100\n",
            "23375/23375 - 22s - loss: 0.0012\n",
            "Epoch 100/100\n",
            "23375/23375 - 22s - loss: 0.0012\n"
          ],
          "name": "stdout"
        },
        {
          "output_type": "execute_result",
          "data": {
            "text/plain": [
              "<tensorflow.python.keras.callbacks.History at 0x7f11dc49e090>"
            ]
          },
          "metadata": {
            "tags": []
          },
          "execution_count": 15
        }
      ]
    },
    {
      "cell_type": "code",
      "metadata": {
        "id": "EpeYzJVgMgxd"
      },
      "source": [
        "\n",
        "# make predictions\n",
        "trainPredict = model.predict(X_train)\n",
        "testPredict = model.predict(X_test)\n",
        "# invert predictions\n",
        "trainPredict = scaler.inverse_transform(trainPredict)\n",
        "y_train = scaler.inverse_transform([y_train])\n",
        "testPredict = scaler.inverse_transform(testPredict)\n",
        "y_test = scaler.inverse_transform([y_test])"
      ],
      "execution_count": null,
      "outputs": []
    },
    {
      "cell_type": "code",
      "metadata": {
        "colab": {
          "base_uri": "https://localhost:8080/"
        },
        "id": "M6XlnS7oig4T",
        "outputId": "1cb8eaa3-bacf-4c33-ede8-66bf67560090"
      },
      "source": [
        "trainScore = math.sqrt(mean_squared_error(y_train[0], trainPredict[:,0]))\n",
        "print('Train Score: %.2f RMSE' % (trainScore))\n",
        "testScore = math.sqrt(mean_squared_error(y_test[0], testPredict[:,0]))\n",
        "print('Test Score: %.2f RMSE' % (testScore))\n",
        "trainScorer2 = r2_score(y_train[0], trainPredict[:,0])\n",
        "print('Train Score: %.4f R2' % (trainScorer2))\n",
        "testScorer2 = r2_score(y_test[0], testPredict[:,0])\n",
        "print('Test Score: %.4f R2' % (testScorer2))"
      ],
      "execution_count": null,
      "outputs": [
        {
          "output_type": "stream",
          "text": [
            "Train Score: 11.04 RMSE\n",
            "Test Score: 12.99 RMSE\n",
            "Train Score: 0.1455 R2\n",
            "Test Score: 0.1486 R2\n"
          ],
          "name": "stdout"
        }
      ]
    },
    {
      "cell_type": "code",
      "metadata": {
        "id": "IK29jRccqm6t",
        "colab": {
          "base_uri": "https://localhost:8080/",
          "height": 265
        },
        "outputId": "a7071311-f9d4-4b30-bd6c-7d0233bc7a9d"
      },
      "source": [
        "trainPredictPlot = np.empty_like(dataset)\n",
        "trainPredictPlot[:, :] = np.nan\n",
        "trainPredictPlot[look_back:len(trainPredict)+look_back, :] = trainPredict\n",
        "# shift test predictions for plotting\n",
        "testPredictPlot = np.empty_like(dataset)\n",
        "testPredictPlot[:, :] = np.nan\n",
        "testPredictPlot[len(trainPredict)+(look_back*2)+1:len(dataset)-1, :] = testPredict\n",
        "# plot baseline and predictions\n",
        "plt.plot(scaler.inverse_transform(dataset))\n",
        "plt.plot(trainPredictPlot)\n",
        "plt.plot(testPredictPlot)\n",
        "plt.show()"
      ],
      "execution_count": null,
      "outputs": [
        {
          "output_type": "display_data",
          "data": {
            "image/png": "[encoded data removed]",
            "text/plain": [
              "<Figure size 432x288 with 1 Axes>"
            ]
          },
          "metadata": {
            "tags": [],
            "needs_background": "light"
          }
        }
      ]
    },
    {
      "cell_type": "code",
      "metadata": {
        "id": "N5sgQxAirGNX"
      },
      "source": [
        ""
      ],
      "execution_count": null,
      "outputs": []
    }
  ]
}