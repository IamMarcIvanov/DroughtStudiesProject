{
  "nbformat": 4,
  "nbformat_minor": 0,
  "metadata": {
    "colab": {
      "name": "lstm.ipynb",
      "provenance": [],
      "collapsed_sections": [],
      "authorship_tag": "ABX9TyPmrzhLMghBZBhw/bdhKYC5",
      "include_colab_link": true
    },
    "kernelspec": {
      "name": "python3",
      "display_name": "Python 3"
    },
    "language_info": {
      "name": "python"
    }
  },
  "cells": [
    {
      "cell_type": "markdown",
      "metadata": {
        "id": "view-in-github",
        "colab_type": "text"
      },
      "source": [
        "<a href=\"https://colab.research.google.com/github/IamMarcIvanov/DroughtStudiesProject/blob/master/lstm.ipynb\" target=\"_parent\"><img src=\"https://colab.research.google.com/assets/colab-badge.svg\" alt=\"Open In Colab\"/></a>"
      ]
    },
    {
      "cell_type": "code",
      "metadata": {
        "id": "2w_e1hHe33pg"
      },
      "source": [
        "import numpy as np\n",
        "import matplotlib.pyplot as plt\n",
        "import pandas as pd\n",
        "import math\n",
        "import keras\n",
        "from keras.models import Sequential\n",
        "from keras.layers import Dense\n",
        "from keras.layers import LSTM\n",
        "from sklearn.preprocessing import MinMaxScaler\n",
        "from sklearn.metrics import mean_squared_error\n",
        "from sklearn.metrics import r2_score"
      ],
      "execution_count": 1,
      "outputs": []
    },
    {
      "cell_type": "code",
      "metadata": {
        "id": "UOYLeYA54B-j"
      },
      "source": [
        "np.random.seed(7)"
      ],
      "execution_count": 2,
      "outputs": []
    },
    {
      "cell_type": "code",
      "metadata": {
        "colab": {
          "base_uri": "https://localhost:8080/"
        },
        "id": "oPxXaSM4fUGQ",
        "outputId": "5d778670-6950-4653-cd80-1728b3e4bb8d"
      },
      "source": [
        "from google.colab import drive\n",
        "drive.mount(\"/content/gdrive\")"
      ],
      "execution_count": 11,
      "outputs": [
        {
          "output_type": "stream",
          "text": [
            "Drive already mounted at /content/gdrive; to attempt to forcibly remount, call drive.mount(\"/content/gdrive\", force_remount=True).\n"
          ],
          "name": "stdout"
        }
      ]
    },
    {
      "cell_type": "code",
      "metadata": {
        "id": "nDysW2EjfUMh"
      },
      "source": [
        "dataset = pd.read_csv('/content/gdrive/My Drive/IMD Rainfall/rain_Point_1.csv', index_col= 0, parse_dates= True)\n",
        "dataset = dataset.diff(2)\n",
        "dataset.dropna(inplace= True)"
      ],
      "execution_count": 19,
      "outputs": []
    },
    {
      "cell_type": "code",
      "metadata": {
        "id": "7kX2ozDf4kJZ"
      },
      "source": [
        "dataset.drop(columns= ['LONGITUDE', 'LATITUDE'], inplace= True)"
      ],
      "execution_count": 20,
      "outputs": []
    },
    {
      "cell_type": "code",
      "metadata": {
        "colab": {
          "base_uri": "https://localhost:8080/",
          "height": 287
        },
        "id": "G1qwz-Q54sp1",
        "outputId": "f8b1cb80-538c-402e-9007-20388b857f50"
      },
      "source": [
        "dataset.plot()"
      ],
      "execution_count": 21,
      "outputs": [
        {
          "output_type": "execute_result",
          "data": {
            "text/plain": [
              "<matplotlib.axes._subplots.AxesSubplot at 0x7f15047f8f50>"
            ]
          },
          "metadata": {
            "tags": []
          },
          "execution_count": 21
        },
        {
          "output_type": "display_data",
          "data": {
            "image/png": "[encoded data removed]",
            "text/plain": [
              "<Figure size 432x288 with 1 Axes>"
            ]
          },
          "metadata": {
            "tags": [],
            "needs_background": "light"
          }
        }
      ]
    },
    {
      "cell_type": "code",
      "metadata": {
        "id": "FTv5-bng47te"
      },
      "source": [
        "scaler = MinMaxScaler(feature_range=(0, 1))\n",
        "dataset = scaler.fit_transform(dataset)"
      ],
      "execution_count": 22,
      "outputs": []
    },
    {
      "cell_type": "code",
      "metadata": {
        "id": "-jcWIcj-ZZP8"
      },
      "source": [
        "train_size = int(len(dataset) * 0.7)\n",
        "test_size = int(len(dataset) * 0.3)"
      ],
      "execution_count": 23,
      "outputs": []
    },
    {
      "cell_type": "code",
      "metadata": {
        "id": "iLG8Lss85EhD"
      },
      "source": [
        "train = dataset[:train_size]\n",
        "test = dataset[train_size:]"
      ],
      "execution_count": 24,
      "outputs": []
    },
    {
      "cell_type": "code",
      "metadata": {
        "id": "5yHAaMTD7S3d"
      },
      "source": [
        "look_back = 3"
      ],
      "execution_count": 25,
      "outputs": []
    },
    {
      "cell_type": "code",
      "metadata": {
        "id": "orlAhr2h5Zgo"
      },
      "source": [
        "def create_dataset(dataset, look_back= 1):\n",
        "\tdataX, dataY = [], []\n",
        "\tfor i in range(len(dataset)-look_back - 1):\n",
        "\t\ta = dataset[i:(i+look_back), 0]\n",
        "\t\tdataX.append(a)\n",
        "\t\tdataY.append(dataset[i + look_back, 0])\n",
        "\treturn np.array(dataX), np.array(dataY)"
      ],
      "execution_count": 26,
      "outputs": []
    },
    {
      "cell_type": "code",
      "metadata": {
        "id": "GY4-xMi06MEm"
      },
      "source": [
        "X_train, y_train = create_dataset(train, look_back)"
      ],
      "execution_count": 27,
      "outputs": []
    },
    {
      "cell_type": "code",
      "metadata": {
        "id": "qwev07bw6pxC"
      },
      "source": [
        "X_test, y_test = create_dataset(test, look_back)"
      ],
      "execution_count": 28,
      "outputs": []
    },
    {
      "cell_type": "code",
      "metadata": {
        "id": "asSkw2ci610x"
      },
      "source": [
        "X_train = np.reshape(X_train, (X_train.shape[0], 1, X_train.shape[1]))\n",
        "X_test = np.reshape(X_test, (X_test.shape[0], 1, X_test.shape[1]))"
      ],
      "execution_count": 29,
      "outputs": []
    },
    {
      "cell_type": "code",
      "metadata": {
        "id": "N5sgQxAirGNX",
        "colab": {
          "base_uri": "https://localhost:8080/"
        },
        "outputId": "3db1cc1a-d99f-4bcf-97e0-d957a5ee7d17"
      },
      "source": [
        "# create and fit the LSTM network\n",
        "model = Sequential()\n",
        "model.add(LSTM(units= 128, input_shape=(X_train.shape[1], X_train.shape[2])))\n",
        "model.add(Dense(1))\n",
        "model.compile(loss='mean_squared_error', optimizer= 'Adam')\n",
        "model.fit(X_train, y_train, epochs=30, batch_size=1, verbose=1, validation_split= 0.1, shuffle= False)"
      ],
      "execution_count": 30,
      "outputs": [
        {
          "output_type": "stream",
          "text": [
            "Epoch 1/30\n",
            "16099/16099 [==============================] - 33s 2ms/step - loss: 0.0023 - val_loss: 7.3228e-04\n",
            "Epoch 2/30\n",
            "16099/16099 [==============================] - 31s 2ms/step - loss: 4.0826e-04 - val_loss: 7.2478e-04\n",
            "Epoch 3/30\n",
            "16099/16099 [==============================] - 31s 2ms/step - loss: 3.9201e-04 - val_loss: 7.1554e-04\n",
            "Epoch 4/30\n",
            "16099/16099 [==============================] - 31s 2ms/step - loss: 3.8027e-04 - val_loss: 7.0022e-04\n",
            "Epoch 5/30\n",
            "16099/16099 [==============================] - 31s 2ms/step - loss: 3.7010e-04 - val_loss: 6.7834e-04\n",
            "Epoch 6/30\n",
            "16099/16099 [==============================] - 32s 2ms/step - loss: 3.5968e-04 - val_loss: 6.5250e-04\n",
            "Epoch 7/30\n",
            "16099/16099 [==============================] - 33s 2ms/step - loss: 3.4957e-04 - val_loss: 6.2827e-04\n",
            "Epoch 8/30\n",
            "16099/16099 [==============================] - 33s 2ms/step - loss: 3.3996e-04 - val_loss: 6.0887e-04\n",
            "Epoch 9/30\n",
            "16099/16099 [==============================] - 32s 2ms/step - loss: 3.3103e-04 - val_loss: 5.9835e-04\n",
            "Epoch 10/30\n",
            "16099/16099 [==============================] - 32s 2ms/step - loss: 3.2318e-04 - val_loss: 5.9814e-04\n",
            "Epoch 11/30\n",
            "16099/16099 [==============================] - 31s 2ms/step - loss: 3.1662e-04 - val_loss: 6.0781e-04\n",
            "Epoch 12/30\n",
            "16099/16099 [==============================] - 31s 2ms/step - loss: 3.1118e-04 - val_loss: 6.2592e-04\n",
            "Epoch 13/30\n",
            "16099/16099 [==============================] - 30s 2ms/step - loss: 3.0626e-04 - val_loss: 6.4860e-04\n",
            "Epoch 14/30\n",
            "16099/16099 [==============================] - 30s 2ms/step - loss: 3.0253e-04 - val_loss: 6.7179e-04\n",
            "Epoch 15/30\n",
            "16099/16099 [==============================] - 31s 2ms/step - loss: 3.0010e-04 - val_loss: 6.9398e-04\n",
            "Epoch 16/30\n",
            "16099/16099 [==============================] - 30s 2ms/step - loss: 2.9827e-04 - val_loss: 7.1410e-04\n",
            "Epoch 17/30\n",
            "16099/16099 [==============================] - 30s 2ms/step - loss: 2.9672e-04 - val_loss: 7.3159e-04\n",
            "Epoch 18/30\n",
            "16099/16099 [==============================] - 31s 2ms/step - loss: 2.9532e-04 - val_loss: 7.4619e-04\n",
            "Epoch 19/30\n",
            "16099/16099 [==============================] - 30s 2ms/step - loss: 2.9401e-04 - val_loss: 7.5836e-04\n",
            "Epoch 20/30\n",
            "16099/16099 [==============================] - 30s 2ms/step - loss: 2.9280e-04 - val_loss: 7.6887e-04\n",
            "Epoch 21/30\n",
            "16099/16099 [==============================] - 30s 2ms/step - loss: 2.9174e-04 - val_loss: 7.7697e-04\n",
            "Epoch 22/30\n",
            "16099/16099 [==============================] - 30s 2ms/step - loss: 2.9089e-04 - val_loss: 7.8314e-04\n",
            "Epoch 23/30\n",
            "16099/16099 [==============================] - 30s 2ms/step - loss: 2.9012e-04 - val_loss: 7.8774e-04\n",
            "Epoch 24/30\n",
            "16099/16099 [==============================] - 30s 2ms/step - loss: 2.8939e-04 - val_loss: 7.9108e-04\n",
            "Epoch 25/30\n",
            "16099/16099 [==============================] - 30s 2ms/step - loss: 2.8869e-04 - val_loss: 7.9364e-04\n",
            "Epoch 26/30\n",
            "16099/16099 [==============================] - 30s 2ms/step - loss: 2.8801e-04 - val_loss: 7.9610e-04\n",
            "Epoch 27/30\n",
            "16099/16099 [==============================] - 30s 2ms/step - loss: 2.8737e-04 - val_loss: 7.9742e-04\n",
            "Epoch 28/30\n",
            "16099/16099 [==============================] - 31s 2ms/step - loss: 2.8678e-04 - val_loss: 7.9833e-04\n",
            "Epoch 29/30\n",
            "16099/16099 [==============================] - 31s 2ms/step - loss: 2.8632e-04 - val_loss: 7.9898e-04\n",
            "Epoch 30/30\n",
            "16099/16099 [==============================] - 32s 2ms/step - loss: 2.8598e-04 - val_loss: 7.9822e-04\n"
          ],
          "name": "stdout"
        },
        {
          "output_type": "execute_result",
          "data": {
            "text/plain": [
              "<tensorflow.python.keras.callbacks.History at 0x7f15004dc190>"
            ]
          },
          "metadata": {
            "tags": []
          },
          "execution_count": 30
        }
      ]
    },
    {
      "cell_type": "code",
      "metadata": {
        "id": "8RAQ_oj8vICq"
      },
      "source": [
        "# make predictions\n",
        "trainPredict = model.predict(X_train)\n",
        "testPredict = model.predict(X_test)\n",
        "# # invert predictions\n",
        "trainPredict = scaler.inverse_transform(trainPredict)\n",
        "y_train = scaler.inverse_transform([y_train])\n",
        "testPredict = scaler.inverse_transform(testPredict)\n",
        "y_test = scaler.inverse_transform([y_test])"
      ],
      "execution_count": 31,
      "outputs": []
    },
    {
      "cell_type": "code",
      "metadata": {
        "id": "uyMd0iiD4B1H"
      },
      "source": [
        "from sklearn.metrics import mean_absolute_error"
      ],
      "execution_count": 32,
      "outputs": []
    },
    {
      "cell_type": "code",
      "metadata": {
        "colab": {
          "base_uri": "https://localhost:8080/"
        },
        "id": "OKqOwoZmvjAh",
        "outputId": "c8ddbf53-4970-4b1f-d827-254515c5c45c"
      },
      "source": [
        "trainScore = mean_absolute_error(y_train[0], trainPredict[:,0])\n",
        "print('Train Score: %.2f MAE' % (trainScore))\n",
        "testScore = mean_absolute_error(y_test[0], testPredict[:,0])\n",
        "print('Test Score: %.2f MAE' % (testScore))\n",
        "r2train = r2_score(y_train[0], trainPredict[:, 0])\n",
        "print('R2 Score Train: %.2f R2' % (r2train))\n",
        "r2test = r2_score(y_test[0], testPredict[:, 0])\n",
        "print('R2 Score Test: %.2f R2' % (r2test))"
      ],
      "execution_count": 33,
      "outputs": [
        {
          "output_type": "stream",
          "text": [
            "Train Score: 4.32 MAE\n",
            "Test Score: 4.91 MAE\n",
            "R2 Score Train: 0.32 R2\n",
            "R2 Score Test: 0.31 R2\n"
          ],
          "name": "stdout"
        }
      ]
    },
    {
      "cell_type": "code",
      "metadata": {
        "colab": {
          "base_uri": "https://localhost:8080/",
          "height": 265
        },
        "id": "Sm5PsmHfvoDx",
        "outputId": "9519bd0e-27c6-4888-813a-45107fda45ec"
      },
      "source": [
        "trainPredictPlot = np.empty_like(dataset)\n",
        "trainPredictPlot[:, :] = np.nan\n",
        "trainPredictPlot[look_back:len(trainPredict)+look_back, :] = trainPredict\n",
        "# shift test predictions for plotting\n",
        "testPredictPlot = np.empty_like(dataset)\n",
        "testPredictPlot[:, :] = np.nan\n",
        "testPredictPlot[len(trainPredict)+(look_back*2)+1:len(dataset)-1, :] = testPredict\n",
        "# plot baseline and predictions\n",
        "plt.plot(scaler.inverse_transform(dataset))\n",
        "plt.plot(trainPredictPlot)\n",
        "plt.plot(testPredictPlot)\n",
        "plt.show()"
      ],
      "execution_count": 34,
      "outputs": [
        {
          "output_type": "display_data",
          "data": {
            "image/png": "[encoded data removed]",
            "text/plain": [
              "<Figure size 432x288 with 1 Axes>"
            ]
          },
          "metadata": {
            "tags": [],
            "needs_background": "light"
          }
        }
      ]
    },
    {
      "cell_type": "code",
      "metadata": {
        "id": "OACtKPyt58gQ"
      },
      "source": [
        "predicted = testPredict[:, 0]"
      ],
      "execution_count": 35,
      "outputs": []
    },
    {
      "cell_type": "code",
      "metadata": {
        "id": "2xe9Xf5dCnzo"
      },
      "source": [
        "predicted = abs(pd.DataFrame(predicted))"
      ],
      "execution_count": 42,
      "outputs": []
    },
    {
      "cell_type": "code",
      "metadata": {
        "colab": {
          "base_uri": "https://localhost:8080/"
        },
        "id": "3qLQIcAfCvrN",
        "outputId": "d7257bae-3df5-48e6-d68a-58eb65d8d5d9"
      },
      "source": [
        "predicted.min()"
      ],
      "execution_count": 43,
      "outputs": [
        {
          "output_type": "execute_result",
          "data": {
            "text/plain": [
              "0    0.000233\n",
              "dtype: float32"
            ]
          },
          "metadata": {
            "tags": []
          },
          "execution_count": 43
        }
      ]
    },
    {
      "cell_type": "code",
      "metadata": {
        "colab": {
          "base_uri": "https://localhost:8080/"
        },
        "id": "vrMP6RSwC7we",
        "outputId": "2ead2ffb-1424-4e17-a010-72985ea5d7e8"
      },
      "source": [
        "predicted.max()"
      ],
      "execution_count": 44,
      "outputs": [
        {
          "output_type": "execute_result",
          "data": {
            "text/plain": [
              "0    463.028198\n",
              "dtype: float32"
            ]
          },
          "metadata": {
            "tags": []
          },
          "execution_count": 44
        }
      ]
    },
    {
      "cell_type": "code",
      "metadata": {
        "id": "Oo7bXaccC9De"
      },
      "source": [
        ""
      ],
      "execution_count": null,
      "outputs": []
    }
  ]
}