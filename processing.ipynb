{
 "metadata": {
  "language_info": {
   "codemirror_mode": {
    "name": "ipython",
    "version": 3
   },
   "file_extension": ".py",
   "mimetype": "text/x-python",
   "name": "python",
   "nbconvert_exporter": "python",
   "pygments_lexer": "ipython3",
   "version": "3.8.5-final"
  },
  "orig_nbformat": 2,
  "kernelspec": {
   "name": "python3",
   "display_name": "Python 3",
   "language": "python"
  }
 },
 "nbformat": 4,
 "nbformat_minor": 2,
 "cells": [
  {
   "cell_type": "code",
   "execution_count": 63,
   "metadata": {},
   "outputs": [],
   "source": [
    "from netCDF4 import Dataset\n",
    "import numpy as np\n",
    "import netCDF4\n",
    "import pandas as pd\n",
    "import os\n",
    "import xarray as xr"
   ]
  },
  {
   "cell_type": "code",
   "execution_count": 64,
   "metadata": {},
   "outputs": [],
   "source": [
    "cltdata = netCDF4.MFDataset(['clt1.nc','clt2.nc','clt3.nc'])\n",
    "hursdata = netCDF4.MFDataset(['hurs1.nc','hurs2.nc','hurs3.nc'])\n",
    "hussdata = netCDF4.MFDataset(['huss1.nc','huss2.nc','huss3.nc'])\n",
    "psldata = netCDF4.MFDataset(['psl1.nc','psl2.nc','psl3.nc'])\n",
    "tasdata = netCDF4.MFDataset(['tas1.nc','tas2.nc','tas3.nc'])\n",
    "zgfdata = netCDF4.MFDataset(['zgf1.nc','zgf2.nc','zgf3.nc'])\n",
    "uasdata = netCDF4.MFDataset(['uas1.nc','uas2.nc','uas3.nc'])\n",
    "vasdata = netCDF4.MFDataset(['vas1.nc','vas2.nc','vas3.nc'])"
   ]
  },
  {
   "cell_type": "code",
   "execution_count": 65,
   "metadata": {},
   "outputs": [],
   "source": [
    "clt = cltdata.variables['clt']\n",
    "hurs = hursdata.variables['hurs']\n",
    "huss = hussdata.variables['huss']\n",
    "tas = tasdata.variables['tas']\n",
    "zgf = zgfdata.variables['zg500']\n",
    "psl = psldata.variables['psl']\n",
    "uas = uasdata.variables['uas']\n",
    "vas = vasdata.variables['vas']"
   ]
  },
  {
   "cell_type": "code",
   "execution_count": 66,
   "metadata": {},
   "outputs": [],
   "source": [
    "starting_date = '2000-01-01'\n",
    "end_date = '2014-12-30'"
   ]
  },
  {
   "cell_type": "code",
   "execution_count": 67,
   "metadata": {},
   "outputs": [],
   "source": [
    "date_range = pd.date_range(starting_date, end_date, freq= 'D')"
   ]
  },
  {
   "cell_type": "code",
   "execution_count": 68,
   "metadata": {},
   "outputs": [],
   "source": [
    "df = pd.DataFrame(0, columns= ['HURS', 'HUSS', 'PSL', 'TAS', 'CLT', 'ZG500', 'VAS', 'UAS'], index= date_range)"
   ]
  },
  {
   "cell_type": "code",
   "execution_count": 70,
   "metadata": {},
   "outputs": [],
   "source": [
    "dt = np.arange(0, len(cltdata.variables['time']))"
   ]
  },
  {
   "cell_type": "code",
   "execution_count": 71,
   "metadata": {},
   "outputs": [],
   "source": [
    "hyd_lat_index = 193\n",
    "hyd_long_index = 94"
   ]
  },
  {
   "cell_type": "code",
   "execution_count": 72,
   "metadata": {},
   "outputs": [
    {
     "output_type": "stream",
     "name": "stderr",
     "text": [
      "C:\\ProgramData\\Anaconda3\\lib\\site-packages\\pandas\\core\\indexing.py:670: SettingWithCopyWarning: \nA value is trying to be set on a copy of a slice from a DataFrame\n\nSee the caveats in the documentation: https://pandas.pydata.org/pandas-docs/stable/user_guide/indexing.html#returning-a-view-versus-a-copy\n  iloc._setitem_with_indexer(indexer, value)\n"
     ]
    }
   ],
   "source": [
    "for time_index in dt:\n",
    "    df['TAS'].iloc[time_index] = tas[time_index, hyd_lat_index, hyd_long_index] "
   ]
  },
  {
   "cell_type": "code",
   "execution_count": 73,
   "metadata": {},
   "outputs": [],
   "source": [
    "for time_index in dt:\n",
    "    df['VAS'].iloc[time_index] = vas[time_index, hyd_lat_index, hyd_long_index] "
   ]
  },
  {
   "cell_type": "code",
   "execution_count": 74,
   "metadata": {},
   "outputs": [],
   "source": [
    "for time_index in dt:\n",
    "    df['UAS'].iloc[time_index] = uas[time_index, hyd_lat_index, hyd_long_index] "
   ]
  },
  {
   "cell_type": "code",
   "execution_count": 75,
   "metadata": {},
   "outputs": [],
   "source": [
    "for time_index in dt:\n",
    "    df['HURS'].iloc[time_index] = hurs[time_index, hyd_lat_index, hyd_long_index] "
   ]
  },
  {
   "cell_type": "code",
   "execution_count": 76,
   "metadata": {},
   "outputs": [],
   "source": [
    "for time_index in dt:\n",
    "    df['HUSS'].iloc[time_index] = huss[time_index, hyd_lat_index, hyd_long_index] "
   ]
  },
  {
   "cell_type": "code",
   "execution_count": 77,
   "metadata": {},
   "outputs": [],
   "source": [
    "for time_index in dt:\n",
    "    df['PSL'].iloc[time_index] = psl[time_index, hyd_lat_index, hyd_long_index] "
   ]
  },
  {
   "cell_type": "code",
   "execution_count": 78,
   "metadata": {},
   "outputs": [],
   "source": [
    "for time_index in dt:\n",
    "    df['CLT'].iloc[time_index] = clt[time_index, hyd_lat_index, hyd_long_index] "
   ]
  },
  {
   "cell_type": "code",
   "execution_count": 79,
   "metadata": {},
   "outputs": [],
   "source": [
    "for time_index in dt:\n",
    "    df['ZG500'].iloc[time_index] = zgf[time_index, hyd_lat_index, hyd_long_index] "
   ]
  },
  {
   "cell_type": "code",
   "execution_count": 86,
   "metadata": {},
   "outputs": [
    {
     "output_type": "execute_result",
     "data": {
      "text/plain": [
       "              HURS         HUSS            PSL          TAS          CLT  \\\n",
       "count  5400.000000  5400.000000    5400.000000  5400.000000  5400.000000   \n",
       "mean     45.426156     0.009907  100793.076181   300.604637    44.334119   \n",
       "std      15.933904     0.003583     454.381428     3.996503    34.860919   \n",
       "min       5.554688     0.001206   99682.125000   288.690674     0.000000   \n",
       "25%      33.478516     0.007178  100403.859375   297.408752    11.132812   \n",
       "50%      45.820312     0.009588  100763.843750   300.909180    38.247681   \n",
       "75%      56.679688     0.012816  101202.140625   303.673584    78.269958   \n",
       "max      93.242188     0.020012  101871.875000   310.173340   100.000000   \n",
       "\n",
       "             ZG500          VAS          UAS  \n",
       "count  5400.000000  5400.000000  5400.000000  \n",
       "mean   5865.758702     0.155483     1.243295  \n",
       "std      23.994177     1.685690     3.138747  \n",
       "min    5770.402344    -5.361328    -8.467773  \n",
       "25%    5849.307617    -1.079346    -1.416260  \n",
       "50%    5867.724609     0.126953     0.234375  \n",
       "75%    5883.247070     1.417969     4.105713  \n",
       "max    5936.218750     5.421875     8.990234  "
      ],
      "text/html": "<div>\n<style scoped>\n    .dataframe tbody tr th:only-of-type {\n        vertical-align: middle;\n    }\n\n    .dataframe tbody tr th {\n        vertical-align: top;\n    }\n\n    .dataframe thead th {\n        text-align: right;\n    }\n</style>\n<table border=\"1\" class=\"dataframe\">\n  <thead>\n    <tr style=\"text-align: right;\">\n      <th></th>\n      <th>HURS</th>\n      <th>HUSS</th>\n      <th>PSL</th>\n      <th>TAS</th>\n      <th>CLT</th>\n      <th>ZG500</th>\n      <th>VAS</th>\n      <th>UAS</th>\n    </tr>\n  </thead>\n  <tbody>\n    <tr>\n      <th>count</th>\n      <td>5400.000000</td>\n      <td>5400.000000</td>\n      <td>5400.000000</td>\n      <td>5400.000000</td>\n      <td>5400.000000</td>\n      <td>5400.000000</td>\n      <td>5400.000000</td>\n      <td>5400.000000</td>\n    </tr>\n    <tr>\n      <th>mean</th>\n      <td>45.426156</td>\n      <td>0.009907</td>\n      <td>100793.076181</td>\n      <td>300.604637</td>\n      <td>44.334119</td>\n      <td>5865.758702</td>\n      <td>0.155483</td>\n      <td>1.243295</td>\n    </tr>\n    <tr>\n      <th>std</th>\n      <td>15.933904</td>\n      <td>0.003583</td>\n      <td>454.381428</td>\n      <td>3.996503</td>\n      <td>34.860919</td>\n      <td>23.994177</td>\n      <td>1.685690</td>\n      <td>3.138747</td>\n    </tr>\n    <tr>\n      <th>min</th>\n      <td>5.554688</td>\n      <td>0.001206</td>\n      <td>99682.125000</td>\n      <td>288.690674</td>\n      <td>0.000000</td>\n      <td>5770.402344</td>\n      <td>-5.361328</td>\n      <td>-8.467773</td>\n    </tr>\n    <tr>\n      <th>25%</th>\n      <td>33.478516</td>\n      <td>0.007178</td>\n      <td>100403.859375</td>\n      <td>297.408752</td>\n      <td>11.132812</td>\n      <td>5849.307617</td>\n      <td>-1.079346</td>\n      <td>-1.416260</td>\n    </tr>\n    <tr>\n      <th>50%</th>\n      <td>45.820312</td>\n      <td>0.009588</td>\n      <td>100763.843750</td>\n      <td>300.909180</td>\n      <td>38.247681</td>\n      <td>5867.724609</td>\n      <td>0.126953</td>\n      <td>0.234375</td>\n    </tr>\n    <tr>\n      <th>75%</th>\n      <td>56.679688</td>\n      <td>0.012816</td>\n      <td>101202.140625</td>\n      <td>303.673584</td>\n      <td>78.269958</td>\n      <td>5883.247070</td>\n      <td>1.417969</td>\n      <td>4.105713</td>\n    </tr>\n    <tr>\n      <th>max</th>\n      <td>93.242188</td>\n      <td>0.020012</td>\n      <td>101871.875000</td>\n      <td>310.173340</td>\n      <td>100.000000</td>\n      <td>5936.218750</td>\n      <td>5.421875</td>\n      <td>8.990234</td>\n    </tr>\n  </tbody>\n</table>\n</div>"
     },
     "metadata": {},
     "execution_count": 86
    }
   ],
   "source": [
    "df.describe()"
   ]
  },
  {
   "cell_type": "code",
   "execution_count": 84,
   "metadata": {},
   "outputs": [],
   "source": [
    "df = df.reset_index()"
   ]
  },
  {
   "cell_type": "code",
   "execution_count": 85,
   "metadata": {},
   "outputs": [],
   "source": [
    "df = df.iloc[:5400, :]"
   ]
  },
  {
   "cell_type": "code",
   "execution_count": 87,
   "metadata": {},
   "outputs": [
    {
     "output_type": "execute_result",
     "data": {
      "text/plain": [
       "          index       HURS      HUSS          PSL         TAS        CLT  \\\n",
       "5395 2014-10-09  23.328125  0.002923  101309.2500  293.210205   0.000000   \n",
       "5396 2014-10-10  30.968750  0.003512  101464.6875  291.715576   0.000000   \n",
       "5397 2014-10-11  20.445312  0.002586  101481.4375  292.588623   0.000000   \n",
       "5398 2014-10-12  19.539062  0.003006  101407.3125  295.136475   4.492188   \n",
       "5399 2014-10-13  56.242188  0.007202  101363.1875  291.943848  43.554688   \n",
       "\n",
       "            ZG500       VAS       UAS  \n",
       "5395  5875.609375 -2.317383 -0.889648  \n",
       "5396  5894.367188 -1.107422 -1.365234  \n",
       "5397  5896.167969 -1.842773 -1.464844  \n",
       "5398  5891.296875 -3.242188 -1.910156  \n",
       "5399  5878.332031 -0.151367 -1.921875  "
      ],
      "text/html": "<div>\n<style scoped>\n    .dataframe tbody tr th:only-of-type {\n        vertical-align: middle;\n    }\n\n    .dataframe tbody tr th {\n        vertical-align: top;\n    }\n\n    .dataframe thead th {\n        text-align: right;\n    }\n</style>\n<table border=\"1\" class=\"dataframe\">\n  <thead>\n    <tr style=\"text-align: right;\">\n      <th></th>\n      <th>index</th>\n      <th>HURS</th>\n      <th>HUSS</th>\n      <th>PSL</th>\n      <th>TAS</th>\n      <th>CLT</th>\n      <th>ZG500</th>\n      <th>VAS</th>\n      <th>UAS</th>\n    </tr>\n  </thead>\n  <tbody>\n    <tr>\n      <th>5395</th>\n      <td>2014-10-09</td>\n      <td>23.328125</td>\n      <td>0.002923</td>\n      <td>101309.2500</td>\n      <td>293.210205</td>\n      <td>0.000000</td>\n      <td>5875.609375</td>\n      <td>-2.317383</td>\n      <td>-0.889648</td>\n    </tr>\n    <tr>\n      <th>5396</th>\n      <td>2014-10-10</td>\n      <td>30.968750</td>\n      <td>0.003512</td>\n      <td>101464.6875</td>\n      <td>291.715576</td>\n      <td>0.000000</td>\n      <td>5894.367188</td>\n      <td>-1.107422</td>\n      <td>-1.365234</td>\n    </tr>\n    <tr>\n      <th>5397</th>\n      <td>2014-10-11</td>\n      <td>20.445312</td>\n      <td>0.002586</td>\n      <td>101481.4375</td>\n      <td>292.588623</td>\n      <td>0.000000</td>\n      <td>5896.167969</td>\n      <td>-1.842773</td>\n      <td>-1.464844</td>\n    </tr>\n    <tr>\n      <th>5398</th>\n      <td>2014-10-12</td>\n      <td>19.539062</td>\n      <td>0.003006</td>\n      <td>101407.3125</td>\n      <td>295.136475</td>\n      <td>4.492188</td>\n      <td>5891.296875</td>\n      <td>-3.242188</td>\n      <td>-1.910156</td>\n    </tr>\n    <tr>\n      <th>5399</th>\n      <td>2014-10-13</td>\n      <td>56.242188</td>\n      <td>0.007202</td>\n      <td>101363.1875</td>\n      <td>291.943848</td>\n      <td>43.554688</td>\n      <td>5878.332031</td>\n      <td>-0.151367</td>\n      <td>-1.921875</td>\n    </tr>\n  </tbody>\n</table>\n</div>"
     },
     "metadata": {},
     "execution_count": 87
    }
   ],
   "source": [
    "df.tail()"
   ]
  },
  {
   "cell_type": "code",
   "execution_count": 88,
   "metadata": {},
   "outputs": [],
   "source": [
    "df.to_csv('Hyderabad_updated.csv', index = False)"
   ]
  },
  {
   "cell_type": "code",
   "execution_count": 90,
   "metadata": {},
   "outputs": [],
   "source": [
    "hyd = pd.read_csv('Hyderabad_updated.csv')"
   ]
  },
  {
   "cell_type": "code",
   "execution_count": 91,
   "metadata": {},
   "outputs": [
    {
     "output_type": "execute_result",
     "data": {
      "text/plain": [
       "              HURS         HUSS            PSL          TAS          CLT  \\\n",
       "count  5400.000000  5400.000000    5400.000000  5400.000000  5400.000000   \n",
       "mean     45.426156     0.009907  100793.076181   300.604637    44.334119   \n",
       "std      15.933904     0.003583     454.381428     3.996503    34.860919   \n",
       "min       5.554688     0.001206   99682.125000   288.690674     0.000000   \n",
       "25%      33.478516     0.007178  100403.859375   297.408752    11.132812   \n",
       "50%      45.820312     0.009588  100763.843750   300.909180    38.247681   \n",
       "75%      56.679688     0.012816  101202.140625   303.673584    78.269958   \n",
       "max      93.242188     0.020012  101871.875000   310.173340   100.000000   \n",
       "\n",
       "             ZG500          VAS          UAS  \n",
       "count  5400.000000  5400.000000  5400.000000  \n",
       "mean   5865.758702     0.155483     1.243295  \n",
       "std      23.994177     1.685690     3.138747  \n",
       "min    5770.402344    -5.361328    -8.467773  \n",
       "25%    5849.307617    -1.079346    -1.416260  \n",
       "50%    5867.724609     0.126953     0.234375  \n",
       "75%    5883.247070     1.417969     4.105713  \n",
       "max    5936.218750     5.421875     8.990234  "
      ],
      "text/html": "<div>\n<style scoped>\n    .dataframe tbody tr th:only-of-type {\n        vertical-align: middle;\n    }\n\n    .dataframe tbody tr th {\n        vertical-align: top;\n    }\n\n    .dataframe thead th {\n        text-align: right;\n    }\n</style>\n<table border=\"1\" class=\"dataframe\">\n  <thead>\n    <tr style=\"text-align: right;\">\n      <th></th>\n      <th>HURS</th>\n      <th>HUSS</th>\n      <th>PSL</th>\n      <th>TAS</th>\n      <th>CLT</th>\n      <th>ZG500</th>\n      <th>VAS</th>\n      <th>UAS</th>\n    </tr>\n  </thead>\n  <tbody>\n    <tr>\n      <th>count</th>\n      <td>5400.000000</td>\n      <td>5400.000000</td>\n      <td>5400.000000</td>\n      <td>5400.000000</td>\n      <td>5400.000000</td>\n      <td>5400.000000</td>\n      <td>5400.000000</td>\n      <td>5400.000000</td>\n    </tr>\n    <tr>\n      <th>mean</th>\n      <td>45.426156</td>\n      <td>0.009907</td>\n      <td>100793.076181</td>\n      <td>300.604637</td>\n      <td>44.334119</td>\n      <td>5865.758702</td>\n      <td>0.155483</td>\n      <td>1.243295</td>\n    </tr>\n    <tr>\n      <th>std</th>\n      <td>15.933904</td>\n      <td>0.003583</td>\n      <td>454.381428</td>\n      <td>3.996503</td>\n      <td>34.860919</td>\n      <td>23.994177</td>\n      <td>1.685690</td>\n      <td>3.138747</td>\n    </tr>\n    <tr>\n      <th>min</th>\n      <td>5.554688</td>\n      <td>0.001206</td>\n      <td>99682.125000</td>\n      <td>288.690674</td>\n      <td>0.000000</td>\n      <td>5770.402344</td>\n      <td>-5.361328</td>\n      <td>-8.467773</td>\n    </tr>\n    <tr>\n      <th>25%</th>\n      <td>33.478516</td>\n      <td>0.007178</td>\n      <td>100403.859375</td>\n      <td>297.408752</td>\n      <td>11.132812</td>\n      <td>5849.307617</td>\n      <td>-1.079346</td>\n      <td>-1.416260</td>\n    </tr>\n    <tr>\n      <th>50%</th>\n      <td>45.820312</td>\n      <td>0.009588</td>\n      <td>100763.843750</td>\n      <td>300.909180</td>\n      <td>38.247681</td>\n      <td>5867.724609</td>\n      <td>0.126953</td>\n      <td>0.234375</td>\n    </tr>\n    <tr>\n      <th>75%</th>\n      <td>56.679688</td>\n      <td>0.012816</td>\n      <td>101202.140625</td>\n      <td>303.673584</td>\n      <td>78.269958</td>\n      <td>5883.247070</td>\n      <td>1.417969</td>\n      <td>4.105713</td>\n    </tr>\n    <tr>\n      <th>max</th>\n      <td>93.242188</td>\n      <td>0.020012</td>\n      <td>101871.875000</td>\n      <td>310.173340</td>\n      <td>100.000000</td>\n      <td>5936.218750</td>\n      <td>5.421875</td>\n      <td>8.990234</td>\n    </tr>\n  </tbody>\n</table>\n</div>"
     },
     "metadata": {},
     "execution_count": 91
    }
   ],
   "source": [
    "hyd.describe()"
   ]
  },
  {
   "cell_type": "code",
   "execution_count": 110,
   "metadata": {},
   "outputs": [],
   "source": [
    "cltdataxr = xr.open_mfdataset(['clt1.nc','clt2.nc','clt3.nc']).interp(lon= 78.4867, lat= 17.3850)\n",
    "hursdataxr = xr.open_mfdataset(['hurs1.nc','hurs2.nc','hurs3.nc']).interp(lon= 78.4867, lat= 17.3850)\n",
    "hussdataxr = xr.open_mfdataset(['huss1.nc','huss2.nc','huss3.nc']).interp(lon= 78.4867, lat= 17.3850)\n",
    "psldataxr = xr.open_mfdataset(['psl1.nc','psl2.nc','psl3.nc']).interp(lon= 78.4867, lat= 17.3850)\n",
    "tasdataxr = xr.open_mfdataset(['tas1.nc','tas2.nc','tas3.nc']).interp(lon= 78.4867, lat= 17.3850)\n",
    "zgfdataxr = xr.open_mfdataset(['zgf1.nc','zgf2.nc','zgf3.nc']).interp(lon= 78.4867, lat= 17.3850)\n",
    "uasdataxr = xr.open_mfdataset(['uas1.nc','uas2.nc','uas3.nc']).interp(lon= 78.4867, lat= 17.3850)\n",
    "vasdataxr = xr.open_mfdataset(['vas1.nc','vas2.nc','vas3.nc']).interp(lon= 78.4867, lat= 17.3850)"
   ]
  },
  {
   "cell_type": "code",
   "execution_count": 111,
   "metadata": {},
   "outputs": [],
   "source": [
    "df_interp = pd.DataFrame(0, columns= ['HURS', 'HUSS', 'PSL', 'TAS', 'CLT', 'ZG500', 'UAS', 'VAS'], index= np.arange(0, 5400))"
   ]
  },
  {
   "cell_type": "code",
   "execution_count": 112,
   "metadata": {},
   "outputs": [],
   "source": [
    "df_interp['CLT'] = cltdataxr['clt']\n",
    "df_interp['HURS'] = hursdataxr['hurs']\n",
    "df_interp['HUSS'] = hussdataxr['huss']\n",
    "df_interp['PSL'] = psldataxr['psl']\n",
    "df_interp['TAS'] = tasdataxr['tas']\n",
    "df_interp['ZG500'] = zgfdataxr['zg500']\n",
    "df_interp['UAS'] = uasdataxr['uas']\n",
    "df_interp['VAS'] = vasdataxr['vas']"
   ]
  },
  {
   "cell_type": "code",
   "execution_count": 113,
   "metadata": {},
   "outputs": [
    {
     "output_type": "execute_result",
     "data": {
      "text/plain": [
       "Index(['index', 'HURS', 'HUSS', 'PSL', 'TAS', 'CLT', 'ZG500', 'VAS', 'UAS'], dtype='object')"
      ]
     },
     "metadata": {},
     "execution_count": 113
    }
   ],
   "source": [
    "df.keys()"
   ]
  },
  {
   "cell_type": "code",
   "execution_count": 57,
   "metadata": {},
   "outputs": [],
   "source": [
    "df_interp['index'] = df['index']"
   ]
  },
  {
   "cell_type": "code",
   "execution_count": 115,
   "metadata": {},
   "outputs": [
    {
     "output_type": "execute_result",
     "data": {
      "text/plain": [
       "           HURS      HUSS            PSL         TAS        CLT        ZG500  \\\n",
       "0     63.579527  0.011165  101260.479322  296.211249  20.628827  5839.655462   \n",
       "1     61.311998  0.010575  101350.246784  296.286254  40.978426  5846.076917   \n",
       "2     65.155238  0.011362  101356.323834  296.169489  26.300692  5844.275243   \n",
       "3     60.395182  0.010248  101369.121129  296.103358  32.084558  5839.674516   \n",
       "4     57.806924  0.009751  101347.279815  296.169700   9.832121  5832.486021   \n",
       "...         ...       ...            ...         ...        ...          ...   \n",
       "5395  23.750633  0.002970  101302.141374  293.075671   0.000000  5876.260356   \n",
       "5396  29.214790  0.003367  101459.139559  291.872798   0.000000  5894.380386   \n",
       "5397  21.896593  0.002699  101478.937492  292.395750   0.123074  5896.287601   \n",
       "5398  20.353844  0.003016  101402.436448  294.935767   6.281740  5891.267174   \n",
       "5399  52.437061  0.006718  101358.414812  292.187586  45.451645  5878.488314   \n",
       "\n",
       "           UAS       VAS  \n",
       "0     0.687917  1.153987  \n",
       "1    -0.592161  1.253277  \n",
       "2    -0.134711  0.403782  \n",
       "3    -0.806520  0.546426  \n",
       "4    -1.184875  0.505834  \n",
       "...        ...       ...  \n",
       "5395 -0.740769 -2.256636  \n",
       "5396 -1.123851 -1.162281  \n",
       "5397 -1.175277 -1.708547  \n",
       "5398 -1.723271 -3.234052  \n",
       "5399 -1.739080 -0.559472  \n",
       "\n",
       "[5400 rows x 8 columns]"
      ],
      "text/html": "<div>\n<style scoped>\n    .dataframe tbody tr th:only-of-type {\n        vertical-align: middle;\n    }\n\n    .dataframe tbody tr th {\n        vertical-align: top;\n    }\n\n    .dataframe thead th {\n        text-align: right;\n    }\n</style>\n<table border=\"1\" class=\"dataframe\">\n  <thead>\n    <tr style=\"text-align: right;\">\n      <th></th>\n      <th>HURS</th>\n      <th>HUSS</th>\n      <th>PSL</th>\n      <th>TAS</th>\n      <th>CLT</th>\n      <th>ZG500</th>\n      <th>UAS</th>\n      <th>VAS</th>\n    </tr>\n  </thead>\n  <tbody>\n    <tr>\n      <th>0</th>\n      <td>63.579527</td>\n      <td>0.011165</td>\n      <td>101260.479322</td>\n      <td>296.211249</td>\n      <td>20.628827</td>\n      <td>5839.655462</td>\n      <td>0.687917</td>\n      <td>1.153987</td>\n    </tr>\n    <tr>\n      <th>1</th>\n      <td>61.311998</td>\n      <td>0.010575</td>\n      <td>101350.246784</td>\n      <td>296.286254</td>\n      <td>40.978426</td>\n      <td>5846.076917</td>\n      <td>-0.592161</td>\n      <td>1.253277</td>\n    </tr>\n    <tr>\n      <th>2</th>\n      <td>65.155238</td>\n      <td>0.011362</td>\n      <td>101356.323834</td>\n      <td>296.169489</td>\n      <td>26.300692</td>\n      <td>5844.275243</td>\n      <td>-0.134711</td>\n      <td>0.403782</td>\n    </tr>\n    <tr>\n      <th>3</th>\n      <td>60.395182</td>\n      <td>0.010248</td>\n      <td>101369.121129</td>\n      <td>296.103358</td>\n      <td>32.084558</td>\n      <td>5839.674516</td>\n      <td>-0.806520</td>\n      <td>0.546426</td>\n    </tr>\n    <tr>\n      <th>4</th>\n      <td>57.806924</td>\n      <td>0.009751</td>\n      <td>101347.279815</td>\n      <td>296.169700</td>\n      <td>9.832121</td>\n      <td>5832.486021</td>\n      <td>-1.184875</td>\n      <td>0.505834</td>\n    </tr>\n    <tr>\n      <th>...</th>\n      <td>...</td>\n      <td>...</td>\n      <td>...</td>\n      <td>...</td>\n      <td>...</td>\n      <td>...</td>\n      <td>...</td>\n      <td>...</td>\n    </tr>\n    <tr>\n      <th>5395</th>\n      <td>23.750633</td>\n      <td>0.002970</td>\n      <td>101302.141374</td>\n      <td>293.075671</td>\n      <td>0.000000</td>\n      <td>5876.260356</td>\n      <td>-0.740769</td>\n      <td>-2.256636</td>\n    </tr>\n    <tr>\n      <th>5396</th>\n      <td>29.214790</td>\n      <td>0.003367</td>\n      <td>101459.139559</td>\n      <td>291.872798</td>\n      <td>0.000000</td>\n      <td>5894.380386</td>\n      <td>-1.123851</td>\n      <td>-1.162281</td>\n    </tr>\n    <tr>\n      <th>5397</th>\n      <td>21.896593</td>\n      <td>0.002699</td>\n      <td>101478.937492</td>\n      <td>292.395750</td>\n      <td>0.123074</td>\n      <td>5896.287601</td>\n      <td>-1.175277</td>\n      <td>-1.708547</td>\n    </tr>\n    <tr>\n      <th>5398</th>\n      <td>20.353844</td>\n      <td>0.003016</td>\n      <td>101402.436448</td>\n      <td>294.935767</td>\n      <td>6.281740</td>\n      <td>5891.267174</td>\n      <td>-1.723271</td>\n      <td>-3.234052</td>\n    </tr>\n    <tr>\n      <th>5399</th>\n      <td>52.437061</td>\n      <td>0.006718</td>\n      <td>101358.414812</td>\n      <td>292.187586</td>\n      <td>45.451645</td>\n      <td>5878.488314</td>\n      <td>-1.739080</td>\n      <td>-0.559472</td>\n    </tr>\n  </tbody>\n</table>\n<p>5400 rows × 8 columns</p>\n</div>"
     },
     "metadata": {},
     "execution_count": 115
    }
   ],
   "source": [
    "df_interp"
   ]
  },
  {
   "cell_type": "code",
   "execution_count": 116,
   "metadata": {},
   "outputs": [],
   "source": [
    "df_interp.to_csv('Hyderabad_interp_updated.csv', index = False)"
   ]
  },
  {
   "cell_type": "code",
   "execution_count": 117,
   "metadata": {},
   "outputs": [],
   "source": [
    "hydi = pd.read_csv('Hyderabad_interp_updated.csv')"
   ]
  },
  {
   "cell_type": "code",
   "execution_count": 118,
   "metadata": {},
   "outputs": [
    {
     "output_type": "execute_result",
     "data": {
      "text/plain": [
       "           HURS      HUSS            PSL         TAS        CLT        ZG500  \\\n",
       "5300  34.447153  0.009357  100607.657492  303.435634  76.500042  5873.172451   \n",
       "5301  32.863943  0.008562  100525.442841  302.937835  81.503189  5855.963461   \n",
       "5302  36.208815  0.008655  100564.079826  301.549788  72.918838  5854.047762   \n",
       "5303  43.051594  0.010465  100648.558869  301.916233  62.647156  5863.856284   \n",
       "5304  43.163411  0.010711  100759.216611  302.297463  86.157087  5877.063288   \n",
       "...         ...       ...            ...         ...        ...          ...   \n",
       "5395  23.750633  0.002970  101302.141374  293.075671   0.000000  5876.260356   \n",
       "5396  29.214790  0.003367  101459.139559  291.872798   0.000000  5894.380386   \n",
       "5397  21.896593  0.002699  101478.937492  292.395750   0.123074  5896.287601   \n",
       "5398  20.353844  0.003016  101402.436448  294.935767   6.281740  5891.267174   \n",
       "5399  52.437061  0.006718  101358.414812  292.187586  45.451645  5878.488314   \n",
       "\n",
       "           UAS       VAS  \n",
       "5300  3.490107 -2.400165  \n",
       "5301  4.194884 -2.053000  \n",
       "5302  3.114209 -1.401020  \n",
       "5303  0.909411 -1.792184  \n",
       "5304  1.605575 -1.109217  \n",
       "...        ...       ...  \n",
       "5395 -0.740769 -2.256636  \n",
       "5396 -1.123851 -1.162281  \n",
       "5397 -1.175277 -1.708547  \n",
       "5398 -1.723271 -3.234052  \n",
       "5399 -1.739080 -0.559472  \n",
       "\n",
       "[100 rows x 8 columns]"
      ],
      "text/html": "<div>\n<style scoped>\n    .dataframe tbody tr th:only-of-type {\n        vertical-align: middle;\n    }\n\n    .dataframe tbody tr th {\n        vertical-align: top;\n    }\n\n    .dataframe thead th {\n        text-align: right;\n    }\n</style>\n<table border=\"1\" class=\"dataframe\">\n  <thead>\n    <tr style=\"text-align: right;\">\n      <th></th>\n      <th>HURS</th>\n      <th>HUSS</th>\n      <th>PSL</th>\n      <th>TAS</th>\n      <th>CLT</th>\n      <th>ZG500</th>\n      <th>UAS</th>\n      <th>VAS</th>\n    </tr>\n  </thead>\n  <tbody>\n    <tr>\n      <th>5300</th>\n      <td>34.447153</td>\n      <td>0.009357</td>\n      <td>100607.657492</td>\n      <td>303.435634</td>\n      <td>76.500042</td>\n      <td>5873.172451</td>\n      <td>3.490107</td>\n      <td>-2.400165</td>\n    </tr>\n    <tr>\n      <th>5301</th>\n      <td>32.863943</td>\n      <td>0.008562</td>\n      <td>100525.442841</td>\n      <td>302.937835</td>\n      <td>81.503189</td>\n      <td>5855.963461</td>\n      <td>4.194884</td>\n      <td>-2.053000</td>\n    </tr>\n    <tr>\n      <th>5302</th>\n      <td>36.208815</td>\n      <td>0.008655</td>\n      <td>100564.079826</td>\n      <td>301.549788</td>\n      <td>72.918838</td>\n      <td>5854.047762</td>\n      <td>3.114209</td>\n      <td>-1.401020</td>\n    </tr>\n    <tr>\n      <th>5303</th>\n      <td>43.051594</td>\n      <td>0.010465</td>\n      <td>100648.558869</td>\n      <td>301.916233</td>\n      <td>62.647156</td>\n      <td>5863.856284</td>\n      <td>0.909411</td>\n      <td>-1.792184</td>\n    </tr>\n    <tr>\n      <th>5304</th>\n      <td>43.163411</td>\n      <td>0.010711</td>\n      <td>100759.216611</td>\n      <td>302.297463</td>\n      <td>86.157087</td>\n      <td>5877.063288</td>\n      <td>1.605575</td>\n      <td>-1.109217</td>\n    </tr>\n    <tr>\n      <th>...</th>\n      <td>...</td>\n      <td>...</td>\n      <td>...</td>\n      <td>...</td>\n      <td>...</td>\n      <td>...</td>\n      <td>...</td>\n      <td>...</td>\n    </tr>\n    <tr>\n      <th>5395</th>\n      <td>23.750633</td>\n      <td>0.002970</td>\n      <td>101302.141374</td>\n      <td>293.075671</td>\n      <td>0.000000</td>\n      <td>5876.260356</td>\n      <td>-0.740769</td>\n      <td>-2.256636</td>\n    </tr>\n    <tr>\n      <th>5396</th>\n      <td>29.214790</td>\n      <td>0.003367</td>\n      <td>101459.139559</td>\n      <td>291.872798</td>\n      <td>0.000000</td>\n      <td>5894.380386</td>\n      <td>-1.123851</td>\n      <td>-1.162281</td>\n    </tr>\n    <tr>\n      <th>5397</th>\n      <td>21.896593</td>\n      <td>0.002699</td>\n      <td>101478.937492</td>\n      <td>292.395750</td>\n      <td>0.123074</td>\n      <td>5896.287601</td>\n      <td>-1.175277</td>\n      <td>-1.708547</td>\n    </tr>\n    <tr>\n      <th>5398</th>\n      <td>20.353844</td>\n      <td>0.003016</td>\n      <td>101402.436448</td>\n      <td>294.935767</td>\n      <td>6.281740</td>\n      <td>5891.267174</td>\n      <td>-1.723271</td>\n      <td>-3.234052</td>\n    </tr>\n    <tr>\n      <th>5399</th>\n      <td>52.437061</td>\n      <td>0.006718</td>\n      <td>101358.414812</td>\n      <td>292.187586</td>\n      <td>45.451645</td>\n      <td>5878.488314</td>\n      <td>-1.739080</td>\n      <td>-0.559472</td>\n    </tr>\n  </tbody>\n</table>\n<p>100 rows × 8 columns</p>\n</div>"
     },
     "metadata": {},
     "execution_count": 118
    }
   ],
   "source": [
    "hydi.tail(100)"
   ]
  },
  {
   "cell_type": "code",
   "execution_count": null,
   "metadata": {},
   "outputs": [],
   "source": []
  },
  {
   "cell_type": "code",
   "execution_count": null,
   "metadata": {},
   "outputs": [],
   "source": []
  }
 ]
}