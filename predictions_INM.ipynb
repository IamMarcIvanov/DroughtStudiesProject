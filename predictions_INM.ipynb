{
  "nbformat": 4,
  "nbformat_minor": 0,
  "metadata": {
    "orig_nbformat": 2,
    "kernelspec": {
      "name": "python3",
      "display_name": "Python 3"
    },
    "colab": {
      "name": "predictions_INM.ipynb",
      "provenance": []
    },
    "language_info": {
      "name": "python"
    }
  },
  "cells": [
    {
      "cell_type": "code",
      "metadata": {
        "id": "mdMOvigPq30F"
      },
      "source": [
        "import pandas as pd\n",
        "import numpy as np\n",
        "from sklearn.linear_model import LinearRegression\n",
        "from sklearn.preprocessing import MinMaxScaler, StandardScaler\n",
        "from sklearn.model_selection import train_test_split\n",
        "from sklearn.metrics import r2_score, mean_absolute_error, mean_squared_error\n",
        "from scipy.stats import norm, skew\n",
        "import seaborn as sns\n",
        "from matplotlib import pyplot as plt\n",
        "from scipy import stats"
      ],
      "execution_count": null,
      "outputs": []
    },
    {
      "cell_type": "code",
      "metadata": {
        "colab": {
          "base_uri": "https://localhost:8080/"
        },
        "id": "QGQfAWc8xi95",
        "outputId": "cd8fc5ed-bbea-4a66-cacb-2057b2d64e46"
      },
      "source": [
        "from google.colab import drive\n",
        "drive.mount('/content/datasets')"
      ],
      "execution_count": null,
      "outputs": [
        {
          "output_type": "stream",
          "text": [
            "Drive already mounted at /content/datasets; to attempt to forcibly remount, call drive.mount(\"/content/datasets\", force_remount=True).\n"
          ],
          "name": "stdout"
        }
      ]
    },
    {
      "cell_type": "code",
      "metadata": {
        "id": "w0ZzEWvIq30N"
      },
      "source": [
        "X = pd.read_csv('/content/datasets/MyDrive/Datasets/INM-CM4-8 Data for Model Creation/Predictors/All Combined/INMCM4-8_historical_predictors_Point_1.csv')\n"
      ],
      "execution_count": null,
      "outputs": []
    },
    {
      "cell_type": "markdown",
      "metadata": {
        "id": "uAH7CzIAITE1"
      },
      "source": [
        "GCM"
      ]
    },
    {
      "cell_type": "code",
      "metadata": {
        "id": "38O5l706GaJt"
      },
      "source": [
        "y = pd.read_csv('/content/datasets/MyDrive/Datasets/INM-CM4-8 Data for Model Creation/Predictors/pr/INMCM4-8_historical_prPoint_1.csv')"
      ],
      "execution_count": null,
      "outputs": []
    },
    {
      "cell_type": "code",
      "metadata": {
        "id": "lAXr3wejIc0N"
      },
      "source": [
        "y = y.head(23725)"
      ],
      "execution_count": null,
      "outputs": []
    },
    {
      "cell_type": "code",
      "metadata": {
        "id": "FQEj3d2IHCi3"
      },
      "source": [
        "X = X.head(23725)"
      ],
      "execution_count": null,
      "outputs": []
    },
    {
      "cell_type": "code",
      "metadata": {
        "id": "PKTWQFQjppjG"
      },
      "source": [
        "yt = y.tail(1825)\n",
        "Xt = X.tail(1825)"
      ],
      "execution_count": null,
      "outputs": []
    },
    {
      "cell_type": "code",
      "metadata": {
        "id": "Uzz6XNmUpYg-"
      },
      "source": [
        "Xt.reset_index(inplace = True, drop = True)\n",
        "yt.reset_index(inplace = True, drop = True)"
      ],
      "execution_count": null,
      "outputs": []
    },
    {
      "cell_type": "code",
      "metadata": {
        "colab": {
          "base_uri": "https://localhost:8080/",
          "height": 415
        },
        "id": "l8S1jt_5p3Em",
        "outputId": "8891b112-bf62-494e-e018-b6b64cf29916"
      },
      "source": [
        "yt"
      ],
      "execution_count": null,
      "outputs": [
        {
          "output_type": "execute_result",
          "data": {
            "text/html": [
              "<div>\n",
              "<style scoped>\n",
              "    .dataframe tbody tr th:only-of-type {\n",
              "        vertical-align: middle;\n",
              "    }\n",
              "\n",
              "    .dataframe tbody tr th {\n",
              "        vertical-align: top;\n",
              "    }\n",
              "\n",
              "    .dataframe thead th {\n",
              "        text-align: right;\n",
              "    }\n",
              "</style>\n",
              "<table border=\"1\" class=\"dataframe\">\n",
              "  <thead>\n",
              "    <tr style=\"text-align: right;\">\n",
              "      <th></th>\n",
              "      <th>bnds</th>\n",
              "      <th>time</th>\n",
              "      <th>pr</th>\n",
              "      <th>lon</th>\n",
              "      <th>lat</th>\n",
              "    </tr>\n",
              "  </thead>\n",
              "  <tbody>\n",
              "    <tr>\n",
              "      <th>0</th>\n",
              "      <td>0</td>\n",
              "      <td>2010-01-01 12:00:00</td>\n",
              "      <td>1.608282e-05</td>\n",
              "      <td>81.75</td>\n",
              "      <td>16.5</td>\n",
              "    </tr>\n",
              "    <tr>\n",
              "      <th>1</th>\n",
              "      <td>0</td>\n",
              "      <td>2010-01-02 12:00:00</td>\n",
              "      <td>4.876888e-05</td>\n",
              "      <td>81.75</td>\n",
              "      <td>16.5</td>\n",
              "    </tr>\n",
              "    <tr>\n",
              "      <th>2</th>\n",
              "      <td>0</td>\n",
              "      <td>2010-01-03 12:00:00</td>\n",
              "      <td>5.322513e-05</td>\n",
              "      <td>81.75</td>\n",
              "      <td>16.5</td>\n",
              "    </tr>\n",
              "    <tr>\n",
              "      <th>3</th>\n",
              "      <td>0</td>\n",
              "      <td>2010-01-04 12:00:00</td>\n",
              "      <td>7.419592e-05</td>\n",
              "      <td>81.75</td>\n",
              "      <td>16.5</td>\n",
              "    </tr>\n",
              "    <tr>\n",
              "      <th>4</th>\n",
              "      <td>0</td>\n",
              "      <td>2010-01-05 12:00:00</td>\n",
              "      <td>6.479450e-05</td>\n",
              "      <td>81.75</td>\n",
              "      <td>16.5</td>\n",
              "    </tr>\n",
              "    <tr>\n",
              "      <th>...</th>\n",
              "      <td>...</td>\n",
              "      <td>...</td>\n",
              "      <td>...</td>\n",
              "      <td>...</td>\n",
              "      <td>...</td>\n",
              "    </tr>\n",
              "    <tr>\n",
              "      <th>1820</th>\n",
              "      <td>0</td>\n",
              "      <td>2014-12-27 12:00:00</td>\n",
              "      <td>6.052207e-07</td>\n",
              "      <td>81.75</td>\n",
              "      <td>16.5</td>\n",
              "    </tr>\n",
              "    <tr>\n",
              "      <th>1821</th>\n",
              "      <td>0</td>\n",
              "      <td>2014-12-28 12:00:00</td>\n",
              "      <td>2.125865e-06</td>\n",
              "      <td>81.75</td>\n",
              "      <td>16.5</td>\n",
              "    </tr>\n",
              "    <tr>\n",
              "      <th>1822</th>\n",
              "      <td>0</td>\n",
              "      <td>2014-12-29 12:00:00</td>\n",
              "      <td>1.470041e-05</td>\n",
              "      <td>81.75</td>\n",
              "      <td>16.5</td>\n",
              "    </tr>\n",
              "    <tr>\n",
              "      <th>1823</th>\n",
              "      <td>0</td>\n",
              "      <td>2014-12-30 12:00:00</td>\n",
              "      <td>7.203627e-05</td>\n",
              "      <td>81.75</td>\n",
              "      <td>16.5</td>\n",
              "    </tr>\n",
              "    <tr>\n",
              "      <th>1824</th>\n",
              "      <td>0</td>\n",
              "      <td>2014-12-31 12:00:00</td>\n",
              "      <td>1.291530e-04</td>\n",
              "      <td>81.75</td>\n",
              "      <td>16.5</td>\n",
              "    </tr>\n",
              "  </tbody>\n",
              "</table>\n",
              "<p>1825 rows × 5 columns</p>\n",
              "</div>"
            ],
            "text/plain": [
              "      bnds                 time            pr    lon   lat\n",
              "0        0  2010-01-01 12:00:00  1.608282e-05  81.75  16.5\n",
              "1        0  2010-01-02 12:00:00  4.876888e-05  81.75  16.5\n",
              "2        0  2010-01-03 12:00:00  5.322513e-05  81.75  16.5\n",
              "3        0  2010-01-04 12:00:00  7.419592e-05  81.75  16.5\n",
              "4        0  2010-01-05 12:00:00  6.479450e-05  81.75  16.5\n",
              "...    ...                  ...           ...    ...   ...\n",
              "1820     0  2014-12-27 12:00:00  6.052207e-07  81.75  16.5\n",
              "1821     0  2014-12-28 12:00:00  2.125865e-06  81.75  16.5\n",
              "1822     0  2014-12-29 12:00:00  1.470041e-05  81.75  16.5\n",
              "1823     0  2014-12-30 12:00:00  7.203627e-05  81.75  16.5\n",
              "1824     0  2014-12-31 12:00:00  1.291530e-04  81.75  16.5\n",
              "\n",
              "[1825 rows x 5 columns]"
            ]
          },
          "metadata": {
            "tags": []
          },
          "execution_count": 303
        }
      ]
    },
    {
      "cell_type": "code",
      "metadata": {
        "id": "Vk1X86_nH2B6",
        "colab": {
          "base_uri": "https://localhost:8080/",
          "height": 415
        },
        "outputId": "1e5165c5-d0e1-4daa-d839-389a35b042f8"
      },
      "source": [
        "X"
      ],
      "execution_count": null,
      "outputs": [
        {
          "output_type": "execute_result",
          "data": {
            "text/html": [
              "<div>\n",
              "<style scoped>\n",
              "    .dataframe tbody tr th:only-of-type {\n",
              "        vertical-align: middle;\n",
              "    }\n",
              "\n",
              "    .dataframe tbody tr th {\n",
              "        vertical-align: top;\n",
              "    }\n",
              "\n",
              "    .dataframe thead th {\n",
              "        text-align: right;\n",
              "    }\n",
              "</style>\n",
              "<table border=\"1\" class=\"dataframe\">\n",
              "  <thead>\n",
              "    <tr style=\"text-align: right;\">\n",
              "      <th></th>\n",
              "      <th>Unnamed: 0</th>\n",
              "      <th>huss</th>\n",
              "      <th>psl</th>\n",
              "      <th>tas</th>\n",
              "      <th>uas</th>\n",
              "      <th>vas</th>\n",
              "      <th>lon</th>\n",
              "      <th>lat</th>\n",
              "      <th>time</th>\n",
              "    </tr>\n",
              "  </thead>\n",
              "  <tbody>\n",
              "    <tr>\n",
              "      <th>0</th>\n",
              "      <td>0</td>\n",
              "      <td>0.012381</td>\n",
              "      <td>101068.536296</td>\n",
              "      <td>297.404644</td>\n",
              "      <td>-2.123575</td>\n",
              "      <td>-0.107413</td>\n",
              "      <td>81.75</td>\n",
              "      <td>17.0</td>\n",
              "      <td>1950-01-01 12:00:00</td>\n",
              "    </tr>\n",
              "    <tr>\n",
              "      <th>1</th>\n",
              "      <td>1</td>\n",
              "      <td>0.013280</td>\n",
              "      <td>101145.763509</td>\n",
              "      <td>297.270966</td>\n",
              "      <td>-3.350186</td>\n",
              "      <td>-0.024253</td>\n",
              "      <td>81.75</td>\n",
              "      <td>17.0</td>\n",
              "      <td>1950-01-02 12:00:00</td>\n",
              "    </tr>\n",
              "    <tr>\n",
              "      <th>2</th>\n",
              "      <td>2</td>\n",
              "      <td>0.013705</td>\n",
              "      <td>101146.631185</td>\n",
              "      <td>298.022601</td>\n",
              "      <td>-2.959735</td>\n",
              "      <td>0.781811</td>\n",
              "      <td>81.75</td>\n",
              "      <td>17.0</td>\n",
              "      <td>1950-01-03 12:00:00</td>\n",
              "    </tr>\n",
              "    <tr>\n",
              "      <th>3</th>\n",
              "      <td>3</td>\n",
              "      <td>0.014431</td>\n",
              "      <td>101069.650391</td>\n",
              "      <td>297.847212</td>\n",
              "      <td>-1.889608</td>\n",
              "      <td>1.897249</td>\n",
              "      <td>81.75</td>\n",
              "      <td>17.0</td>\n",
              "      <td>1950-01-04 12:00:00</td>\n",
              "    </tr>\n",
              "    <tr>\n",
              "      <th>4</th>\n",
              "      <td>4</td>\n",
              "      <td>0.015225</td>\n",
              "      <td>101146.719727</td>\n",
              "      <td>297.957518</td>\n",
              "      <td>-0.930503</td>\n",
              "      <td>1.695759</td>\n",
              "      <td>81.75</td>\n",
              "      <td>17.0</td>\n",
              "      <td>1950-01-05 12:00:00</td>\n",
              "    </tr>\n",
              "    <tr>\n",
              "      <th>...</th>\n",
              "      <td>...</td>\n",
              "      <td>...</td>\n",
              "      <td>...</td>\n",
              "      <td>...</td>\n",
              "      <td>...</td>\n",
              "      <td>...</td>\n",
              "      <td>...</td>\n",
              "      <td>...</td>\n",
              "      <td>...</td>\n",
              "    </tr>\n",
              "    <tr>\n",
              "      <th>23720</th>\n",
              "      <td>23720</td>\n",
              "      <td>0.010824</td>\n",
              "      <td>100874.525065</td>\n",
              "      <td>294.895886</td>\n",
              "      <td>-0.801686</td>\n",
              "      <td>-2.816590</td>\n",
              "      <td>81.75</td>\n",
              "      <td>17.0</td>\n",
              "      <td>2014-12-27 12:00:00</td>\n",
              "    </tr>\n",
              "    <tr>\n",
              "      <th>23721</th>\n",
              "      <td>23721</td>\n",
              "      <td>0.012172</td>\n",
              "      <td>101156.384277</td>\n",
              "      <td>295.875663</td>\n",
              "      <td>-2.525290</td>\n",
              "      <td>-0.496604</td>\n",
              "      <td>81.75</td>\n",
              "      <td>17.0</td>\n",
              "      <td>2014-12-28 12:00:00</td>\n",
              "    </tr>\n",
              "    <tr>\n",
              "      <th>23722</th>\n",
              "      <td>23722</td>\n",
              "      <td>0.014495</td>\n",
              "      <td>101144.322917</td>\n",
              "      <td>297.260679</td>\n",
              "      <td>-2.410954</td>\n",
              "      <td>-0.359690</td>\n",
              "      <td>81.75</td>\n",
              "      <td>17.0</td>\n",
              "      <td>2014-12-29 12:00:00</td>\n",
              "    </tr>\n",
              "    <tr>\n",
              "      <th>23723</th>\n",
              "      <td>23723</td>\n",
              "      <td>0.016609</td>\n",
              "      <td>101058.521810</td>\n",
              "      <td>297.348623</td>\n",
              "      <td>-2.804721</td>\n",
              "      <td>-0.046820</td>\n",
              "      <td>81.75</td>\n",
              "      <td>17.0</td>\n",
              "      <td>2014-12-30 12:00:00</td>\n",
              "    </tr>\n",
              "    <tr>\n",
              "      <th>23724</th>\n",
              "      <td>23724</td>\n",
              "      <td>0.017526</td>\n",
              "      <td>101049.638346</td>\n",
              "      <td>297.452113</td>\n",
              "      <td>-3.290217</td>\n",
              "      <td>0.699481</td>\n",
              "      <td>81.75</td>\n",
              "      <td>17.0</td>\n",
              "      <td>2014-12-31 12:00:00</td>\n",
              "    </tr>\n",
              "  </tbody>\n",
              "</table>\n",
              "<p>23725 rows × 9 columns</p>\n",
              "</div>"
            ],
            "text/plain": [
              "       Unnamed: 0      huss            psl  ...    lon   lat                 time\n",
              "0               0  0.012381  101068.536296  ...  81.75  17.0  1950-01-01 12:00:00\n",
              "1               1  0.013280  101145.763509  ...  81.75  17.0  1950-01-02 12:00:00\n",
              "2               2  0.013705  101146.631185  ...  81.75  17.0  1950-01-03 12:00:00\n",
              "3               3  0.014431  101069.650391  ...  81.75  17.0  1950-01-04 12:00:00\n",
              "4               4  0.015225  101146.719727  ...  81.75  17.0  1950-01-05 12:00:00\n",
              "...           ...       ...            ...  ...    ...   ...                  ...\n",
              "23720       23720  0.010824  100874.525065  ...  81.75  17.0  2014-12-27 12:00:00\n",
              "23721       23721  0.012172  101156.384277  ...  81.75  17.0  2014-12-28 12:00:00\n",
              "23722       23722  0.014495  101144.322917  ...  81.75  17.0  2014-12-29 12:00:00\n",
              "23723       23723  0.016609  101058.521810  ...  81.75  17.0  2014-12-30 12:00:00\n",
              "23724       23724  0.017526  101049.638346  ...  81.75  17.0  2014-12-31 12:00:00\n",
              "\n",
              "[23725 rows x 9 columns]"
            ]
          },
          "metadata": {
            "tags": []
          },
          "execution_count": 204
        }
      ]
    },
    {
      "cell_type": "code",
      "metadata": {
        "id": "M910dSGjHdTF",
        "colab": {
          "base_uri": "https://localhost:8080/",
          "height": 415
        },
        "outputId": "0b2c5eca-b38f-4888-e134-2e664bedcd2c"
      },
      "source": [
        "y"
      ],
      "execution_count": null,
      "outputs": [
        {
          "output_type": "execute_result",
          "data": {
            "text/html": [
              "<div>\n",
              "<style scoped>\n",
              "    .dataframe tbody tr th:only-of-type {\n",
              "        vertical-align: middle;\n",
              "    }\n",
              "\n",
              "    .dataframe tbody tr th {\n",
              "        vertical-align: top;\n",
              "    }\n",
              "\n",
              "    .dataframe thead th {\n",
              "        text-align: right;\n",
              "    }\n",
              "</style>\n",
              "<table border=\"1\" class=\"dataframe\">\n",
              "  <thead>\n",
              "    <tr style=\"text-align: right;\">\n",
              "      <th></th>\n",
              "      <th>bnds</th>\n",
              "      <th>time</th>\n",
              "      <th>pr</th>\n",
              "      <th>lon</th>\n",
              "      <th>lat</th>\n",
              "    </tr>\n",
              "  </thead>\n",
              "  <tbody>\n",
              "    <tr>\n",
              "      <th>0</th>\n",
              "      <td>0</td>\n",
              "      <td>1950-01-01 12:00:00</td>\n",
              "      <td>3.618718e-08</td>\n",
              "      <td>81.75</td>\n",
              "      <td>17.0</td>\n",
              "    </tr>\n",
              "    <tr>\n",
              "      <th>1</th>\n",
              "      <td>0</td>\n",
              "      <td>1950-01-02 12:00:00</td>\n",
              "      <td>4.147676e-09</td>\n",
              "      <td>81.75</td>\n",
              "      <td>17.0</td>\n",
              "    </tr>\n",
              "    <tr>\n",
              "      <th>2</th>\n",
              "      <td>0</td>\n",
              "      <td>1950-01-03 12:00:00</td>\n",
              "      <td>1.395377e-06</td>\n",
              "      <td>81.75</td>\n",
              "      <td>17.0</td>\n",
              "    </tr>\n",
              "    <tr>\n",
              "      <th>3</th>\n",
              "      <td>0</td>\n",
              "      <td>1950-01-04 12:00:00</td>\n",
              "      <td>1.421323e-05</td>\n",
              "      <td>81.75</td>\n",
              "      <td>17.0</td>\n",
              "    </tr>\n",
              "    <tr>\n",
              "      <th>4</th>\n",
              "      <td>0</td>\n",
              "      <td>1950-01-05 12:00:00</td>\n",
              "      <td>1.569507e-05</td>\n",
              "      <td>81.75</td>\n",
              "      <td>17.0</td>\n",
              "    </tr>\n",
              "    <tr>\n",
              "      <th>...</th>\n",
              "      <td>...</td>\n",
              "      <td>...</td>\n",
              "      <td>...</td>\n",
              "      <td>...</td>\n",
              "      <td>...</td>\n",
              "    </tr>\n",
              "    <tr>\n",
              "      <th>23720</th>\n",
              "      <td>0</td>\n",
              "      <td>2014-12-27 12:00:00</td>\n",
              "      <td>1.008701e-06</td>\n",
              "      <td>81.75</td>\n",
              "      <td>17.0</td>\n",
              "    </tr>\n",
              "    <tr>\n",
              "      <th>23721</th>\n",
              "      <td>0</td>\n",
              "      <td>2014-12-28 12:00:00</td>\n",
              "      <td>7.209615e-07</td>\n",
              "      <td>81.75</td>\n",
              "      <td>17.0</td>\n",
              "    </tr>\n",
              "    <tr>\n",
              "      <th>23722</th>\n",
              "      <td>0</td>\n",
              "      <td>2014-12-29 12:00:00</td>\n",
              "      <td>1.890282e-05</td>\n",
              "      <td>81.75</td>\n",
              "      <td>17.0</td>\n",
              "    </tr>\n",
              "    <tr>\n",
              "      <th>23723</th>\n",
              "      <td>0</td>\n",
              "      <td>2014-12-30 12:00:00</td>\n",
              "      <td>6.491132e-05</td>\n",
              "      <td>81.75</td>\n",
              "      <td>17.0</td>\n",
              "    </tr>\n",
              "    <tr>\n",
              "      <th>23724</th>\n",
              "      <td>0</td>\n",
              "      <td>2014-12-31 12:00:00</td>\n",
              "      <td>1.446928e-04</td>\n",
              "      <td>81.75</td>\n",
              "      <td>17.0</td>\n",
              "    </tr>\n",
              "  </tbody>\n",
              "</table>\n",
              "<p>23725 rows × 5 columns</p>\n",
              "</div>"
            ],
            "text/plain": [
              "       bnds                 time            pr    lon   lat\n",
              "0         0  1950-01-01 12:00:00  3.618718e-08  81.75  17.0\n",
              "1         0  1950-01-02 12:00:00  4.147676e-09  81.75  17.0\n",
              "2         0  1950-01-03 12:00:00  1.395377e-06  81.75  17.0\n",
              "3         0  1950-01-04 12:00:00  1.421323e-05  81.75  17.0\n",
              "4         0  1950-01-05 12:00:00  1.569507e-05  81.75  17.0\n",
              "...     ...                  ...           ...    ...   ...\n",
              "23720     0  2014-12-27 12:00:00  1.008701e-06  81.75  17.0\n",
              "23721     0  2014-12-28 12:00:00  7.209615e-07  81.75  17.0\n",
              "23722     0  2014-12-29 12:00:00  1.890282e-05  81.75  17.0\n",
              "23723     0  2014-12-30 12:00:00  6.491132e-05  81.75  17.0\n",
              "23724     0  2014-12-31 12:00:00  1.446928e-04  81.75  17.0\n",
              "\n",
              "[23725 rows x 5 columns]"
            ]
          },
          "metadata": {
            "tags": []
          },
          "execution_count": 205
        }
      ]
    },
    {
      "cell_type": "code",
      "metadata": {
        "id": "xAfilZLiq30O"
      },
      "source": [
        "X = X.loc[:, 'huss':'vas']\n",
        "Xt = Xt.loc[:, 'huss':'vas']"
      ],
      "execution_count": null,
      "outputs": []
    },
    {
      "cell_type": "code",
      "metadata": {
        "id": "gd-c0ToIT-_q"
      },
      "source": [
        "X = StandardScaler().fit_transform(X)"
      ],
      "execution_count": null,
      "outputs": []
    },
    {
      "cell_type": "code",
      "metadata": {
        "id": "vwQkD_twrVRx"
      },
      "source": [
        "Xt = StandardScaler().fit_transform(Xt)"
      ],
      "execution_count": null,
      "outputs": []
    },
    {
      "cell_type": "code",
      "metadata": {
        "id": "8HXgeAWsUAbm",
        "colab": {
          "base_uri": "https://localhost:8080/"
        },
        "outputId": "2ca6063d-dded-4484-b55b-5c656fa41534"
      },
      "source": [
        "X"
      ],
      "execution_count": null,
      "outputs": [
        {
          "output_type": "execute_result",
          "data": {
            "text/plain": [
              "array([[-1.07112641,  0.83790507, -0.39673989, -1.18377048, -0.96487368],\n",
              "       [-0.73774667,  1.03968469, -0.47913089, -1.7549108 , -1.02965533],\n",
              "       [-0.62625682,  1.05944134, -0.31163429, -1.53696677, -0.60718844],\n",
              "       ...,\n",
              "       [-0.44940448,  1.01926316, -0.57185187, -1.25049189, -1.11583707],\n",
              "       [ 0.12937699,  0.81496299, -0.4955298 , -1.4302162 , -0.98202568],\n",
              "       [ 0.2285659 ,  0.81116344, -0.48826048, -1.71742922, -0.58750523]])"
            ]
          },
          "metadata": {
            "tags": []
          },
          "execution_count": 231
        }
      ]
    },
    {
      "cell_type": "code",
      "metadata": {
        "id": "I1OVr2yRq30O"
      },
      "source": [
        "y = y.loc[:, 'pr']\n",
        "yt = yt.loc[:, 'pr']"
      ],
      "execution_count": null,
      "outputs": []
    },
    {
      "cell_type": "code",
      "metadata": {
        "id": "UmnrIEXcFfqU",
        "colab": {
          "base_uri": "https://localhost:8080/"
        },
        "outputId": "97908b1a-401e-48d0-cf24-f8db5d579d9e"
      },
      "source": [
        "yt"
      ],
      "execution_count": null,
      "outputs": [
        {
          "output_type": "execute_result",
          "data": {
            "text/plain": [
              "0       1.608282e-05\n",
              "1       4.876888e-05\n",
              "2       5.322513e-05\n",
              "3       7.419592e-05\n",
              "4       6.479450e-05\n",
              "            ...     \n",
              "1820    6.052207e-07\n",
              "1821    2.125865e-06\n",
              "1822    1.470041e-05\n",
              "1823    7.203627e-05\n",
              "1824    1.291530e-04\n",
              "Name: pr, Length: 1825, dtype: float64"
            ]
          },
          "metadata": {
            "tags": []
          },
          "execution_count": 308
        }
      ]
    },
    {
      "cell_type": "code",
      "metadata": {
        "colab": {
          "base_uri": "https://localhost:8080/"
        },
        "id": "NY6fOriTq30O",
        "outputId": "1160e6da-c183-4ae8-f89a-379770526b52"
      },
      "source": [
        "np.any(np.isnan(y))"
      ],
      "execution_count": null,
      "outputs": [
        {
          "output_type": "execute_result",
          "data": {
            "text/plain": [
              "False"
            ]
          },
          "metadata": {
            "tags": []
          },
          "execution_count": 289
        }
      ]
    },
    {
      "cell_type": "code",
      "metadata": {
        "id": "FSye1h1l2gKW"
      },
      "source": [
        "X_train, X_test, y_train, y_test = train_test_split(X, y, test_size=0.20, random_state=42)"
      ],
      "execution_count": null,
      "outputs": []
    },
    {
      "cell_type": "code",
      "metadata": {
        "colab": {
          "base_uri": "https://localhost:8080/",
          "height": 351
        },
        "id": "4_QOx48Iq30R",
        "outputId": "91503349-38c8-4329-8667-a2c7f72171d2"
      },
      "source": [
        "sns.distplot(y, fit = norm, kde = True, color = 'blue')\n",
        "plt.plot()\n",
        "print('The skew of this distribution is = ', skew(y))"
      ],
      "execution_count": null,
      "outputs": [
        {
          "output_type": "stream",
          "text": [
            "/usr/local/lib/python3.7/dist-packages/seaborn/distributions.py:2557: FutureWarning: `distplot` is a deprecated function and will be removed in a future version. Please adapt your code to use either `displot` (a figure-level function with similar flexibility) or `histplot` (an axes-level function for histograms).\n",
            "  warnings.warn(msg, FutureWarning)\n"
          ],
          "name": "stderr"
        },
        {
          "output_type": "stream",
          "text": [
            "The skew of this distribution is =  4.522709806204632\n"
          ],
          "name": "stdout"
        },
        {
          "output_type": "display_data",
          "data": {
            "image/png": "[encoded data removed]",
            "text/plain": [
              "<Figure size 432x288 with 1 Axes>"
            ]
          },
          "metadata": {
            "tags": [],
            "needs_background": "light"
          }
        }
      ]
    },
    {
      "cell_type": "code",
      "metadata": {
        "id": "aEJ_iCx1q30S"
      },
      "source": [
        "model = LinearRegression()"
      ],
      "execution_count": null,
      "outputs": []
    },
    {
      "cell_type": "code",
      "metadata": {
        "colab": {
          "base_uri": "https://localhost:8080/"
        },
        "id": "ygZcM9Suq30T",
        "outputId": "2fc4130c-0f67-46e3-a360-bf842e7d8db8"
      },
      "source": [
        "model.fit(X, y)"
      ],
      "execution_count": null,
      "outputs": [
        {
          "output_type": "execute_result",
          "data": {
            "text/plain": [
              "LinearRegression(copy_X=True, fit_intercept=True, n_jobs=None, normalize=False)"
            ]
          },
          "metadata": {
            "tags": []
          },
          "execution_count": 311
        }
      ]
    },
    {
      "cell_type": "code",
      "metadata": {
        "id": "84Sa0UHLq30T"
      },
      "source": [
        "predictions = model.predict(X_test)"
      ],
      "execution_count": null,
      "outputs": []
    },
    {
      "cell_type": "code",
      "metadata": {
        "id": "fPlrUDJdq30T"
      },
      "source": [
        "predictions = np.where(predictions<=0, 0, predictions)\n",
        "predictions = predictions"
      ],
      "execution_count": null,
      "outputs": []
    },
    {
      "cell_type": "code",
      "metadata": {
        "colab": {
          "base_uri": "https://localhost:8080/"
        },
        "id": "0ekrk1uaq30T",
        "outputId": "56123d5a-8007-4310-f36b-ee349f3cf7a9"
      },
      "source": [
        "print('Point6: ')\n",
        "print(f'The Root Mean Square error is: {np.sqrt(mean_squared_error(y_test, predictions))}')\n",
        "print(f'The Mean Absolute error is: {mean_absolute_error(y_test, predictions)}')\n",
        "print(f'The R2 Score is: {r2_score(y_test, predictions)}')"
      ],
      "execution_count": null,
      "outputs": [
        {
          "output_type": "stream",
          "text": [
            "Point6: \n",
            "The Root Mean Square error is: 6.553319699141803e-05\n",
            "The Mean Absolute error is: 3.309475157534645e-05\n",
            "The R2 Score is: 0.4321295606347135\n"
          ],
          "name": "stdout"
        }
      ]
    },
    {
      "cell_type": "code",
      "metadata": {
        "id": "jJTwsUJcqkX-"
      },
      "source": [
        "forecast = model.predict(Xt)\n",
        "forecast = pd.DataFrame(forecast)\n",
        "forecast = forecast.set_index(yt.index)"
      ],
      "execution_count": null,
      "outputs": []
    },
    {
      "cell_type": "code",
      "metadata": {
        "colab": {
          "base_uri": "https://localhost:8080/",
          "height": 265
        },
        "id": "7uj8wAJpqsG8",
        "outputId": "f19ee5af-7e1e-4474-c318-e8c5e752a64c"
      },
      "source": [
        "# fig, ax = plt.subplots()\n",
        "plt.plot(yt ,'b', label='Actual')\n",
        "plt.plot(forecast, 'r', label='Forecast')\n",
        "# ax.axis('equal')\n",
        "leg = plt.legend();"
      ],
      "execution_count": null,
      "outputs": [
        {
          "output_type": "display_data",
          "data": {
            "image/png": "[encoded data removed]",
            "text/plain": [
              "<Figure size 432x288 with 1 Axes>"
            ]
          },
          "metadata": {
            "tags": [],
            "needs_background": "light"
          }
        }
      ]
    },
    {
      "cell_type": "code",
      "metadata": {
        "id": "HqjTgOqHe8Oo"
      },
      "source": [
        "data = [0.4322, 0.4092, 0.4435, 0.4234, 0.4381, 0.4467]"
      ],
      "execution_count": null,
      "outputs": []
    },
    {
      "cell_type": "code",
      "metadata": {
        "colab": {
          "base_uri": "https://localhost:8080/",
          "height": 223
        },
        "id": "UDvnOSp0fOJr",
        "outputId": "b6551499-2bbd-4b4b-ade2-f8611acc37b0"
      },
      "source": [
        "fig = plt.figure(figsize =(3,2))\n",
        "ax = fig.add_axes([0, 0, 1, 1])\n",
        "bp = ax.boxplot(data)\n",
        "ax.set_xlabel('INM-CM4-8')"
      ],
      "execution_count": null,
      "outputs": [
        {
          "output_type": "execute_result",
          "data": {
            "text/plain": [
              "Text(0.5, 0, 'INM-CM4-8')"
            ]
          },
          "metadata": {
            "tags": []
          },
          "execution_count": 119
        },
        {
          "output_type": "display_data",
          "data": {
            "image/png": "[encoded data removed]",
            "text/plain": [
              "<Figure size 216x144 with 1 Axes>"
            ]
          },
          "metadata": {
            "tags": [],
            "needs_background": "light"
          }
        }
      ]
    }
  ]
}